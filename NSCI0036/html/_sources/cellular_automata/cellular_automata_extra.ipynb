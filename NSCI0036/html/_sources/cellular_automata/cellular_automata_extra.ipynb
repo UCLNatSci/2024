{
 "cells": [
  {
   "cell_type": "markdown",
   "metadata": {},
   "source": [
    "# Exercises\n",
    "\n",
    "## Game of Life\n",
    "\n",
    ":::{exercise}\n",
    ":label: ex_game_of_life\n",
    "\n",
    "Use your answer to {numref}`exercise_5_5` to create a Python notebook which simulates the Game of Life. The notebook should be well-organised with import statements, functions and executable code clearly separated.\n",
    "\n",
    "Investigate how the long-term behaviour of the simulation depends on the initial conditions. Can you find initial states that result in the following?  \n",
    "\n",
    "1. All life eventually dying out\n",
    "1. A pattern which eventually stays constant\n",
    "1. A pattern which eventually repeats in a cyclic manner\n",
    "1. A pattern which grows indefinitely\n",
    "\n",
    "Use markdown cells to clearly explain your answers.\n",
    "\n",
    ":::\n",
    "\n",
    "## Diffusion Model\n",
    "\n",
    ":::{exercise}\n",
    ":label: exercise_5_6\n",
    "\n",
    "Adapt your diffusion model code so that it stores the result in a 3d array `z`. Each slice `z[i,:,:]` should be an `n` by `n` array representing the concentration of the region at timestep `i`.\n",
    "\n",
    "```\n",
    "N = 20 # number of time steps\n",
    "n = 10 # size of region\n",
    "z = np.zeros((N, n, n))\n",
    "\n",
    "z[0,:,:] = # the inital concentrations\n",
    "\n",
    "for i in range(N):\n",
    "    # set z[i,:,:] to the value of the next moving average\n",
    "\n",
    "```\n",
    "\n",
    "Then create line graphs which show the concentration at a point  \n",
    "1\\. At the centre  \n",
    "2\\. Near the edge  \n",
    "\n",
    "Over time. What is the long-term average concentration at each point?\n",
    ":::\n",
    "\n",
    "\n",
    "\n",
    ":::{exercise}\n",
    ":label: exercise_5_7\n",
    "\n",
    "Build a more realistic model of 2-dimensional diffusion. Assume that at each timestep a fraction $d$ of the concentration in each cell leaks into each of the 8 surrounding cells. This happens in both directions, so that the value $x_{i,j}$ in the next timestep is given by\n",
    "\n",
    "$$\n",
    " x_{i,j} - \\mathrm{flow~out~of~cell~} i,j + \\mathrm{flow~into~cell~} i, j\n",
    " $$\n",
    " $$\n",
    "\n",
    "=x_{i,j} - 8d \\times x_{i,j} + d \\times (\\mathrm{sum~of~neighbouring~8~cells}).\n",
    "$$\n",
    "Build a diffusion model based on the above. Experiment with different values of $d$.\n",
    ":::"
   ]
  },
  {
   "cell_type": "markdown",
   "metadata": {},
   "source": [
    "<!-- ### Game of Life\n",
    "\n",
    "There are many many possible computational investigations you can undertake related to the Game of Life. A couple of this to try are given below, but you are encouraged to read about Game of Life and come up with your own ideas.\n",
    "\n",
    ":::{exercise}\n",
    "\n",
    "Sometimes the game of life eventually settles down to a constant terminal state. Write a function `terminal_state(x)` which returns the final state corresponding to the initial state `x`.\n",
    "\n",
    "NOTE: You'll have to determine what to do in the case that no terminal state is ever reached!\n",
    ":::\n",
    "\n",
    ":::{exercise} Challenge\n",
    "\n",
    "Sometimes the game of life eventually settles down to a sequence of periodically repeating states. Write a function `cycle_period(x)` which returns the number of states in the cycle corresponding to starting state `x`.\n",
    ":::\n",
    "\n",
    "-->\n",
    "\n"
   ]
  },
  {
   "cell_type": "markdown",
   "metadata": {
    "collapsed": false
   },
   "source": [
    "\n",
    "```{footbibliography}\n",
    "```"
   ]
  }
 ],
 "metadata": {
  "kernelspec": {
   "display_name": "Python 3.7.9 64-bit (microsoft store)",
   "language": "python",
   "name": "python3"
  },
  "language_info": {
   "name": "python",
   "version": "3.7.9"
  },
  "orig_nbformat": 4,
  "vscode": {
   "interpreter": {
    "hash": "7f871366baaeb23d5e2a586caa18124c1371cc3d3832dcd001f8f599e1be9e29"
   }
  }
 },
 "nbformat": 4,
 "nbformat_minor": 2
}
