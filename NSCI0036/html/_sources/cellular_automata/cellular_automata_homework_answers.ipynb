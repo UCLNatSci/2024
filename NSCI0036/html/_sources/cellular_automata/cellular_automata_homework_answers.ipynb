{
 "cells": [
  {
   "attachments": {},
   "cell_type": "markdown",
   "metadata": {},
   "source": [
    "# Solution (5.6)\n",
    "\n",
    ":::{solution} ex_game_of_life\n",
    ":::\n",
    "\n",
    "This notebook implements the Game of Life on a two-dimensional grid. To download this notebook, use the 'download' button at the top right."
   ]
  },
  {
   "cell_type": "code",
   "execution_count": 3,
   "metadata": {},
   "outputs": [],
   "source": [
    "import numpy as np\n",
    "import matplotlib.pyplot as plt\n",
    "\n",
    "# Return the number of live neighbours of\n",
    "# cell i,j of array x\n",
    "def count_neighbours(x, i, j):\n",
    "    sub_array = x[i-1:i+2,j-1:j+2]\n",
    "    return np.sum(sub_array) - x[i,j]\n",
    "\n",
    "# Apply the Game of Life rules to \n",
    "# the array x and return the resulting array\n",
    "def advance(x):\n",
    "    # create empty array of correct dimensions\n",
    "    n, m = x.shape\n",
    "    result = np.zeros((n, m))\n",
    "    \n",
    "    # fill in array\n",
    "    for i in range(1, n-1):\n",
    "        for j in range(1, m-1):\n",
    "            # count the neighbours of cell i, j\n",
    "            c = count_neighbours(x, i, j)\n",
    "            # implement the Game of Life rules:\n",
    "\n",
    "            # If the cell is dead...\n",
    "            if x[i,j] == 0:\n",
    "                if c == 3:\n",
    "                # ...and has exactly 3 neighbours,\n",
    "                    # the cell becomes alive.\n",
    "                    result[i,j] = 1\n",
    "            # If the cell is alive...\n",
    "            else:\n",
    "                # ... and has 2 or 3 neighbours,\n",
    "                if c == 2 or c == 3:\n",
    "                    # the cell stays alive.\n",
    "                    result[i,j] = 1 \n",
    "    return result\n",
    "\n",
    "# Execute the Game of Life for num steps,\n",
    "# starting from the initial array x\n",
    "def execute_gol(x, num):\n",
    "\n",
    "    fig, axes = plt.subplots(1, num+1, figsize=(10,2))\n",
    "\n",
    "    # Plot initial grid\n",
    "    axes[0].imshow(x)\n",
    "    axes[0].axis(\"off\")\n",
    "\n",
    "\n",
    "    for i in range(num):\n",
    "        x = advance(x)\n",
    "        axes[i+1].imshow(x)\n",
    "        axes[i+1].axis(\"off\")"
   ]
  },
  {
   "cell_type": "markdown",
   "metadata": {},
   "source": [
    "The following initial state eventually dies out."
   ]
  },
  {
   "cell_type": "code",
   "execution_count": 16,
   "metadata": {},
   "outputs": [
    {
     "data": {
      "image/png": "[encoded data removed]",
      "text/plain": [
       "<Figure size 1000x200 with 11 Axes>"
      ]
     },
     "metadata": {},
     "output_type": "display_data"
    }
   ],
   "source": [
    "z = np.zeros((15, 15))\n",
    "z[7,5:10] = 1\n",
    "z[6:9,7] = 1\n",
    "\n",
    "execute_gol(z, 10)"
   ]
  },
  {
   "cell_type": "markdown",
   "metadata": {},
   "source": [
    "The following initial state eventually reaches a constant pattern."
   ]
  },
  {
   "cell_type": "code",
   "execution_count": 13,
   "metadata": {},
   "outputs": [
    {
     "data": {
      "image/png": "[encoded data removed]",
      "text/plain": [
       "<Figure size 1000x200 with 11 Axes>"
      ]
     },
     "metadata": {},
     "output_type": "display_data"
    }
   ],
   "source": [
    "z = np.zeros((15, 15))\n",
    "z[7,5:9] = 1\n",
    "\n",
    "execute_gol(z, 10)"
   ]
  },
  {
   "cell_type": "markdown",
   "metadata": {},
   "source": [
    "The following initial state eventually reaches a repeating cycle (period 2)."
   ]
  },
  {
   "cell_type": "code",
   "execution_count": 20,
   "metadata": {},
   "outputs": [
    {
     "data": {
      "image/png": "[encoded data removed]",
      "text/plain": [
       "<Figure size 1000x200 with 11 Axes>"
      ]
     },
     "metadata": {},
     "output_type": "display_data"
    }
   ],
   "source": [
    "z = np.zeros((15, 15))\n",
    "z[7,6:9] = 1\n",
    "z[6:9,7] = 1\n",
    "\n",
    "execute_gol(z, 10)"
   ]
  },
  {
   "cell_type": "markdown",
   "metadata": {},
   "source": [
    "The following initial state keeps on growing. It's not easy to find or investigate such an intial pattern! "
   ]
  },
  {
   "cell_type": "code",
   "execution_count": 19,
   "metadata": {},
   "outputs": [
    {
     "data": {
      "image/png": "[encoded data removed]",
      "text/plain": [
       "<Figure size 1000x200 with 16 Axes>"
      ]
     },
     "metadata": {},
     "output_type": "display_data"
    }
   ],
   "source": [
    "z = np.zeros((30, 30))\n",
    "z[13:18,13:18] = np.array([[1, 1, 1, 0, 1],\n",
    "                         [1, 0, 0, 0, 0],\n",
    "                         [0, 0, 0, 1, 1],\n",
    "                         [0, 1, 1, 0, 1],\n",
    "                         [1, 0, 1, 0, 1]])\n",
    "\n",
    "execute_gol(z, 15)"
   ]
  }
 ],
 "metadata": {
  "kernelspec": {
   "display_name": "Python 3.7.9 64-bit",
   "language": "python",
   "name": "python3"
  },
  "language_info": {
   "codemirror_mode": {
    "name": "ipython",
    "version": 3
   },
   "file_extension": ".py",
   "mimetype": "text/x-python",
   "name": "python",
   "nbconvert_exporter": "python",
   "pygments_lexer": "ipython3",
   "version": "3.7.9 (tags/v3.7.9:13c94747c7, Aug 17 2020, 18:58:18) [MSC v.1900 64 bit (AMD64)]"
  },
  "orig_nbformat": 4,
  "vscode": {
   "interpreter": {
    "hash": "7924ab759b3df5cb48bbab33739b019b840d790ae77db55f5a743ebfebcfdc3f"
   }
  }
 },
 "nbformat": 4,
 "nbformat_minor": 2
}
