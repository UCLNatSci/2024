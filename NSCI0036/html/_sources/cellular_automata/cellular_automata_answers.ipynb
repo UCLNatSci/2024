{
 "cells": [
  {
   "cell_type": "markdown",
   "metadata": {},
   "source": [
    "# Solutions\n",
    "\n",
    ":::{solution} exercise_5_3\n",
    "\n",
    ":::\n",
    "\n",
    "In order to repeatedly apply the 2d average to the array, just repeatedly update the value of the array `x` using ` x = moving_average_2d(x)`. You don't have to make any changes to the function itself!\n",
    "\n",
    "Let's start with a simple example - a 5 by 5 array with a single cell in the centre initally set to `1`.\n"
   ]
  },
  {
   "cell_type": "code",
   "execution_count": 15,
   "metadata": {},
   "outputs": [
    {
     "name": "stdout",
     "output_type": "stream",
     "text": [
      "initial grid: [[0. 0. 0. 0. 0.]\n",
      " [0. 0. 0. 0. 0.]\n",
      " [0. 0. 1. 0. 0.]\n",
      " [0. 0. 0. 0. 0.]\n",
      " [0. 0. 0. 0. 0.]]\n",
      "Step 0 [[0.         0.         0.         0.         0.        ]\n",
      " [0.         0.11111111 0.11111111 0.11111111 0.        ]\n",
      " [0.         0.11111111 0.11111111 0.11111111 0.        ]\n",
      " [0.         0.11111111 0.11111111 0.11111111 0.        ]\n",
      " [0.         0.         0.         0.         0.        ]]\n",
      "Step 1 [[0.         0.         0.         0.         0.        ]\n",
      " [0.         0.04938272 0.07407407 0.04938272 0.        ]\n",
      " [0.         0.07407407 0.11111111 0.07407407 0.        ]\n",
      " [0.         0.04938272 0.07407407 0.04938272 0.        ]\n",
      " [0.         0.         0.         0.         0.        ]]\n",
      "Step 2 [[0.         0.         0.         0.         0.        ]\n",
      " [0.         0.03429355 0.04801097 0.03429355 0.        ]\n",
      " [0.         0.04801097 0.06721536 0.04801097 0.        ]\n",
      " [0.         0.03429355 0.04801097 0.03429355 0.        ]\n",
      " [0.         0.         0.         0.         0.        ]]\n",
      "Step 3 [[0.         0.         0.         0.         0.        ]\n",
      " [0.         0.02194787 0.03109282 0.02194787 0.        ]\n",
      " [0.         0.03109282 0.04404816 0.03109282 0.        ]\n",
      " [0.         0.02194787 0.03109282 0.02194787 0.        ]\n",
      " [0.         0.         0.         0.         0.        ]]\n",
      "Step 4 [[0.         0.         0.         0.         0.        ]\n",
      " [0.         0.01424241 0.02013582 0.01424241 0.        ]\n",
      " [0.         0.02013582 0.02846788 0.02013582 0.        ]\n",
      " [0.         0.01424241 0.02013582 0.01424241 0.        ]\n",
      " [0.         0.         0.         0.         0.        ]]\n"
     ]
    },
    {
     "data": {
      "image/png": "[encoded data removed]",
      "text/plain": [
       "<Figure size 200x200 with 1 Axes>"
      ]
     },
     "metadata": {},
     "output_type": "display_data"
    },
    {
     "data": {
      "image/png": "[encoded data removed]",
      "text/plain": [
       "<Figure size 200x200 with 1 Axes>"
      ]
     },
     "metadata": {},
     "output_type": "display_data"
    },
    {
     "data": {
      "image/png": "[encoded data removed]",
      "text/plain": [
       "<Figure size 200x200 with 1 Axes>"
      ]
     },
     "metadata": {},
     "output_type": "display_data"
    },
    {
     "data": {
      "image/png": "[encoded data removed]",
      "text/plain": [
       "<Figure size 200x200 with 1 Axes>"
      ]
     },
     "metadata": {},
     "output_type": "display_data"
    },
    {
     "data": {
      "image/png": "[encoded data removed]",
      "text/plain": [
       "<Figure size 200x200 with 1 Axes>"
      ]
     },
     "metadata": {},
     "output_type": "display_data"
    },
    {
     "data": {
      "image/png": "[encoded data removed]",
      "text/plain": [
       "<Figure size 200x200 with 1 Axes>"
      ]
     },
     "metadata": {},
     "output_type": "display_data"
    }
   ],
   "source": [
    "import numpy as np\n",
    "import matplotlib.pyplot as plt\n",
    "\n",
    "def moving_average_2d(x):\n",
    "    # create empty array of correct dimensions\n",
    "    n, m = x.shape\n",
    "    result = np.zeros((n, m))\n",
    "    \n",
    "    # fill in moving avg\n",
    "    for i in range(1, n-1):\n",
    "        for j in range(1, m-1):\n",
    "            sub_array = x[i-1:i+2, j-1:j+2]\n",
    "            result[i, j] = np.average(sub_array)\n",
    "           \n",
    "    return result\n",
    "\n",
    "# create 5 by 5 grid and set central\n",
    "# cell to 1\n",
    "grid = np.zeros((5, 5))\n",
    "grid[2,2] = 1\n",
    "print(\"initial grid:\", grid)\n",
    "\n",
    "# plot the initial grid\n",
    "plt.figure(figsize=(2,2))\n",
    "plt.imshow(grid)\n",
    "\n",
    "# repeatedly apply the function\n",
    "for i in range(5):\n",
    "    grid = moving_average_2d(grid)\n",
    "    plt.figure(figsize=(2,2))\n",
    "    plt.imshow(grid)\n",
    "    print(\"Step\", i, grid)\n"
   ]
  },
  {
   "attachments": {},
   "cell_type": "markdown",
   "metadata": {},
   "source": [
    "To make it look like the figure in the question, we have to change a few things:\n",
    "\n",
    "1. Increase the number of cells.\n",
    "2. Use the `imshow` arguments `vmax` and `vmin` to change the [scaling of the colormap](https://matplotlib.org/stable/api/_as_gen/matplotlib.pyplot.imshow.html) so that its range is between 0 and 1 (rather than the default, which is the maximum and minimum values of each array).\n",
    "3. Plot all the arrays on a single figure using `plt.subplots` (see {numref}`notes-subplots-ref`)."
   ]
  },
  {
   "cell_type": "code",
   "execution_count": 16,
   "metadata": {},
   "outputs": [
    {
     "data": {
      "image/png": "[encoded data removed]",
      "text/plain": [
       "<Figure size 1000x200 with 5 Axes>"
      ]
     },
     "metadata": {},
     "output_type": "display_data"
    }
   ],
   "source": [
    "# Create a large array and set central cells to 1\n",
    "grid = np.zeros((20, 20))\n",
    "grid[8:12,8:12] = 1\n",
    "\n",
    "# Create a figure with 5 subplots\n",
    "num = 5\n",
    "fig, axes = plt.subplots(1, num, figsize=(10,2))\n",
    "\n",
    "# Plot initial grid\n",
    "axes[0].imshow(grid, vmin=0, vmax=1)\n",
    "axes[0].axis(\"off\")\n",
    "\n",
    "\n",
    "for i in range(num-1):\n",
    "    grid = moving_average_2d(grid)\n",
    "    axes[i+1].imshow(grid, vmin=0, vmax=1)\n",
    "    axes[i+1].axis(\"off\")\n"
   ]
  },
  {
   "attachments": {},
   "cell_type": "markdown",
   "metadata": {},
   "source": [
    "\n",
    "To make it look identical to the figure, you'd have to use a different diffusion model. See {numref}`notes-subplots-ref`.\n",
    "\n",
    ":::{solution} exercise_5_5\n",
    "\n",
    ":::\n",
    "\n",
    "First, let's define the function `count_neighbours` which returns the number of live neighbours of cell `i`, `j`. This is just the sum of the 3 by 3 subarray minus the value of the cell `i`, `j`. Note that this function returns a single number, not an array."
   ]
  },
  {
   "cell_type": "code",
   "execution_count": 23,
   "metadata": {},
   "outputs": [
    {
     "name": "stdout",
     "output_type": "stream",
     "text": [
      "grid0:\n",
      "[[0. 0. 0. 0. 0.]\n",
      " [0. 0. 0. 0. 0.]\n",
      " [0. 0. 0. 0. 0.]\n",
      " [0. 0. 0. 0. 0.]\n",
      " [0. 0. 0. 0. 0.]]\n"
     ]
    }
   ],
   "source": [
    "import numpy as np\n",
    "import matplotlib.pyplot as plt\n",
    "\n",
    "def count_neighbours(x, i, j):\n",
    "    sub_array = x[i-1:i+2,j-1:j+2]\n",
    "    return np.sum(sub_array) - x[i,j]"
   ]
  },
  {
   "cell_type": "markdown",
   "metadata": {},
   "source": [
    "Before we go any further, let's test it with the initial pattern shown in {numref}`game-of-life-2-iterations-fig`."
   ]
  },
  {
   "cell_type": "code",
   "execution_count": 69,
   "metadata": {},
   "outputs": [
    {
     "name": "stdout",
     "output_type": "stream",
     "text": [
      "[[0. 0. 0. 0. 0.]\n",
      " [0. 0. 1. 0. 0.]\n",
      " [0. 1. 1. 1. 0.]\n",
      " [0. 0. 1. 0. 0.]\n",
      " [0. 0. 0. 0. 0.]]\n",
      "4.0\n",
      "3.0\n",
      "3.0\n"
     ]
    }
   ],
   "source": [
    "grid0 = np.zeros((5, 5))\n",
    "grid0[2,1:4] = 1\n",
    "grid0[1:4,2] = 1\n",
    "\n",
    "print(grid0)\n",
    "\n",
    "print(count_neighbours(grid0, 2, 2)) # should print 4\n",
    "print(count_neighbours(grid0, 3, 3)) # should print 3\n",
    "print(count_neighbours(grid0, 2, 1)) # should print 3"
   ]
  },
  {
   "cell_type": "markdown",
   "metadata": {},
   "source": [
    "Next we construct the function `advance`. This function should take an array as input, and return another array as output. We can just adapt the `moving_average_2d` function."
   ]
  },
  {
   "cell_type": "code",
   "execution_count": 37,
   "metadata": {},
   "outputs": [
    {
     "name": "stdout",
     "output_type": "stream",
     "text": [
      "[[0. 0. 0. 0. 0. 0. 0.]\n",
      " [0. 0. 0. 0. 0. 0. 0.]\n",
      " [0. 0. 0. 1. 0. 0. 0.]\n",
      " [0. 0. 1. 1. 1. 0. 0.]\n",
      " [0. 0. 0. 1. 0. 0. 0.]\n",
      " [0. 0. 0. 0. 0. 0. 0.]\n",
      " [0. 0. 0. 0. 0. 0. 0.]]\n",
      "[[0. 0. 0. 0. 0. 0. 0.]\n",
      " [0. 0. 0. 0. 0. 0. 0.]\n",
      " [0. 0. 1. 1. 1. 0. 0.]\n",
      " [0. 0. 1. 0. 1. 0. 0.]\n",
      " [0. 0. 1. 1. 1. 0. 0.]\n",
      " [0. 0. 0. 0. 0. 0. 0.]\n",
      " [0. 0. 0. 0. 0. 0. 0.]]\n"
     ]
    }
   ],
   "source": [
    "def advance(x):\n",
    "    # create empty array of correct dimensions\n",
    "    n, m = x.shape\n",
    "    result = np.zeros((n, m))\n",
    "    \n",
    "    # fill in array\n",
    "    for i in range(1, n-1):\n",
    "        for j in range(1, m-1):\n",
    "            # count the neighbours of cell i, j\n",
    "            c = count_neighbours(x, i, j)\n",
    "            # implement the Game of Life rules:\n",
    "\n",
    "            # If the cell is dead...\n",
    "            if x[i,j] == 0:\n",
    "                if c == 3:\n",
    "                # ...and has exactly 3 neighbours,\n",
    "                    # the cell becomes alive.\n",
    "                    result[i,j] = 1\n",
    "            # If the cell is alive...\n",
    "            else:\n",
    "                # ... and has 2 or 3 neighbours,\n",
    "                if c == 2 or c == 3:\n",
    "                    # the cell stays alive.\n",
    "                    result[i,j] = 1 \n",
    "    return result"
   ]
  },
  {
   "cell_type": "markdown",
   "metadata": {},
   "source": [
    "Now we'll test it on the same initial pattern. I've added an extra 1 cell of padding around the edges so the array becomes 7 by 7."
   ]
  },
  {
   "cell_type": "code",
   "execution_count": 38,
   "metadata": {},
   "outputs": [
    {
     "name": "stdout",
     "output_type": "stream",
     "text": [
      "[[0. 0. 0. 0. 0. 0. 0.]\n",
      " [0. 0. 0. 0. 0. 0. 0.]\n",
      " [0. 0. 0. 1. 0. 0. 0.]\n",
      " [0. 0. 1. 1. 1. 0. 0.]\n",
      " [0. 0. 0. 1. 0. 0. 0.]\n",
      " [0. 0. 0. 0. 0. 0. 0.]\n",
      " [0. 0. 0. 0. 0. 0. 0.]]\n",
      "[[0. 0. 0. 0. 0. 0. 0.]\n",
      " [0. 0. 0. 0. 0. 0. 0.]\n",
      " [0. 0. 1. 1. 1. 0. 0.]\n",
      " [0. 0. 1. 0. 1. 0. 0.]\n",
      " [0. 0. 1. 1. 1. 0. 0.]\n",
      " [0. 0. 0. 0. 0. 0. 0.]\n",
      " [0. 0. 0. 0. 0. 0. 0.]]\n"
     ]
    }
   ],
   "source": [
    "\n",
    "grid0 = np.zeros((7, 7))\n",
    "grid0[3,2:5] = 1\n",
    "grid0[2:5,3] = 1\n",
    "\n",
    "print(grid0)\n",
    "\n",
    "grid1 = advance(grid0)\n",
    "\n",
    "print(grid1)"
   ]
  },
  {
   "cell_type": "code",
   "execution_count": 41,
   "metadata": {},
   "outputs": [
    {
     "data": {
      "image/png": "[encoded data removed]",
      "text/plain": [
       "<Figure size 200x200 with 1 Axes>"
      ]
     },
     "metadata": {},
     "output_type": "display_data"
    },
    {
     "data": {
      "image/png": "[encoded data removed]",
      "text/plain": [
       "<Figure size 200x200 with 1 Axes>"
      ]
     },
     "metadata": {},
     "output_type": "display_data"
    },
    {
     "data": {
      "image/png": "[encoded data removed]",
      "text/plain": [
       "<Figure size 200x200 with 1 Axes>"
      ]
     },
     "metadata": {},
     "output_type": "display_data"
    },
    {
     "data": {
      "image/png": "[encoded data removed]",
      "text/plain": [
       "<Figure size 200x200 with 1 Axes>"
      ]
     },
     "metadata": {},
     "output_type": "display_data"
    }
   ],
   "source": [
    "z = grid0\n",
    "\n",
    "plt.figure(figsize=(2,2))\n",
    "plt.imshow(z)\n",
    "for i in range(3):\n",
    "    z = advance(z)\n",
    "    plt.figure(figsize=(2,2))\n",
    "    plt.imshow(z)\n",
    "\n"
   ]
  },
  {
   "cell_type": "markdown",
   "metadata": {},
   "source": [
    "This works, but let's run it for more steps and plot in a single figure (see {numref}`notes-subplots-ref`):"
   ]
  },
  {
   "cell_type": "code",
   "execution_count": 44,
   "metadata": {},
   "outputs": [
    {
     "data": {
      "image/png": "[encoded data removed]",
      "text/plain": [
       "<Figure size 1000x200 with 10 Axes>"
      ]
     },
     "metadata": {},
     "output_type": "display_data"
    }
   ],
   "source": [
    "num = 10\n",
    "fig, axes = plt.subplots(1, num, figsize=(10,2))\n",
    "z = grid0\n",
    "\n",
    "# Plot initial grid\n",
    "axes[0].imshow(z)\n",
    "axes[0].axis(\"off\")\n",
    "\n",
    "\n",
    "for i in range(num-1):\n",
    "    z = advance(z)\n",
    "    axes[i+1].imshow(z)\n",
    "    axes[i+1].axis(\"off\")"
   ]
  },
  {
   "cell_type": "markdown",
   "metadata": {},
   "source": [
    "Comparing to an [online simulator](https://academo.org/demos/conways-game-of-life/) this is correct up to the 5th step. The problem is that our array isn't big enough, so the rules break down at the edges. Let's try a bigger array."
   ]
  },
  {
   "cell_type": "code",
   "execution_count": 70,
   "metadata": {},
   "outputs": [
    {
     "data": {
      "image/png": "[encoded data removed]",
      "text/plain": [
       "<Figure size 1000x200 with 12 Axes>"
      ]
     },
     "metadata": {},
     "output_type": "display_data"
    }
   ],
   "source": [
    "z = np.zeros((20, 20))\n",
    "z[10,9:12] = 1\n",
    "z[9:12,10] = 1\n",
    "\n",
    "num = 12\n",
    "fig, axes = plt.subplots(1, num, figsize=(10,2))\n",
    "\n",
    "# Plot initial grid\n",
    "axes[0].imshow(z)\n",
    "axes[0].axis(\"off\")\n",
    "\n",
    "\n",
    "for i in range(num-1):\n",
    "    z = advance(z)\n",
    "    axes[i+1].imshow(z)\n",
    "    axes[i+1].axis(\"off\")"
   ]
  }
 ],
 "metadata": {
  "kernelspec": {
   "display_name": "Python 3.7.9 64-bit",
   "language": "python",
   "name": "python3"
  },
  "language_info": {
   "codemirror_mode": {
    "name": "ipython",
    "version": 3
   },
   "file_extension": ".py",
   "mimetype": "text/x-python",
   "name": "python",
   "nbconvert_exporter": "python",
   "pygments_lexer": "ipython3",
   "version": "3.7.9 (tags/v3.7.9:13c94747c7, Aug 17 2020, 18:58:18) [MSC v.1900 64 bit (AMD64)]"
  },
  "orig_nbformat": 4,
  "vscode": {
   "interpreter": {
    "hash": "7924ab759b3df5cb48bbab33739b019b840d790ae77db55f5a743ebfebcfdc3f"
   }
  }
 },
 "nbformat": 4,
 "nbformat_minor": 2
}
