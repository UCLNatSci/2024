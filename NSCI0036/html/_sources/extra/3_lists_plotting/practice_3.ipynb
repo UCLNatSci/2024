{
 "cells": [
  {
   "cell_type": "markdown",
   "metadata": {
    "collapsed": false
   },
   "source": [
    "# Questions"
   ]
  },
  {
   "cell_type": "markdown",
   "metadata": {
    "collapsed": false
   },
   "source": [
    "## Question 1\n",
    "\n",
    "Use a `for` loop to generate the following lists:\n",
    "1. `[5, 7, 9, 11, 13, 15]`\n",
    "1. `[1, 10, 100, 1000, 10000, 100000]`\n",
    "1. `[0, 1, 2, 0, 1, 2, 0, 1, 2]` (hint: use the `%` operator)"
   ]
  },
  {
   "cell_type": "markdown",
   "metadata": {
    "collapsed": false
   },
   "source": [
    "## Question 2\n",
    "\n",
    "The following code initialises a list `x` with ten integers.\n",
    "\n",
    "Write code which creates four lists, containing:\n",
    "- Every element of `x` at an even index.\n",
    "- Every even element.\n",
    "- All elements in reverse order.\n",
    "- Only the first and last element."
   ]
  },
  {
   "cell_type": "code",
   "execution_count": 1,
   "metadata": {
    "collapsed": false
   },
   "outputs": [],
   "source": [
    "x = [18, 19, 10, 19, 11, 7, 12, 6, 5, 4]"
   ]
  },
  {
   "cell_type": "markdown",
   "metadata": {},
   "source": [
    "## Question 3\n",
    "\n",
    "Given a string representing a DNA sequence, we want to print a sequence of nucleotide names:\n",
    "```\n",
    "dna_seq = \"gttccccaagctcttacataaatgtcgtagggttccagctacgtgttgttgggccaccca\"\n",
    "```\n",
    "Output:\n",
    "```\n",
    "Guanine\n",
    "Thymine\n",
    "Thymine\n",
    "Cytosine\n",
    "...\n",
    "```\n",
    "- Create two lists `letters = [\"A\", \"G\", \"C\", \"T\"]` and `names = [\"Adenine\", \"Guanine\", \"Cytosine\", \"Thymine\"]`\n",
    "- Loop over every character in `dna_seq`. For each character:\n",
    "  - Find the index of the character in `letters`\n",
    "  - Print the item in the equivalent position in `names`\n",
    "\n",
    "**HINT**: First try just for a single letter. E.g. given `nuc = \"A\"`, print `Adenine`."
   ]
  }
 ],
 "metadata": {
  "kernelspec": {
   "display_name": "Python 3 (system-wide)",
   "language": "python",
   "metadata": {
    "cocalc": {
     "description": "Python 3 programming language",
     "priority": 100,
     "url": "https://www.python.org/"
    }
   },
   "name": "python3",
   "resource_dir": "/ext/jupyter/kernels/python3"
  },
  "language_info": {
   "codemirror_mode": {
    "name": "ipython",
    "version": 3
   },
   "file_extension": ".py",
   "mimetype": "text/x-python",
   "name": "python",
   "nbconvert_exporter": "python",
   "pygments_lexer": "ipython3",
   "version": "3.8.10"
  }
 },
 "nbformat": 4,
 "nbformat_minor": 4
}
