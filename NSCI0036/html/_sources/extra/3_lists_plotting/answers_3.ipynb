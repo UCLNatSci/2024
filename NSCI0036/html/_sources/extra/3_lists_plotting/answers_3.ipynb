{
 "cells": [
  {
   "cell_type": "markdown",
   "metadata": {
    "collapsed": false
   },
   "source": [
    "# Answers\n",
    "\n",
    "## Question 1"
   ]
  },
  {
   "cell_type": "code",
   "execution_count": 23,
   "metadata": {
    "collapsed": false
   },
   "outputs": [
    {
     "name": "stdout",
     "output_type": "stream",
     "text": [
      "[5, 7, 9, 11, 13, 15]\n",
      "[1, 10, 100, 1000, 10000, 100000]\n",
      "[0, 1, 2, 0, 1, 2, 0, 1, 2]\n"
     ]
    }
   ],
   "source": [
    "# 1\n",
    "\n",
    "x1 = []\n",
    "\n",
    "for i in range(5, 17, 2):\n",
    "    x1.append(i)\n",
    "\n",
    "print(x1)\n",
    "\n",
    "# 2\n",
    "\n",
    "x2 = []\n",
    "\n",
    "for i in range(6):\n",
    "    x2.append(10**i)\n",
    "\n",
    "print(x2)\n",
    "\n",
    "# 3\n",
    "\n",
    "x3 = []\n",
    "\n",
    "for i in range(9):\n",
    "    x3.append(i % 3)\n",
    "    \n",
    "print(x3)"
   ]
  },
  {
   "cell_type": "markdown",
   "metadata": {
    "collapsed": false
   },
   "source": [
    "## Question 2\n",
    "\n",
    "NB There are many ways to answer this question. The following only uses techniques described in the notes."
   ]
  },
  {
   "cell_type": "code",
   "execution_count": 33,
   "metadata": {
    "collapsed": false
   },
   "outputs": [
    {
     "name": "stdout",
     "output_type": "stream",
     "text": [
      "[18, 10, 11, 12, 5]\n",
      "[18, 10, 12, 6, 4]\n",
      "[4, 5, 6, 12, 7, 11, 19, 10, 19, 18]\n",
      "[18, 4]\n"
     ]
    }
   ],
   "source": [
    "\n",
    "x = [18, 19, 10, 19, 11, 7, 12, 6, 5, 4]\n",
    "n = len(x)\n",
    "x1 = []\n",
    "for i in range(0, n, 2):\n",
    "    x1.append(x[i])\n",
    "    \n",
    "print(x1)\n",
    "\n",
    "x2 = []\n",
    "for z in x:\n",
    "    if z % 2 == 0:\n",
    "        x2.append(z)\n",
    "print(x2)\n",
    "        \n",
    "x3 = []\n",
    "for i in range(n):\n",
    "    x3.append(x[n-i-1])\n",
    "print(x3)\n",
    "\n",
    "x4 = [x[0], x[n-1]]\n",
    "print(x4)\n"
   ]
  },
  {
   "cell_type": "markdown",
   "metadata": {},
   "source": [
    "## Question 3"
   ]
  },
  {
   "cell_type": "code",
   "execution_count": null,
   "metadata": {},
   "outputs": [],
   "source": [
    "\n",
    "dna_seq = \"gttccccaagctcttacataaatgtcgtagggttccagctacgtgttgttgggccaccca\"\n",
    "\n",
    "letters = [\"a\", \"g\", \"c\", \"t\"]\n",
    "names = [\"Adenine\", \"Guanine\", \"Cytosine\", \"Thymine\"]\n",
    "\n",
    "for c in dna_seq:\n",
    "    i = letters.index(c)\n",
    "    name = names[i]\n",
    "    print(name, end=\", \")"
   ]
  }
 ],
 "metadata": {
  "kernelspec": {
   "display_name": "Python 3 (system-wide)",
   "language": "python",
   "metadata": {
    "cocalc": {
     "description": "Python 3 programming language",
     "priority": 100,
     "url": "https://www.python.org/"
    }
   },
   "name": "python3",
   "resource_dir": "/ext/jupyter/kernels/python3"
  },
  "language_info": {
   "codemirror_mode": {
    "name": "ipython",
    "version": 3
   },
   "file_extension": ".py",
   "mimetype": "text/x-python",
   "name": "python",
   "nbconvert_exporter": "python",
   "pygments_lexer": "ipython3",
   "version": "3.8.10"
  }
 },
 "nbformat": 4,
 "nbformat_minor": 4
}
