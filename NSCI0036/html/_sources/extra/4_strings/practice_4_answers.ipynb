{
 "cells": [
  {
   "cell_type": "markdown",
   "metadata": {
    "collapsed": false
   },
   "source": [
    "# Answers\n",
    "\n",
    "## Question 1"
   ]
  },
  {
   "cell_type": "code",
   "execution_count": 1,
   "metadata": {
    "collapsed": false
   },
   "outputs": [
    {
     "name": "stdout",
     "output_type": "stream",
     "text": [
      "ABC\n",
      "BCD\n",
      "CDE\n",
      "DEF\n",
      "EFG\n",
      "FGH\n",
      "GHI\n",
      "HIJ\n",
      "IJK\n",
      "JKL\n",
      "KLM\n",
      "LMN\n",
      "MNO\n",
      "NOP\n",
      "OPQ\n",
      "PQR\n",
      "QRS\n",
      "RST\n",
      "STU\n",
      "TUV\n",
      "UVW\n",
      "VWX\n",
      "WXY\n",
      "XYZ\n"
     ]
    }
   ],
   "source": [
    "s = \"ABCDEFGHIJKLMNOPQRSTUVWXYZ\"\n",
    "s_len = len(s)\n",
    "\n",
    "for i in range(0,s_len-2):\n",
    "\n",
    "    print(s[i:i+3])\n",
    "    "
   ]
  },
  {
   "cell_type": "markdown",
   "metadata": {
    "collapsed": false
   },
   "source": [
    "## Question 2"
   ]
  },
  {
   "cell_type": "code",
   "execution_count": 2,
   "metadata": {
    "collapsed": false
   },
   "outputs": [
    {
     "name": "stdout",
     "output_type": "stream",
     "text": [
      "ABC\n",
      "DEF\n",
      "GHI\n",
      "JKL\n",
      "MNO\n",
      "PQR\n",
      "STU\n",
      "VWX\n"
     ]
    }
   ],
   "source": [
    "s = \"ABCDEFGHIJKLMNOPQRSTUVWXYZ\"\n",
    "s_len = len(s)\n",
    "\n",
    "for i in range(0,s_len-2,3):\n",
    "    print(s[i:i+3])\n"
   ]
  },
  {
   "cell_type": "markdown",
   "metadata": {
    "collapsed": false
   },
   "source": [
    "## Question 3"
   ]
  },
  {
   "cell_type": "code",
   "execution_count": 3,
   "metadata": {
    "collapsed": false
   },
   "outputs": [
    {
     "name": "stdout",
     "output_type": "stream",
     "text": [
      "S\n",
      "C\n",
      "I\n",
      "E\n",
      "N\n",
      "C\n",
      "E\n",
      "!\n"
     ]
    }
   ],
   "source": [
    "s = \"ABCDEFGHIJKLMNOPQRSTUVWXYZ\"\n",
    "string_list = [\"MNO\", \"DEF\", \"VWX\", \"JKL\", \"PQR\", \"ABC\", \"STU\", \"GHI\"]\n",
    "character_list = [\"N\", \"C\", \"!\", \"E\", \"C\", \"S\", \"E\", \"I\"]\n",
    "\n",
    "s_len = len(s)\n",
    "\n",
    "#loop over the characters of s three at a time\n",
    "for i in range(0,s_len-2, 3):\n",
    "    substring = s[i:i+3]\n",
    "    #find the position of each 3-character string in string_list\n",
    "    position = string_list.index(substring)\n",
    "    #print the character in the equivalent position in character_list\n",
    "    print(character_list[position])\n",
    "    "
   ]
  },
  {
   "cell_type": "markdown",
   "metadata": {
    "collapsed": false
   },
   "source": [
    "## Question 4"
   ]
  },
  {
   "cell_type": "code",
   "execution_count": 4,
   "metadata": {
    "collapsed": false
   },
   "outputs": [
    {
     "data": {
      "text/plain": [
       "<matplotlib.collections.PathCollection at 0x7faf679c4b50>"
      ]
     },
     "execution_count": 4,
     "metadata": {},
     "output_type": "execute_result"
    },
    {
     "data": {
      "image/png": "[encoded data removed]",
      "text/plain": [
       "<Figure size 216x216 with 1 Axes>"
      ]
     },
     "execution_count": 4,
     "metadata": {
      "image/png": {
       "height": 195,
       "width": 209
      },
      "needs_background": "light"
     },
     "output_type": "execute_result"
    }
   ],
   "source": [
    "shape_data = \"13,1; 14,1; 15,1; 16,1; 17,1; 18,1; 12,2; 14,2; 15,2; 16,2; 17,2; 18,2; 19,2; 11,3; 12,3; 14,3; 15,3; 16,3; 17,3; 18,3; 19,3; 20,3; 10,4; 16,4; 17,4; 18,4; 19,4; 20,4; 10,5; 17,5; 18,5; 19,5; 20,5; 21,5; 17,6; 18,6; 19,6; 20,6; 21,6; 9,7; 18,7; 19,7; 20,7; 21,7; 9,8; 18,8; 19,8; 20,8; 21,8; 9,9; 10,9; 12,9; 14,9; 16,9; 17,9; 18,9; 19,9; 20,9; 21,9; 9,10; 16,10; 18,10; 19,10; 20,10; 21,10; 9,11; 18,11; 19,11; 20,11; 21,11; 22,11; 9,12; 18,12; 19,12; 20,12; 21,12; 22,12; 8,13; 9,13; 10,13; 14,13; 17,13; 18,13; 19,13; 20,13; 21,13; 22,13; 8,14; 9,14; 10,14; 13,14; 17,14; 18,14; 19,14; 20,14; 21,14; 22,14; 8,15; 9,15; 10,15; 13,15; 14,15; 17,15; 18,15; 19,15; 20,15; 21,15; 22,15; 8,16; 9,16; 10,16; 11,16; 16,16; 17,16; 18,16; 19,16; 20,16; 21,16; 22,16; 8,17; 9,17; 10,17; 11,17; 15,17; 16,17; 17,17; 18,17; 19,17; 20,17; 21,17; 22,17; 8,18; 9,18; 10,18; 11,18; 12,18; 14,18; 15,18; 16,18; 17,18; 18,18; 19,18; 20,18; 21,18; 22,18; 9,19; 10,19; 11,19; 12,19; 13,19; 14,19; 15,19; 16,19; 17,19; 18,19; 19,19; 20,19; 21,19; 22,19; 9,20; 10,20; 11,20; 12,20; 13,20; 15,20; 16,20; 17,20; 19,20; 20,20; 21,20; 22,20; 23,20; 10,21; 11,21; 12,21; 13,21; 19,21; 20,21; 21,21; 22,21; 23,21; 20,22; 21,22; 22,22; 23,22; 9,23; 10,23; 20,23; 21,23; 22,23; 23,23; 24,23; 8,24; 9,24; 10,24; 20,24; 21,24; 22,24; 23,24; 24,24; 25,24; 8,25; 9,25; 10,25; 20,25; 21,25; 22,25; 23,25; 25,25; 26,25; 7,26; 8,26; 9,26; 20,26; 21,26; 25,26; 26,26; 27,26; 6,27; 7,27; 8,27; 19,27; 24,27; 25,27; 26,27; 27,27; 28,27; 5,28; 6,28; 7,28; 8,28; 22,28; 23,28; 24,28; 25,28; 26,28; 27,28; 28,28; 29,28; 5,29; 6,29; 7,29; 8,29; 9,29; 20,29; 21,29; 22,29; 23,29; 24,29; 25,29; 26,29; 27,29; 28,29; 29,29; 4,30; 5,30; 6,30; 7,30; 8,30; 9,30; 10,30; 11,30; 12,30; 19,30; 20,30; 21,30; 22,30; 23,30; 24,30; 25,30; 26,30; 27,30; 28,30; 29,30; 3,31; 4,31; 5,31; 6,31; 7,31; 8,31; 9,31; 10,31; 11,31; 12,31; 13,31; 14,31; 15,31; 16,31; 17,31; 18,31; 19,31; 20,31; 21,31; 22,31; 23,31; 24,31; 25,31; 26,31; 27,31; 28,31; 29,31; 30,31\"\n",
    "\n",
    "x_coords = []\n",
    "y_coords = []\n",
    "\n",
    "coords = shape_data.split(\";\")\n",
    "for xy in coords:\n",
    "    a, b = xy.split(\",\")\n",
    "    x_coords.append(float(a))\n",
    "    y_coords.append(-float(b))\n",
    "    \n",
    "import matplotlib.pyplot as plt\n",
    "plt.figure(figsize=(3,3))\n",
    "plt.scatter(x_coords, y_coords)"
   ]
  },
  {
   "cell_type": "markdown",
   "metadata": {},
   "source": [
    "## Question 5\n",
    "\n",
    "### Step 1"
   ]
  },
  {
   "cell_type": "code",
   "execution_count": null,
   "metadata": {},
   "outputs": [
    {
     "name": "stdout",
     "output_type": "stream",
     "text": [
      "4\n"
     ]
    }
   ],
   "source": [
    "def start_index(sequence):\n",
    "    n = len(sequence)\n",
    "    for i in range(n):\n",
    "        if sequence[i:i+3] == \"AUG\":\n",
    "            break\n",
    "    return i\n",
    "\n",
    "\n",
    "rna_seq = \"GCAUAUGUUCAUAUGAAUA\"\n",
    "\n",
    "j = start_index(rna_seq)\n",
    "print(j)"
   ]
  },
  {
   "cell_type": "markdown",
   "metadata": {},
   "source": [
    "### Step 2\n"
   ]
  },
  {
   "cell_type": "code",
   "execution_count": null,
   "metadata": {},
   "outputs": [
    {
     "name": "stdout",
     "output_type": "stream",
     "text": [
      "K\n"
     ]
    }
   ],
   "source": [
    "def translate(codon):\n",
    "    genetic_code = [\"GCA\", \"GCC\", \"GCG\", \"GCU\", \"UGC\", \"UGU\", \"GAC\", \"GAU\", \"GAA\", \"GAG\", \"UUC\", \"UUU\", \"GGA\", \"GGC\", \"GGG\", \"GGU\", \"CAC\", \"CAU\", \"AUA\", \"AUC\", \"AUU\", \"AAA\", \"AAG\", \"UUA\", \"UUG\", \"CUA\", \"CUC\", \"CUG\", \"CUU\", \"AUG\",                         \"AAC\", \"AAU\", \"CCA\", \"CCC\", \"CCG\", \"CCU\", \"CAA\", \"CAG\", \"AGA\", \"AGG\", \"CGA\", \"CGC\", \"CGU\", \"CGG\", \"AGC\", \"AGU\", \"UCA\", \"UCC\", \"UCG\", \"UCU\", \"ACA\", \"ACC\", \"ACG\", \"ACU\", \"GUA\", \"GUC\", \"GUG\", \"GUU\", \"UGG\", \"UAC\",                         \"UAU\", \"UAG\", \"UAA\", \"UGA\"]\n",
    "\n",
    "    amino_acids = [\"A\", \"A\", \"A\", \"A\", \"C\", \"C\", \"D\", \"D\", \"E\", \"E\", \"F\", \"F\", \"G\", \"G\", \"G\", \"G\", \"H\", \"H\", \"I\", \"I\", \"I\", \"K\", \"K\", \"L\", \"L\", \"L\", \"L\", \"L\", \"L\", \"M\", \"N\", \"N\", \"P\", \"P\", \"P\", \"P\", \"Q\", \"Q\", \"R\", \"R\", \"R\", \"R\",                         \"R\", \"R\", \"S\", \"S\", \"S\", \"S\", \"S\", \"S\", \"T\", \"T\", \"T\", \"T\", \"V\", \"V\", \"V\", \"V\", \"W\", \"Y\", \"Y\", \"!\", \"!\", \"!\"]\n",
    "    i = genetic_code.index(codon)\n",
    "    aa = amino_acids[i]\n",
    "    return aa\n",
    "\n",
    "x = translate(\"AAA\")\n",
    "print(x)"
   ]
  },
  {
   "cell_type": "markdown",
   "metadata": {},
   "source": [
    "### Step 3"
   ]
  },
  {
   "cell_type": "code",
   "execution_count": null,
   "metadata": {},
   "outputs": [
    {
     "name": "stdout",
     "output_type": "stream",
     "text": [
      "MFI\n"
     ]
    }
   ],
   "source": [
    "def translate_sequence(sequence):\n",
    "    j = start_index(sequence)\n",
    "    n = len(sequence)\n",
    "    result = \"\"\n",
    "    for i in range(j, n-3, 3):\n",
    "        codon = sequence[i:i+3]\n",
    "        if codon == \"UAG\" or codon == \"UAA\" or codon == \"UGA\":\n",
    "            break\n",
    "        else:\n",
    "            result = result + translate(codon)\n",
    "    return result\n",
    "    \n",
    "\n",
    "rna_seq = \"GCAUAUGUUCAUAUGAAUA\"\n",
    "aa = translate_sequence(rna_seq)\n",
    "print(aa)"
   ]
  },
  {
   "cell_type": "markdown",
   "metadata": {},
   "source": [
    "### Step 4"
   ]
  },
  {
   "cell_type": "code",
   "execution_count": null,
   "metadata": {},
   "outputs": [
    {
     "name": "stdout",
     "output_type": "stream",
     "text": [
      "MLPA\n",
      "MNNR\n"
     ]
    }
   ],
   "source": [
    "rna_1 = \"CAACAAUGCUCCCCGCCUAGUUG\"\n",
    "print(translate_sequence(rna_1))\n",
    "\n",
    "rna_2 = \"UAAAAUGAAUAAUAGAUAA\"\n",
    "print(translate_sequence(rna_2))"
   ]
  },
  {
   "cell_type": "markdown",
   "metadata": {},
   "source": [
    "## Question 6\n",
    "\n",
    "The answer below includes only the English and French languages. It is not difficult to extend to further languages.\n",
    "\n",
    "How might  you extend to an arbitrary number of languages...?"
   ]
  },
  {
   "cell_type": "code",
   "execution_count": null,
   "metadata": {},
   "outputs": [
    {
     "name": "stdout",
     "output_type": "stream",
     "text": [
      "French\n"
     ]
    },
    {
     "data": {
      "image/png": "[encoded data removed]",
      "text/plain": [
       "<Figure size 360x216 with 1 Axes>"
      ]
     },
     "metadata": {},
     "output_type": "display_data"
    }
   ],
   "source": [
    "import matplotlib.pyplot as plt\n",
    "\n",
    "freq_french = [7.60, 0.96, 3.39, 4.08, 14.47, 1.12, 1.18, 0.93, 7.21, 0.30, 0.16, 5.86, 2.78, 7.32, 5.39, 2.98, 0.85, 6.86, 7.98, 7.11, 5.55, 1.29, 0.08, 0.43, 0.34, 0.10]\n",
    "s = sum(freq_french)\n",
    "# ensure the sum is 1\n",
    "for i in range(26):\n",
    "    freq_french[i] /= s\n",
    "\n",
    "freq_eng = [8.34, 1.54, 2.73, 4.14, 12.60, 2.03, 1.92, 6.11, 6.71, 0.23, 0.87, 4.24, 2.53, 6.80, 7.70, 1.66, 0.09, 5.68, 6.11, 9.37, 2.85, 1.06, 2.34, 0.20, 2.04, 0.06]\n",
    "s = sum(freq_eng)\n",
    "# ensure the sum is 1\n",
    "for i in range(26):\n",
    "    freq_eng[i] /= s\n",
    "\n",
    "\n",
    "with open(\"french.txt\") as f:\n",
    "     text = f.read()\n",
    "\n",
    "alphabet = \"abcdefghijklmnopqrstuvwxyz\"\n",
    "\n",
    "counts = [0] * 26 # this syntax creates a list containing 26 zeros\n",
    "\n",
    "text = text.lower()\n",
    "for c in text:\n",
    "    i = alphabet.find(c)\n",
    "    if i > -1:\n",
    "        counts[i] += 1\n",
    "\n",
    "s = sum(counts)\n",
    "\n",
    "for i in range(26):\n",
    "    counts[i] = counts[i] / s\n",
    "\n",
    "plt.figure(figsize=(5,3))\n",
    "plt.bar(list(alphabet), counts)\n",
    "plt.ylabel(\"frequency\")\n",
    "\n",
    "sim_eng = 0\n",
    "sim_french = 0\n",
    "for i in range(26):\n",
    "    sim_eng += (freq_eng[i] - counts[i])**2\n",
    "    sim_french += (freq_french[i] - counts[i])**2\n",
    "    \n",
    "m = min(sim_eng, sim_french)\n",
    "if m == sim_eng:\n",
    "    print(\"English\")\n",
    "elif m == sim_french:\n",
    "    print(\"French\")"
   ]
  }
 ],
 "metadata": {
  "kernelspec": {
   "display_name": "Python 3 (system-wide)",
   "language": "python",
   "metadata": {
    "cocalc": {
     "description": "Python 3 programming language",
     "priority": 100,
     "url": "https://www.python.org/"
    }
   },
   "name": "python3",
   "resource_dir": "/ext/jupyter/kernels/python3"
  },
  "language_info": {
   "codemirror_mode": {
    "name": "ipython",
    "version": 3
   },
   "file_extension": ".py",
   "mimetype": "text/x-python",
   "name": "python",
   "nbconvert_exporter": "python",
   "pygments_lexer": "ipython3",
   "version": "3.8.10"
  }
 },
 "nbformat": 4,
 "nbformat_minor": 4
}
