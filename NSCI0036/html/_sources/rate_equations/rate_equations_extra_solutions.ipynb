{
 "cells": [
  {
   "cell_type": "markdown",
   "metadata": {},
   "source": [
    "# Solutions\n",
    "\n",
    ":::{solution} rate_equations_extra_loops\n",
    "\n",
    "```\n",
    "# 1\n",
    "for i in range(5, 17, 2):\n",
    "    print(i)\n",
    "\n",
    "# 2\n",
    "for i in range(6):\n",
    "    print(10**i)\n",
    "\n",
    "# 3\n",
    "for i in range(9):\n",
    "    print(i % 3)\n",
    "```\n",
    ":::\n",
    "\n",
    ":::{solution} rate_equations_extra_weather\n",
    "\n",
    "```\n",
    "import numpy as np\n",
    "import matplotlib.pyplot as plt\n",
    "\n",
    "temp_max = np.array([11, 11, 15, 14, 13, 9, 9, 9, 8, 7])\n",
    "temp_min = np.array([8, 6, 11, 8, 7, 4, 4, 4, 3, 3])\n",
    "\n",
    "plt.plot(temp_max, label=\"Max\")\n",
    "plt.plot(temp_min, label = \"Min\")\n",
    "plt.xlabel(\"Day\")\n",
    "plt.ylabel(\"Temperature (degrees C)\")\n",
    "plt.legend()\n",
    "plt.title(\"Daily Temperature in London\")\n",
    "```\n",
    ":::\n",
    "\n",
    "\n"
   ]
  }
 ],
 "metadata": {
  "kernelspec": {
   "display_name": "Python 3.7.9 64-bit (microsoft store)",
   "language": "python",
   "name": "python3"
  },
  "language_info": {
   "name": "python",
   "version": "3.7.9"
  },
  "orig_nbformat": 4,
  "vscode": {
   "interpreter": {
    "hash": "7f871366baaeb23d5e2a586caa18124c1371cc3d3832dcd001f8f599e1be9e29"
   }
  }
 },
 "nbformat": 4,
 "nbformat_minor": 2
}
