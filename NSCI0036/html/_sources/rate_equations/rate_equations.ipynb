{
 "cells": [
  {
   "cell_type": "markdown",
   "metadata": {},
   "source": [
    "# Workshop 2: Modelling Change"
   ]
  },
  {
   "cell_type": "markdown",
   "metadata": {},
   "source": [
    "\n",
    "## Introduction\n",
    "\n",
    "A **difference equation** defines a sequence by the difference between consecutive terms. To fully specify the sequence we also need an initial value. For example,\n",
    "\n",
    "$$x_{i+1} = x_i + 0.1x_i \\quad\\mathrm{where}\\quad x_0=10$$\n",
    "\n",
    "defines a sequence where the initial value is $10$ and each term is $10\\%$ bigger than the previous term.\n",
    "\n",
    "Let's calculate the first 5 terms using Python. First, we create an array and set its first element to the initial value $10$."
   ]
  },
  {
   "cell_type": "code",
   "execution_count": 1,
   "metadata": {},
   "outputs": [
    {
     "name": "stdout",
     "output_type": "stream",
     "text": [
      "x: [10.  0.  0.  0.  0.]\n"
     ]
    }
   ],
   "source": [
    "import numpy as np\n",
    "\n",
    "x = np.zeros(5)\n",
    "\n",
    "x[0] = 10\n",
    "print(\"x:\", x)"
   ]
  },
  {
   "cell_type": "markdown",
   "metadata": {},
   "source": [
    "Next we use a `for` loop to calculate the remaining terms of the sequence."
   ]
  },
  {
   "cell_type": "code",
   "execution_count": 2,
   "metadata": {},
   "outputs": [
    {
     "name": "stdout",
     "output_type": "stream",
     "text": [
      "x: [10.    11.    12.1   13.31  14.641]\n"
     ]
    }
   ],
   "source": [
    "for i in range(4):\n",
    "    x[i+1] = x[i] + 0.1*x[i] \n",
    "    \n",
    "print(\"x:\", x)"
   ]
  },
  {
   "cell_type": "markdown",
   "metadata": {},
   "source": [
    ":::{exercise}\n",
    ":label: exercise_2_6\n",
    "\n",
    "The array `x` has $5$ elements yet the upper limit of the `for` loop is $4$. Why? Try changing the upper limit to $5$ and see what happens.\n",
    ":::\n",
    "\n",
    "Finally, we would like to plot a graph of the first $5$ terms of the sequence. To do this we need to import a library, `matplotlib.pyplot`:"
   ]
  },
  {
   "cell_type": "code",
   "execution_count": 3,
   "metadata": {},
   "outputs": [
    {
     "data": {
      "text/plain": [
       "Text(0, 0.5, 'x[i]')"
      ]
     },
     "execution_count": 3,
     "metadata": {},
     "output_type": "execute_result"
    },
    {
     "data": {
      "image/png": "[encoded data removed]",
      "text/plain": [
       "<Figure size 216x216 with 1 Axes>"
      ]
     },
     "metadata": {
      "needs_background": "light"
     },
     "output_type": "display_data"
    }
   ],
   "source": [
    "import matplotlib.pyplot as plt\n",
    "\n",
    "plt.figure(figsize=(3,3))\n",
    "plt.plot(x)\n",
    "plt.xlabel(\"i\")\n",
    "plt.ylabel(\"x[i]\")"
   ]
  },
  {
   "cell_type": "markdown",
   "metadata": {},
   "source": [
    ":::{exercise}\n",
    ":label: exercise_2_7\n",
    "\n",
    "Calculate the value of $x_{16}$. Print the answer as follows:\n",
    "\n",
    "```x[16]: XXXX```\n",
    "\n",
    ":::\n",
    "\n",
    "## Multiple Variables\n",
    "\n",
    "We can produce more interesting behaviour if we introduce a second variable. For example,\n",
    "\n",
    "$$\\begin{align*}\n",
    "x_{i+1} &= x_i - 0.5y_i\\\\\n",
    "y_{i+1} &= y_i + 0.4x_i\\quad\\mathrm{where}~x_0=y_0=10.\n",
    "\\end{align*}$$\n",
    "\n",
    ":::{exercise}\n",
    ":label: exercise_2_8\n",
    "\n",
    "Complete the following code to calculate and plot `x` and `y` over the range `0 ... 19`. Plot the resulting arrays on the same figure.\n",
    "\n",
    "```\n",
    "x = np.zeros(20)\n",
    "x[0] = 10\n",
    "\n",
    "# create array y and set initial value\n",
    "\n",
    "for i in range(19):\n",
    "    x[i+1] = x[i] - 0.5 * y[i]  \n",
    "\n",
    "    # set value of y[i+1]\n",
    "\n",
    "plt.figure(figsize=(3,3))\n",
    "plt.plot(x)\n",
    "\n",
    "# plot y on the SAME graph    \n",
    "```\n",
    ":::\n",
    "\n"
   ]
  },
  {
   "cell_type": "markdown",
   "metadata": {},
   "source": [
    "## SIR Model of Epidemics\n",
    "\n",
    "The spread of an infectious disease amongst a population can be modelled by the SIR model. We divide the the population into three groups: Susceptible, Infected and Recovered. As the epidemic progresses, the number of people in each group changes according to a set of simple rules. Let $S_i$ represent the number of susceptible people and $I_i$ the number of infected people on day $i$. Then:\n",
    "\n",
    ":::{math}\n",
    ":label: SIR_equations\n",
    "\\begin{align}S_{i+1} &= S_i - bS_iI_i\\\\\n",
    "I_{i+1} &= I_i + bS_iI_i - aI_i.\\end{align}\n",
    ":::\n",
    "\n",
    "We assume a fixed total population so that the number of people in the Recovered group is given by\n",
    "\n",
    "$$R_i = N - (S_i + I_i)$$\n",
    "\n",
    "where $N$ is the total population. There are two parameters: the recovery rate parameter $a$ and the infection rate parameter $b$."
   ]
  },
  {
   "cell_type": "markdown",
   "metadata": {},
   "source": [
    "### Simplified Model\n",
    "\n",
    "First, let's examine a simplified version of this model where we assume that there are no susceptible people in the population and an initial population $I_0$ of infected people. Then, the equations reduce to:\n",
    "\n",
    "$$ I_{i+1} = I_i - aI_i $$\n",
    "\n",
    "A fixed proportion $a$ of the infected population recovers at each time step. Let's suppose that 10% of the population recovers each day so that $a=0.1$, and assume that our population starts with $I_0=1000$ infected people.\n",
    "\n",
    ":::{exercise}\n",
    ":label: exercise_2_9\n",
    "\n",
    "Calculate (by hand) the first few terms of the sequence. What would you expect the graph $I_i$ to look like?\n",
    "\n",
    "Write Python code to model the number of infected people for $100$ days. Plot a graph of $I_i$.\n",
    ":::\n"
   ]
  },
  {
   "cell_type": "markdown",
   "metadata": {},
   "source": [
    "### Full Model\n",
    "\n",
    "Next we will model the full set of two equations {eq}`SIR_equations`. We'll assume that parameter values $a = 0.1$ and $b = 0.00005$ and the initial populations $S_0 = 20000$ and $I_0 = 100$.\n",
    "\n",
    ":::{exercise}\n",
    ":label: exercise_2_10\n",
    "\n",
    "Adapt your code to model the full set of equations with parameter values and initial conditions as described above.\n",
    "\n",
    "Hint: You should see that the number of infected people peaks at around 15,000 at about day 15, while the number of susceptible people drops to about zero at about the same time.\n",
    ":::\n",
    "\n",
    "### Investigating the Model\n",
    "\n",
    "One of the benefits of modelling is that we can investigate the effect of changing particular parameters. For example, the Government can influence the rate parameter $b$ through public policy (for example the imposition of social distancing, vaccination or other measures) and so it would like to understand how changing the value of $b$ affects the outcome of the epidemic."
   ]
  },
  {
   "cell_type": "markdown",
   "metadata": {},
   "source": [
    ":::{exercise}\n",
    ":label: exercise_2_11\n",
    "\n",
    "Experiment with various values of $b$ to see how it affects the outbreak. Roughly what is the minimum value of $b$ which results in an epidemic? (We say there is an epidemic if $I_i$ initially rises to a peak, however small).\n",
    "\n",
    "Then *on one graph* plot $I_i$ for 4 different values of $b$ (use a loop!).\n",
    "\n",
    ":::\n",
    "\n",
    "## Ballistics\n",
    "\n",
    "Suppose a cannon located at position $x = 0, y = 0$ fires a cannonball at an angle $\\theta$ from the horizontal (measured in radians) and speed $s$ m/s. We'd like to simulate the trajectory of the cannonball as in {numref}`cannon-fig`.\n",
    "\n",
    "```{figure} cannon.jpg\n",
    "---\n",
    "height: 150px\n",
    "name: cannon-fig\n",
    "---\n",
    "\n",
    "The trajectory of a cannonball fired at an angle $\\theta$ from the horizontal and speed $s$ m/s.\n",
    "\n",
    "```\n",
    "\n",
    "We can model the motion of the cannonball using four variables: The x- and y-positions of the cannonable $x_i$ and $y_i$, and the x- and y-velocities of the cannonball $u_i$ and $v_i$. Assuming a fixed simulation timestep $\\Delta t$, we update the positions as below:\n",
    "\n",
    "$$\n",
    "\\begin{align*}\n",
    "x_{i+1} &= x_i + u_i\\Delta t \\\\\n",
    "y_{i+1} &= y_i + v_i\\Delta t.\n",
    "\\end{align*}\n",
    "$$\n",
    "\n",
    "The x-velocity $u_i$ is constant, and the y-velocity changes due to the gravitational acceleration $g=9.81$ m/s.\n",
    "\n",
    "$$\n",
    "\\begin{align*}\n",
    "u_{i+1} &= u_i\\\\\n",
    "v_{i+1} &= v_i - g\\Delta t\n",
    "\\end{align*}\n",
    "$$\n",
    "\n",
    "\n",
    "```{exercise}\n",
    ":label: exercise_2_12\n",
    "\n",
    "Assuming that $s = 100$ m/s and that $\\theta= \\pi/4$, write a program which plots a graph of the cannonball's trajectory. \n",
    "\n",
    " - Use trigonometry to calculate the initial velocities\n",
    " - Make sure that $y$ does not go below zero (use an `if` statement or the `max` function)\n",
    " - You'll need to choose a suitable value for the timestep $\\Delta t$\n",
    "\n",
    "```\n",
    "\n",
    "```{exercise} Challenge\n",
    ":label: exercise_2_13\n",
    "\n",
    "Given $s=100$, calculate the distance from the cannon that the cannonball lands for any given $\\theta$. Then, plot a graph with $\\theta$ on the x-axis and distance on the y-axis. What angle maximises the distance?\n",
    " \n",
    "```\n",
    "\n",
    "\n",
    "\n",
    "\n",
    "\n",
    "\n",
    "\n",
    "\n",
    "\n",
    "\n",
    "\n",
    "\n"
   ]
  }
 ],
 "metadata": {
  "kernelspec": {
   "display_name": "Python 3 (ipykernel)",
   "language": "python",
   "name": "python3"
  },
  "language_info": {
   "codemirror_mode": {
    "name": "ipython",
    "version": 3
   },
   "file_extension": ".py",
   "mimetype": "text/x-python",
   "name": "python",
   "nbconvert_exporter": "python",
   "pygments_lexer": "ipython3",
   "version": "3.7.9"
  },
  "vscode": {
   "interpreter": {
    "hash": "7f871366baaeb23d5e2a586caa18124c1371cc3d3832dcd001f8f599e1be9e29"
   }
  }
 },
 "nbformat": 4,
 "nbformat_minor": 4
}
