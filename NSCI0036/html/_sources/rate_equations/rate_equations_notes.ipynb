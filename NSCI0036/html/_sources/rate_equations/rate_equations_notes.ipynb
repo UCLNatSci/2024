{
 "cells": [
  {
   "cell_type": "markdown",
   "metadata": {},
   "source": [
    "# Modelling Change\n",
    "\n",
    "## Python Libraries\n",
    "\n",
    "The standard Python language is very extensive, containing a wide range of built-in data types and functions, some of which we looked at last week. In addition, we can access an ever-growing collection of Python code libraries. A library is a package of pre-built code that provides useful functions to extend the standard Python library. Probably the two most useful libraries for scientists are `numpy` (for numerical computing) and `matplotlib` (for plotting graphs).\n",
    "\n",
    "## Importing Libraries\n",
    "\n",
    "To access `numpy` the numpy library we first have to import it using the `import` keyword."
   ]
  },
  {
   "cell_type": "code",
   "execution_count": null,
   "metadata": {},
   "outputs": [],
   "source": [
    "import numpy as np"
   ]
  },
  {
   "cell_type": "markdown",
   "metadata": {},
   "source": [
    "This line instructs Python to load the library called `numpy` and give it the prefix `np`. Once we have executed this line of code we can access the many `numpy` data types prefixed by `np.`.\n",
    "\n",
    "Let's use `numpy` to calculate the square-root of two.  "
   ]
  },
  {
   "cell_type": "code",
   "execution_count": 2,
   "metadata": {},
   "outputs": [
    {
     "name": "stdout",
     "output_type": "stream",
     "text": [
      "The square root of 2 is 1.4142135623730951\n"
     ]
    }
   ],
   "source": [
    "x = np.sqrt(2)\n",
    "\n",
    "print(\"The square root of 2 is\", x)"
   ]
  },
  {
   "cell_type": "markdown",
   "metadata": {},
   "source": [
    ":::{note}\n",
    "We can choose any prefix we like, but it is standard (in this course and elsewhere) to always use the prefix `np`. We will include the line\n",
    "\n",
    "```\n",
    "import numpy as np\n",
    "```\n",
    "\n",
    "at the top of every Python notebook from now on!\n",
    "\n",
    "::: \n",
    "\n",
    "See the online documentation for the many mathematical [functions](https://numpy.org/doc/stable/reference/routines.math.html) and [constants](https://numpy.org/doc/stable/reference/constants.html) defined by `numpy`.\n",
    "\n",
    ":::{exercise}\n",
    ":label: exercise_2_1\n",
    "\n",
    "Import the numpy library and use it to calculate\n",
    "\n",
    "$$\\cos(3\\pi/2).$$\n",
    ":::\n",
    "\n",
    ":::{solution} exercise_2_1\n",
    ":class: dropdown\n",
    "\n",
    "```\n",
    "import numpy as np\n",
    "\n",
    "x = np.cos(3 * np.pi / 2)\n",
    "\n",
    "print(\"cos(3 pi/2) = \", x)\n",
    "```\n",
    "\n",
    "This is not exactly 0 - this is okay! This happens because the calculation is done using something called 'floating point arithmetic'.\n",
    ":::\n",
    "\n",
    ":::{note}\n",
    "\n",
    "You only need to import each library once in your notebook. It is customary to gather your import statements together at the top of the file.\n",
    "\n",
    "```\n",
    "import numpy as np\n",
    "import matplolib.pyplot as plt\n",
    "\n",
    "# the rest of your code below\n",
    "```\n",
    ":::"
   ]
  },
  {
   "cell_type": "markdown",
   "metadata": {},
   "source": [
    "## `numpy` Arrays\n",
    "\n",
    "An array is a Numpy data type that stores a sequence of values. For example, suppose we have the following data representing five years' population data:"
   ]
  },
  {
   "cell_type": "code",
   "execution_count": 10,
   "metadata": {},
   "outputs": [
    {
     "name": "stdout",
     "output_type": "stream",
     "text": [
      "[ 12  25  54 102 206]\n"
     ]
    }
   ],
   "source": [
    "populations = np.array([12, 25, 54, 102, 206])\n",
    "print(populations)"
   ]
  },
  {
   "cell_type": "markdown",
   "metadata": {},
   "source": [
    "Each element in an array has an **index** which identifies its position. We can access an array element by following the variable name with square brackets and the index:"
   ]
  },
  {
   "cell_type": "code",
   "execution_count": 11,
   "metadata": {},
   "outputs": [
    {
     "name": "stdout",
     "output_type": "stream",
     "text": [
      "Initial population: 12\n",
      "Population in year 3: 54\n"
     ]
    }
   ],
   "source": [
    "initial_pop = populations[0]\n",
    "year_3_pop = populations[2]\n",
    "\n",
    "print(\"Initial population:\", initial_pop)\n",
    "print(\"Population in year 3:\", year_3_pop)\n"
   ]
  },
  {
   "cell_type": "markdown",
   "metadata": {},
   "source": [
    ":::{note} \n",
    "Arrays are indexed starting from `0`, so the first element of array `x` is `x[0]`, the second is `x[1]` and so on. If an array has `n` elements, then the last element is at index `n - 1`.\n",
    ":::\n",
    "\n",
    "\n",
    "Likewise, we can update individual array elements. Suppose we would like to change the value of the 3rd element:"
   ]
  },
  {
   "cell_type": "code",
   "execution_count": null,
   "metadata": {},
   "outputs": [
    {
     "name": "stdout",
     "output_type": "stream",
     "text": [
      "[12, 25, 54, 100, 206]\n"
     ]
    }
   ],
   "source": [
    "populations[2] = 100\n",
    "print(populations)"
   ]
  },
  {
   "cell_type": "markdown",
   "metadata": {},
   "source": [
    ":::{exercise}\n",
    ":label: exercise_2_2\n",
    "Use `np.array` to create an array with the following values `1, 1, 2, 3, 6, 8`.\n",
    "\n",
    "Change the value of the element at index position `4` from `5` instead of `6`.\n",
    "\n",
    ":::\n",
    "\n",
    ":::{solution} exercise_2_2\n",
    ":class: dropdown\n",
    "\n",
    "```\n",
    "fib = np.array([1, 1, 2, 3, 6, 8])\n",
    "print(fib)\n",
    "\n",
    "# 5th element is at index (5-1)\n",
    "fib[4] = 5 \n",
    "print(fib)\n",
    "```\n",
    ":::\n"
   ]
  },
  {
   "cell_type": "markdown",
   "metadata": {},
   "source": [
    "## Creating Numpy Arrays\n",
    "\n",
    "Above, we created an array using the `np.array` function. Other ways to create an array include the functions `np.zeros` and `np.linspace`."
   ]
  },
  {
   "cell_type": "code",
   "execution_count": null,
   "metadata": {},
   "outputs": [
    {
     "name": "stdout",
     "output_type": "stream",
     "text": [
      "[0. 0. 0. 0. 0. 0.]\n"
     ]
    }
   ],
   "source": [
    "z = np.zeros(6) # Create an array of 6 zeros\n",
    "print(z)"
   ]
  },
  {
   "cell_type": "markdown",
   "metadata": {},
   "source": [
    "Use `np.linspace(a, b, num)` to generate `num` evenly spaced numbers between `a` and `b`:"
   ]
  },
  {
   "cell_type": "code",
   "execution_count": null,
   "metadata": {},
   "outputs": [
    {
     "name": "stdout",
     "output_type": "stream",
     "text": [
      "[0.         0.33333333 0.66666667 1.        ]\n"
     ]
    }
   ],
   "source": [
    "z = np.linspace(0, 1, 4)\n",
    "print(z)"
   ]
  },
  {
   "cell_type": "markdown",
   "metadata": {},
   "source": [
    ":::{exercise}\n",
    ":label: exercise_2_3\n",
    "Use `np.linspace` to create an array with the following values:\n",
    "\n",
    "```[0., 0.25, 0.5, 0.75, 1.]```\n",
    "\n",
    ":::\n",
    "\n",
    ":::{solution} exercise_2_3\n",
    ":class: dropdown\n",
    "The array contains 5 numbers so `num = 5`; it starts at 0 and ends at 1 so we need:\n",
    "```{code-block} python\n",
    "z = np.linspace(0, 1, 5)\n",
    "print(z)\n",
    "```\n",
    ":::"
   ]
  },
  {
   "cell_type": "markdown",
   "metadata": {},
   "source": [
    "## `for` Loops\n",
    "\n",
    "A `for` loop is used to iterate over a sequence of values. The simplest form of the `for` statement is to iterate over a range of `n` integer values. For example, the following code will execute the indented statements once for each integer from `0` to `4`:\n"
   ]
  },
  {
   "cell_type": "code",
   "execution_count": null,
   "metadata": {
    "scrolled": true
   },
   "outputs": [
    {
     "name": "stdout",
     "output_type": "stream",
     "text": [
      "i = 5\n",
      "i = 6\n",
      "i = 7\n",
      "i = 8\n",
      "i = 9\n"
     ]
    }
   ],
   "source": [
    "for i in range(5):\n",
    "    print(\"i =\", i)"
   ]
  },
  {
   "cell_type": "markdown",
   "metadata": {},
   "source": [
    "The variable `i` is called the iterator variable and is updated during each iteration. The `range` function specifies the sequence of integer values that the loop variable will take.\n",
    "\n",
    "|syntax| result|\n",
    "|---|---|\n",
    "|`range(n)`|  a sequence from `0` to `n - 1`|\n",
    "|`range(a, n)`|  a sequence from `a` to `n - 1`|\n",
    "|`range(a, n, step)`|  a sequence from `a` to `n - 1` in steps of `step`|\n",
    "\n",
    "For example, the following code loops over the integers from `1` to `10` in steps of `2`."
   ]
  },
  {
   "cell_type": "code",
   "execution_count": null,
   "metadata": {},
   "outputs": [
    {
     "name": "stdout",
     "output_type": "stream",
     "text": [
      "i = 1\n",
      "i = 3\n",
      "i = 5\n",
      "i = 7\n",
      "i = 9\n"
     ]
    }
   ],
   "source": [
    "for i in range(1, 10, 2):\n",
    "    print(\"i =\", i)"
   ]
  },
  {
   "cell_type": "markdown",
   "metadata": {},
   "source": [
    ":::{exercise} \n",
    ":label: exercise_2_4\n",
    "Write a `for` loop which prints the following:\n",
    "\n",
    "```\n",
    "i = 2\n",
    "i = 5\n",
    "i = 8\n",
    "i = 11\n",
    "```\n",
    ":::\n",
    "\n",
    ":::{solution} exercise_2_4\n",
    ":class: dropdown\n",
    "The first value is 2, so `a = 2`; the final value is 11 so `n - 1 = 11`, therefore `n = 12`; the values increase in steps of 3 so `step = 3`, so we need:\n",
    "\n",
    "```{code-block} python\n",
    "for i in range(2, 12, 3):\n",
    "    print(\"i =\", i)\n",
    "```\n",
    ":::"
   ]
  },
  {
   "cell_type": "markdown",
   "metadata": {},
   "source": [
    "## Plotting using Matplotlib\n",
    "\n",
    "Suppose we have collected the following data which we would like to plot on a line graph.\n",
    "\n",
    "| Time (s)     | 0.1 | 0.2 | 0.3 | 0.4 | 0.5 | 0.6 | 0.7 |\n",
    "|--------------|-----|-----|-----|-----|-----|-----|-----|\n",
    "| Distance (m) | 2.5 | 2.6 | 3.4 | 4.1 | 4.5 | 5.1 | 5.2 |\n",
    "\n",
    "We we plot graphs using a Python library called `matplotlib.pyplot`. First import the library with the prefix `plt` and create an array of distance values."
   ]
  },
  {
   "cell_type": "code",
   "execution_count": null,
   "metadata": {},
   "outputs": [],
   "source": [
    "import matplotlib.pyplot as plt\n",
    "\n",
    "dis = np.array([2.5, 2.6, 3.4, 4.1, 4.5, 5.1, 5.2])"
   ]
  },
  {
   "cell_type": "markdown",
   "metadata": {},
   "source": [
    "Next we use the function `plt.figure` to create a figure of suitable dimensions and the function `plt.plot` to display the array `dis` as a line graph."
   ]
  },
  {
   "cell_type": "code",
   "execution_count": 6,
   "metadata": {},
   "outputs": [
    {
     "data": {
      "text/plain": [
       "[<matplotlib.lines.Line2D at 0x1fa1966f040>]"
      ]
     },
     "execution_count": 6,
     "metadata": {},
     "output_type": "execute_result"
    },
    {
     "data": {
      "image/png": "[encoded data removed]",
      "text/plain": [
       "<Figure size 288x288 with 1 Axes>"
      ]
     },
     "metadata": {
      "needs_background": "light"
     },
     "output_type": "display_data"
    }
   ],
   "source": [
    "plt.figure(figsize=(4,4)) # create figure of size 4 by 4 inches\n",
    "plt.plot(dis) # plot a line graph"
   ]
  },
  {
   "cell_type": "markdown",
   "metadata": {},
   "source": [
    "Notice that the data points are plotted at x-coordinates `0 ... 6`. To use the actual time values, we need to create a second array `time` and pass both arrays to the function `plt.plot`."
   ]
  },
  {
   "cell_type": "code",
   "execution_count": 7,
   "metadata": {},
   "outputs": [
    {
     "data": {
      "text/plain": [
       "[<matplotlib.lines.Line2D at 0x1fa1b7b4160>]"
      ]
     },
     "execution_count": 7,
     "metadata": {},
     "output_type": "execute_result"
    },
    {
     "data": {
      "image/png": "[encoded data removed]",
      "text/plain": [
       "<Figure size 288x288 with 1 Axes>"
      ]
     },
     "metadata": {
      "needs_background": "light"
     },
     "output_type": "display_data"
    }
   ],
   "source": [
    "dis = np.array([2.5, 2.6, 3.4, 4.1, 4.5, 5.1, 5.2])\n",
    "time = np.linspace(0.1, 0.7, 7)\n",
    "\n",
    "plt.figure(figsize=(4,4))\n",
    "plt.plot(time, dis)"
   ]
  },
  {
   "cell_type": "markdown",
   "metadata": {},
   "source": [
    "Finally, we add a title and axis labels using functions `plt.xlabel`, `plt.ylabel` and `plt.title`."
   ]
  },
  {
   "cell_type": "code",
   "execution_count": 16,
   "metadata": {
    "scrolled": true
   },
   "outputs": [
    {
     "data": {
      "text/plain": [
       "Text(0.5, 1.0, 'Particle Position')"
      ]
     },
     "execution_count": 16,
     "metadata": {},
     "output_type": "execute_result"
    },
    {
     "data": {
      "image/png": "[encoded data removed]",
      "text/plain": [
       "<Figure size 288x288 with 1 Axes>"
      ]
     },
     "metadata": {
      "needs_background": "light"
     },
     "output_type": "display_data"
    }
   ],
   "source": [
    "plt.figure(figsize=(4,4)) \n",
    "plt.plot(time, dis)\n",
    "plt.xlabel(\"Time (s)\") # add an x-axis label\n",
    "plt.ylabel(\"Distance (m)\") # add a y-axis label\n",
    "plt.title(\"Particle Position\") # add a figure title"
   ]
  },
  {
   "cell_type": "markdown",
   "metadata": {},
   "source": [
    ":::{exercise}\n",
    ":label: exercise_2_5\n",
    "\n",
    "Plot the following data on a line graph. Include axis labels and a suitable title.\n",
    "\n",
    "| Time (days)     | 5 | 10 | 15 | 20 | 25 | 30 |\n",
    "|--------------|-----|-----|-----|-----|-----|-----|\n",
    "| Mass (kg) | 110 | 112 | 115 | 120 | 130 | 151 |\n",
    "\n",
    ":::\n",
    "\n",
    ":::{solution} exercise_2_5\n",
    ":class: dropdown\n",
    "\n",
    "The time data contains 6 evenly-spaced time points starting at 5 and ending at 30, so we can use `np.linspace` to create the array. The mass data is not a straightforward sequence, so it is easier to just hard code the array. \n",
    "\n",
    "```{code-block} python\n",
    "# record data\n",
    "time = np.linspace(5, 30, 6)\n",
    "mass = np.array([110, 112, 115, 120, 130, 151])\n",
    "\n",
    "# create the figure\n",
    "plt.figure(figsize=(4,4)) \n",
    "plt.plot(time, mass)\n",
    "plt.xlabel(\"Time (days)\") # add an x-axis label\n",
    "plt.ylabel(\"Mass (kg)\") # add a y-axis label\n",
    "plt.title(\"Mass vs time\") # add a figure title\n",
    "```\n",
    ":::"
   ]
  }
 ],
 "metadata": {
  "kernelspec": {
   "display_name": "Python 3.7.9 64-bit",
   "language": "python",
   "name": "python3"
  },
  "language_info": {
   "codemirror_mode": {
    "name": "ipython",
    "version": 3
   },
   "file_extension": ".py",
   "mimetype": "text/x-python",
   "name": "python",
   "nbconvert_exporter": "python",
   "pygments_lexer": "ipython3",
   "version": "3.7.9"
  },
  "vscode": {
   "interpreter": {
    "hash": "7924ab759b3df5cb48bbab33739b019b840d790ae77db55f5a743ebfebcfdc3f"
   }
  }
 },
 "nbformat": 4,
 "nbformat_minor": 2
}
