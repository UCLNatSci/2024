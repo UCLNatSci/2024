{
 "cells": [
  {
   "cell_type": "markdown",
   "metadata": {},
   "source": [
    "# Modelling Space\n",
    "\n",
    "Recall that a `numpy` array is a data type used for storing a sequence of numerical values. The following code creates an array containing the values 5, 7, 4, 5:"
   ]
  },
  {
   "cell_type": "code",
   "execution_count": 1,
   "metadata": {},
   "outputs": [
    {
     "name": "stdout",
     "output_type": "stream",
     "text": [
      "[5 7 4 5]\n"
     ]
    }
   ],
   "source": [
    "import numpy as np\n",
    "\n",
    "x = np.array([5, 7, 4, 5])\n",
    "\n",
    "print(x)"
   ]
  },
  {
   "cell_type": "markdown",
   "metadata": {},
   "source": [
    "The array `x` is a **one-dimensional** array since the elements are organised in a single row and a single index is required to access each element `x[i]`."
   ]
  },
  {
   "cell_type": "markdown",
   "metadata": {},
   "source": [
    "## Two-dimensional Arrays\n",
    "\n",
    "A two-dimensional array is similar to a one-dimensional array, but it can be visualised as a grid (or table) with rows and columns ({numref}`2d_array-fig`).\n",
    "\n",
    "```{figure} 2d_array.png\n",
    "---\n",
    "height: 200px\n",
    "name: 2d_array-fig\n",
    "---\n",
    "A 2D array of size 3 by 5. The element at row $i$ column $j$ is accessed by `x[i,j]`.\n",
    "```\n",
    "\n",
    "We can create a two-dimensional array by nesting the rows in a second pair of square brackets. For example, to create the array in {numref}`2d_array-fig`:"
   ]
  },
  {
   "cell_type": "code",
   "execution_count": 2,
   "metadata": {},
   "outputs": [
    {
     "name": "stdout",
     "output_type": "stream",
     "text": [
      "[[ 5 12 17  9  3]\n",
      " [13  4  8 14  1]\n",
      " [ 9  6  3  7 21]]\n"
     ]
    }
   ],
   "source": [
    "y = np.array([[5, 12, 17, 9, 3], [13, 4, 8, 14, 1], [9, 6, 3, 7, 21]])\n",
    "\n",
    "print(y)"
   ]
  },
  {
   "cell_type": "markdown",
   "metadata": {},
   "source": [
    ":::{note}\n",
    "Python allows us to split the code across several lines, which allows us to present the above code in a more readable way:\n",
    "\n",
    "```\n",
    "y = np.array([[5, 12, 17, 9, 3],\n",
    "              [13, 4, 8, 14, 1],\n",
    "              [9, 6, 3, 7, 21]])\n",
    "```\n",
    ":::"
   ]
  },
  {
   "cell_type": "markdown",
   "metadata": {},
   "source": [
    "We can access individual items by index using square brackets `x[i, j]` which represents the element in row `i` and column `j`. Recall that we number starting from zero so column 4 is the last column."
   ]
  },
  {
   "cell_type": "code",
   "execution_count": 3,
   "metadata": {
    "scrolled": true
   },
   "outputs": [
    {
     "name": "stdout",
     "output_type": "stream",
     "text": [
      "1\n"
     ]
    }
   ],
   "source": [
    "z = y[1, 4] # extract element at row 1 column 4\n",
    "print(z)"
   ]
  },
  {
   "cell_type": "markdown",
   "metadata": {},
   "source": [
    ":::{exercise}\n",
    ":label: exercise_4_1\n",
    "```\n",
    "a = np.array([[1, 2, 3, 4], [5, 6, 7], [9, 10, 11, 12]])\n",
    "```\n",
    "\n",
    "Correct the code above so that it creates an array with 3 rows and 4 columns.\n",
    "\n",
    "Then, change the element in the last row and column from `12` to `100`.\n",
    ":::\n",
    "\n",
    "\n",
    ":::{solution} exercise_4_1\n",
    ":class: dropdown\n",
    "\n",
    "The second row only has 3 elements in, so we just need to add in the missing number. To change the element in the last row and column, remember that python starts counting from zero, so row 2 is the last row and column 3 is the last column. \n",
    "```{code-block} python\n",
    "a = np.array([[1, 2, 3, 4], [5, 6, 7, 8], [9, 10, 11, 12]])\n",
    "\n",
    "a[2, 3] = 100\n",
    "```\n",
    "\n",
    ":::\n"
   ]
  },
  {
   "cell_type": "markdown",
   "metadata": {},
   "source": [
    "## Slicing\n",
    "\n",
    "Use a colon `:` in place of a row or column index in order to extract an entire row or column from an array.\n",
    "\n"
   ]
  },
  {
   "cell_type": "code",
   "execution_count": 4,
   "metadata": {},
   "outputs": [
    {
     "name": "stdout",
     "output_type": "stream",
     "text": [
      "[1 2 3]\n"
     ]
    }
   ],
   "source": [
    "y = np.array([[1, 2, 3],\n",
    "              [4, 5, 6],\n",
    "              [7, 8, 9]])\n",
    "\n",
    "# extract the top row of the array\n",
    "top_row = y[0,:]\n",
    "print(top_row)"
   ]
  },
  {
   "cell_type": "code",
   "execution_count": 5,
   "metadata": {},
   "outputs": [
    {
     "name": "stdout",
     "output_type": "stream",
     "text": [
      "[1 4 7]\n"
     ]
    }
   ],
   "source": [
    "left_column = y[:,0]\n",
    "print(left_column)"
   ]
  },
  {
   "cell_type": "markdown",
   "metadata": {},
   "source": [
    "Supply starting and ending indexes to extract parts of an array.  Remember that in Python, the index `i:j` will extract all the entries from `i` up to and including `j - 1`."
   ]
  },
  {
   "cell_type": "code",
   "execution_count": 6,
   "metadata": {},
   "outputs": [
    {
     "name": "stdout",
     "output_type": "stream",
     "text": [
      "[[1 2]\n",
      " [4 5]\n",
      " [7 8]]\n"
     ]
    }
   ],
   "source": [
    "left_two_columns = y[:,0:2]\n",
    "print(left_two_columns)"
   ]
  },
  {
   "cell_type": "markdown",
   "metadata": {},
   "source": [
    "See {numref}`2d_array_slicing-fig` for an illustration of slicing 2d arrays.\n",
    "\n",
    "```{figure} 2d_array_slicing.jpg\n",
    "---\n",
    "height: 300px\n",
    "name: 2d_array_slicing-fig\n",
    "---\n",
    "Slicing a 2d array.\n",
    "```"
   ]
  },
  {
   "cell_type": "markdown",
   "metadata": {},
   "source": [
    "## Array functions\n",
    "\n",
    "To create a 2-dimensional array filled with zeros, use the function `np.zeros((n, m))`, where `n` is the number of rows and `m` is the number of columns. Note that we have to use two pairs of brackets in this case."
   ]
  },
  {
   "cell_type": "code",
   "execution_count": 7,
   "metadata": {},
   "outputs": [
    {
     "name": "stdout",
     "output_type": "stream",
     "text": [
      "[[0. 0. 0. 0. 0.]\n",
      " [0. 0. 0. 0. 0.]\n",
      " [0. 0. 0. 0. 0.]\n",
      " [0. 0. 0. 0. 0.]\n",
      " [0. 0. 0. 0. 0.]]\n"
     ]
    }
   ],
   "source": [
    "x = np.zeros((5, 5))\n",
    "print(x)"
   ]
  },
  {
   "cell_type": "markdown",
   "metadata": {},
   "source": [
    "If we are given an array, but don't know its dimensions, we can use the `shape` attribute:"
   ]
  },
  {
   "cell_type": "code",
   "execution_count": 8,
   "metadata": {},
   "outputs": [
    {
     "name": "stdout",
     "output_type": "stream",
     "text": [
      "rows: 6\n",
      "cols: 17\n"
     ]
    }
   ],
   "source": [
    "z = np.array([[5, 8, 3, 2, 6, 6, 7, 4, 6, 4, 3, 7, 2, 3, 6, 7, 7], [5, 8, 3, 2, 6, 6, 7, 4, 6, 4, 3, 7, 2, 3, 6, 7, 7], [5, 8, 3, 2, 6, 6, 7, 4, 6, 4, 3, 7, 2, 3, 6, 7, 7], [5, 8, 3, 2, 6, 6, 7, 4, 6, 4, 3, 7, 2, 3, 6, 7, 7], [5, 8, 3, 2, 6, 6, 7, 4, 6, 4, 3, 7, 2, 3, 6, 7, 7], [5, 8, 3, 2, 6, 6, 7, 4, 6, 4, 3, 7, 2, 3, 6, 7, 7]])\n",
    "\n",
    "n, m = z.shape\n",
    "\n",
    "print(\"rows:\", n)\n",
    "print(\"cols:\", m)"
   ]
  },
  {
   "cell_type": "markdown",
   "metadata": {},
   "source": [
    "Other useful functions are `np.max`, `np.min`, `np.sum` and `np.average` which return the maximum, minimum, total and average value of the entire array."
   ]
  },
  {
   "cell_type": "code",
   "execution_count": 15,
   "metadata": {},
   "outputs": [
    {
     "name": "stdout",
     "output_type": "stream",
     "text": [
      "516\n"
     ]
    }
   ],
   "source": [
    "print(np.sum(z))"
   ]
  },
  {
   "cell_type": "markdown",
   "metadata": {},
   "source": [
    ":::{exercise}\n",
    ":label: exercise_4_2\n",
    "\n",
    "Determine the number of rows and columns of `big_array`, then calculate\n",
    "\n",
    "1. The total of the last row\n",
    "2. The average of the middle column\n",
    "\n",
    "```\n",
    "big_array = np.array([[4, 7, 2, 4, 6, 8, 5, 3, 2, 2, 3, 6, 4, 3, 4, 6, 8, 10, 3, 5, 0], [8, 2, 6, 5, 4, 4, 4, 4, 4, 4, 7, 5, 4, 3, 7, 5, 6, 4, 2, 3, 4], [1, 1, 1, 1, 3, 4, 3, 2, 3, 2, 7, 7, 7, 7, 7, 7, 7, 7, 7, 7, 1], [3, 6, 2, 7, 2, 7, 2, 7, 2, 7, 2, 7, 2, 3, 5, 2, 6, 3, 5, 5, 0], [0, 0, 0, 0, 0, 0, 0, 0, 0, 0, 0, 0, 0, 0, 0, 0, 0, 0, 0, 0, 0]])\n",
    "```\n",
    ":::\n",
    "\n",
    ":::{solution} exercise_4_2\n",
    ":class: dropdown\n",
    "\n",
    "To work out the number of rows and colums in `big_array` we can use shape:\n",
    "```\n",
    "n, m = big_array.shape\n",
    "print(\"rows:\", n)\n",
    "print(\"cols:\", m)\n",
    "```\n",
    "\n",
    "Then to find the total of the last row and the average of the middle column, we can use indexes to extract the relevant entries of the array and then use `np.sum` and `np.average`. There are 21 columns in total, so the elevent column is in the middle - but because python counts from 0, this is the column at index 10:\n",
    "\n",
    "```\n",
    "# last row is row n-1\n",
    "print(np.sum(big_array[n-1, :]))\n",
    "\n",
    "# middle column is at index 10\n",
    "print(np.average(big_array[:, 10]))\n",
    "```\n",
    ":::"
   ]
  },
  {
   "cell_type": "markdown",
   "metadata": {},
   "source": [
    "## Nested Loops\n",
    "For loops may be **nested** by placing one inside another. The following example repeats the inner loop 4 times for each pass through the outer loop, resulting in a total of 20 iterations.\n",
    "\n",
    "Note that we must use distinct iterator variables `i` and `j` for the outer and inner loops."
   ]
  },
  {
   "cell_type": "code",
   "execution_count": 3,
   "metadata": {},
   "outputs": [
    {
     "name": "stdout",
     "output_type": "stream",
     "text": [
      "0 1 2 3 \n",
      "1 2 3 4 \n",
      "2 3 4 5 \n",
      "3 4 5 6 \n",
      "4 5 6 7 \n"
     ]
    }
   ],
   "source": [
    "for i in range(5):\n",
    "    for j in range(4):\n",
    "        print(i + j, end=\" \")\n",
    "    print()"
   ]
  },
  {
   "cell_type": "markdown",
   "metadata": {},
   "source": [
    ":::{note}\n",
    "By default, the `print` function adds a newline character, which means that consecutive calls to `print` result in output on separate lines.\n",
    "\n",
    "To avoid this, use `print(\"text\", end=\" \")`.\n",
    ":::\n",
    "\n",
    ":::{exercise}\n",
    ":label: exercise_4_3\n",
    "\n",
    "Use nested `for` loops to print the following patterns:\n",
    "\n",
    "```\n",
    "* \n",
    "**\n",
    "***\n",
    "****\n",
    "*****\n",
    "```\n",
    "\n",
    "```\n",
    "-+-+-\n",
    "+-+-+\n",
    "-+-+-\n",
    "+-+-+\n",
    "-+-+-\n",
    "```\n",
    "\n",
    "(Hint: check if `i + j`  is odd or even).\n",
    ":::\n",
    "\n",
    ":::{solution} exercise_4_3\n",
    ":class: dropdown\n",
    "\n",
    "The first pattern has five lines so the outer for loop should have 5 iterations. Then on line 1, we should print 1 star, 2 on line 2, 3 on line 3, and so on. In order to do this, we can use the iterator variable from the outer loop inside the `range` of the inner loop. Notice that `range(0)` is empty, so we need to set the upper limit of the inner iterator variable as one more than the outer iterator variable:\n",
    "\n",
    "```\n",
    "for i in range(5):\n",
    "    for j in range(i + 1):\n",
    "        print(\"*\", end = \"\")\n",
    "    print()\n",
    "```\n",
    "\n",
    "The second pattern also has five lines, so the outer for loop should have five iterations. The pattern also has five columns so the inner for loop will also have five iterations. Following the hint, notice that if `i+j` is even, then `i+j+1` and `i+j-1` will be odd, and vice versa. So if we check whether `i+j` is even or odd and print a different character accordingly, we should get the pattern.\n",
    "\n",
    "```\n",
    "for i in range(5):\n",
    "    for j in range(5):\n",
    "        if (i + j) % 2 == 0:\n",
    "            # even\n",
    "            print(\"-\", end = \"\")\n",
    "        else:\n",
    "            # odd\n",
    "            print(\"+\", end = \"\")\n",
    "    print()\n",
    "```\n",
    ":::"
   ]
  },
  {
   "cell_type": "markdown",
   "metadata": {},
   "source": [
    "## Creating and Building Arrays\n",
    "\n",
    "Arrays are fixed-size, which means that once created we can't add extra elements. A common pattern when working with arrays is to firstly create an emtpy array of the ultimate size, then to gradually fill it with values.\n",
    "\n",
    "Suppose we would like to create a 5 by 5 array whose elements are the sum of the row and column numbers. First, let's create an empty array with 5 rows and 5 columns."
   ]
  },
  {
   "cell_type": "code",
   "execution_count": 9,
   "metadata": {},
   "outputs": [
    {
     "name": "stdout",
     "output_type": "stream",
     "text": [
      "[[0. 0. 0. 0. 0.]\n",
      " [0. 0. 0. 0. 0.]\n",
      " [0. 0. 0. 0. 0.]\n",
      " [0. 0. 0. 0. 0.]\n",
      " [0. 0. 0. 0. 0.]]\n"
     ]
    }
   ],
   "source": [
    "x = np.zeros((5, 5))\n",
    "\n",
    "print(x)"
   ]
  },
  {
   "cell_type": "markdown",
   "metadata": {},
   "source": [
    "Next fill it with elements using two nested loops."
   ]
  },
  {
   "cell_type": "code",
   "execution_count": 10,
   "metadata": {},
   "outputs": [
    {
     "name": "stdout",
     "output_type": "stream",
     "text": [
      "[[0. 1. 2. 3. 4.]\n",
      " [1. 2. 3. 4. 5.]\n",
      " [2. 3. 4. 5. 6.]\n",
      " [3. 4. 5. 6. 7.]\n",
      " [4. 5. 6. 7. 8.]]\n"
     ]
    }
   ],
   "source": [
    "for i in range(5):\n",
    "    for j in range(5):\n",
    "        x[i, j] = i + j\n",
    "\n",
    "print(x)"
   ]
  },
  {
   "cell_type": "markdown",
   "metadata": {},
   "source": [
    ":::{exercise}\n",
    ":label: exercise_4_4\n",
    "\n",
    "Use nested `for` loops to create arrays as follows:\n",
    "\n",
    "```\n",
    "[[1. 0. 0. 0. 0.]\n",
    " [2. 2. 0. 0. 0.]\n",
    " [3. 3. 3. 0. 0.]\n",
    " [4. 4. 4. 4. 0.]\n",
    " [5. 5. 5. 5. 5.]\n",
    "```\n",
    "\n",
    "```\n",
    "[[1. 0. 1. 0. 1.]\n",
    " [0. 1. 0. 1. 0.]\n",
    " [1. 0. 1. 0. 1.]\n",
    " [0. 1. 0. 1. 0.]\n",
    " [1. 0. 1. 0. 1.]]\n",
    "```\n",
    "\n",
    ":::\n",
    "\n",
    ":::{solution} exercise_4_4\n",
    ":class: dropdown\n",
    "We can start both arrays with an array containing zeros with 5 rows and 5 columns.\n",
    "In the first array, the element at row `i` and column `j` takes the value `i + 1` when `j <= i` and `0` otherwise. So to fill the array we can combine two nested for loops and an if statement:\n",
    "\n",
    "```\n",
    "a = np.zeros((5, 5))\n",
    "\n",
    "for i in range(5):\n",
    "    for j in range(5):\n",
    "        if j <= i:\n",
    "            a[i, j] = i + 1\n",
    "        # we don't need an else here because all the other elements are already 0\n",
    "\n",
    "print(a)\n",
    "```\n",
    "\n",
    "Similar to the pattern we printed in the last exercise, in the second array there is a `1` at row `i` column `j` when `i+j` is even, and a `0` when it is odd. \n",
    "```\n",
    "b = np.zeros((5, 5))\n",
    "\n",
    "for i in range(5):\n",
    "    for j in range(5):\n",
    "        if (i + j) % 2 == 0:\n",
    "            # even\n",
    "            b[i, j] = 1\n",
    "        # we don't need an else here because all the other elements are already 0\n",
    "\n",
    "print(b)\n",
    "```\n",
    "\n",
    ":::\n",
    "\n",
    "## Vector Operations\n",
    "\n",
    "Arrays support **vector operations**. These allow us to perform operations on every item in the array simultaneously, without having to use a loop. For example, to add `10` to every element in an array:"
   ]
  },
  {
   "cell_type": "code",
   "execution_count": null,
   "metadata": {},
   "outputs": [
    {
     "name": "stdout",
     "output_type": "stream",
     "text": [
      "[15 17 14 15]\n"
     ]
    }
   ],
   "source": [
    "y = x + 10\n",
    "print(y)"
   ]
  },
  {
   "cell_type": "markdown",
   "metadata": {},
   "source": [
    "Or to calculate the square of every element of the array:"
   ]
  },
  {
   "cell_type": "code",
   "execution_count": null,
   "metadata": {},
   "outputs": [
    {
     "name": "stdout",
     "output_type": "stream",
     "text": [
      "[25 49 16 25]\n"
     ]
    }
   ],
   "source": [
    "z = x ** 2\n",
    "print(z)"
   ]
  },
  {
   "cell_type": "markdown",
   "metadata": {},
   "source": [
    "Note this is only possible because `x` is a numpy array. The following will not work:\n",
    "\n",
    "```\n",
    "a = [1, 2, 3]\n",
    "b = a + 1 # error since a is a list\n",
    "```\n",
    "We can also perform vector operations on two arrays. For example, to multiply two arrays element-wise:"
   ]
  },
  {
   "cell_type": "code",
   "execution_count": null,
   "metadata": {},
   "outputs": [
    {
     "name": "stdout",
     "output_type": "stream",
     "text": [
      "x * y: [ 2 12 30 56]\n"
     ]
    }
   ],
   "source": [
    "x = np.array([2, 4, 6, 8])\n",
    "y = np.array([1, 3, 5, 7])\n",
    "z = x * y # multiply two arrays element-by-element\n",
    "print(\"x * y:\", z)"
   ]
  }
 ],
 "metadata": {
  "kernelspec": {
   "display_name": "Python 3 (ipykernel)",
   "language": "python",
   "name": "python3"
  },
  "language_info": {
   "codemirror_mode": {
    "name": "ipython",
    "version": 3
   },
   "file_extension": ".py",
   "mimetype": "text/x-python",
   "name": "python",
   "nbconvert_exporter": "python",
   "pygments_lexer": "ipython3",
   "version": "3.7.9"
  },
  "vscode": {
   "interpreter": {
    "hash": "7924ab759b3df5cb48bbab33739b019b840d790ae77db55f5a743ebfebcfdc3f"
   }
  }
 },
 "nbformat": 4,
 "nbformat_minor": 2
}
