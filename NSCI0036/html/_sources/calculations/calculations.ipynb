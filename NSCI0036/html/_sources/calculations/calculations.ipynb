{
 "cells": [
  {
   "cell_type": "markdown",
   "metadata": {},
   "source": [
    "# Workshop 1: Fundamentals\n",
    "\n",
    "## Introduction\n",
    "\n",
    "We'll start with a simple example of a Python program which simulates the growth in population of a colony of bacteria. Suppose we start with 100 cells and the population doubles every hour. How many hours will it take to reach a population of 10000 cells?"
   ]
  },
  {
   "cell_type": "code",
   "execution_count": 1,
   "metadata": {},
   "outputs": [
    {
     "name": "stdout",
     "output_type": "stream",
     "text": [
      "200\n",
      "400\n",
      "800\n",
      "1600\n",
      "3200\n",
      "6400\n",
      "12800\n"
     ]
    }
   ],
   "source": [
    "pop = 100\n",
    "\n",
    "while pop < 10000:\n",
    "    # double the population\n",
    "    pop = pop * 2\n",
    "    print(pop)"
   ]
  },
  {
   "cell_type": "markdown",
   "metadata": {},
   "source": [
    "Let's examine each line in turn. First, we define a **variable** `pop` and set its value to 100:\n",
    "\n",
    "```\n",
    "pop = 100\n",
    "```\n",
    "\n",
    "Then we define a `while` loop. A `while` loop repeats a section of code while the specified condition is true:\n",
    "\n",
    "```\n",
    "while pop < 10000:\n",
    "```\n",
    "\n",
    "The code in the indented block below this line is then executed repeatedly. The line `# double the population` is a comment and is ignored by the Python interpreter. Next, multiply `pop` by 2:\n",
    "\n",
    "```\n",
    "    pop = pop * 2\n",
    "```\n",
    "\n",
    "Then `print` the value of `pop`:\n",
    "\n",
    "```\n",
    "   print(pop)\n",
    "```\n",
    "\n",
    "Execution terminates once the condition `pop < 1000` becomes false.\n",
    "\n",
    "When we run the code, we can see that it prints 7 values, so it must take 7 hours for the population to exceed 10000. But let's adapt the code so that it prints this number. We'll need to introduce a second variable to keep track of the number of hours:"
   ]
  },
  {
   "cell_type": "markdown",
   "metadata": {},
   "source": [
    ":::{exercise} \n",
    ":label: exercise_1_6\n",
    "Replace the two comments in the code below so that it correctly prints the number of hours.\n",
    "```{code-block} python\n",
    "pop = 100\n",
    "# set i to zero\n",
    "while pop < 10000:\n",
    "    pop = pop * 2\n",
    "    # increase i by one\n",
    "    print(pop)\n",
    "    \n",
    "print(\"Number of hours:\", i)\n",
    "```\n",
    ":::"
   ]
  },
  {
   "cell_type": "markdown",
   "metadata": {},
   "source": [
    "Finally, suppose the the population growth rate is $1.02$ rather than $2$.\n",
    "\n",
    ":::{exercise}\n",
    ":label: exercise_1_7\n",
    "Change the code above so that the growth rate is $1.02$.\n",
    ":::"
   ]
  },
  {
   "cell_type": "markdown",
   "metadata": {},
   "source": [
    "Because the growth rate is much slower, we're getting to an enormous list of numbers. So let's print it only once every 24 hours instead.\n",
    "\n",
    ":::{exercise}\n",
    ":label: exercise_1_8\n",
    "Replace the line\n",
    "\n",
    "```\n",
    "print(pop)\n",
    "```\n",
    "\n",
    "with\n",
    "\n",
    "```\n",
    "if i % 24 == 0:\n",
    "    print(pop)\n",
    "```\n",
    "so that the population size is only displayed every 24 hours.\n",
    ":::"
   ]
  },
  {
   "cell_type": "markdown",
   "metadata": {},
   "source": [
    "\n",
    "## Radioactive Decay\n",
    "\n",
    "The half-life of a radioactive sample is the time taken for the activity of the sample (measured in Becquerels, Bq) to reduce by one-half. For example, Iodine-131 is a radioisotope with a half-life $t_\\mathrm{half} = 8.02$ days. If a sample of I-131 has an initial activity of  $5.00 \\times 10^{12}~\\mathrm{Bq}$ then after $8.02$ days its activity will be $2.50 \\times 10^{12}~\\mathrm{Bq}$, and after $16.04$ days its activity will be  $1.25 \\times 10^{12}~\\mathrm{Bq}$ and so on.\n",
    "\n",
    "In order to model the decay of Iodine-131 we first need to convert the half-life to the daily decay rate, i.e. the proportion of a sample that decays in one day. We can do this using the following formula:\n",
    "\n",
    "$$r = \\left(\\frac{1}{2}\\right) ^ {1/t_\\mathrm{half}}$$\n",
    "\n",
    ":::{exercise}\n",
    ":label: exercise_1_9\n",
    "Use the formula above to calculate the daily decay rate of Iodine-131.\n",
    "\n",
    "```\n",
    "half_life = 8.02\n",
    "r = # your calculation \n",
    "```\n",
    "\n",
    ":::"
   ]
  },
  {
   "cell_type": "markdown",
   "metadata": {},
   "source": [
    "Now let's suppose we have a sample of I-131 with an initial activity of $1.67 \\times 10^{12}~\\mathrm{Bq}$.\n",
    "\n",
    ":::{exercise}\n",
    ":label: exercise_1_10\n",
    "Write a program which calculates the number of days it takes for the sample to reach an activity of $10000$ Becquerels. What is the activity after $8$ days? What value would you expect?\n",
    ":::"
   ]
  },
  {
   "cell_type": "markdown",
   "metadata": {},
   "source": [
    ":::{exercise}\n",
    ":label: exercise_1_11\n",
    "Change your code so that it prints the activity of the sample once every 7 days.\n",
    ":::"
   ]
  },
  {
   "cell_type": "markdown",
   "metadata": {},
   "source": [
    "## Pseudocode\n",
    "\n",
    "Even for simple programs, it can be difficult to determine the sequence of Python commands required to correctly produce the desired outcome. One to way to make this process easier is to first write your program in **pseudocode**: human-readable instructions which describe the desired algorithm. The previous example might be expressed in pseudocode as follows:\n",
    "\n",
    ":::{card}\n",
    "Pseudocode Example\n",
    "^^^\n",
    "```{div} pseudocode\n",
    "set r to half to the power 1/8.02  \n",
    "set activity to 1.67 x 10^12  \n",
    "set day to 0  \n",
    "repeat until activity is less than 10000:  \n",
    "&nbsp;&nbsp;&nbsp;&nbsp; multiply activity by r  \n",
    "&nbsp;&nbsp;&nbsp;&nbsp; increase day by 1  \n",
    "&nbsp;&nbsp;&nbsp;&nbsp; if day is divisible by 7:  \n",
    "&nbsp;&nbsp;&nbsp;&nbsp;&nbsp;&nbsp;&nbsp;&nbsp; display activity\n",
    "```\n",
    ":::\n",
    "\n",
    "There are no strict rules for writing pseudocode - the purpose is to assist you in turning an idea into working code, so you are free to write it in a manner which makes most sense to you. However, the following general rules are recommended.\n",
    "\n",
    " 1. One line of pseudocode should translate to one line (possibly two lines) of Python code.\n",
    " 2. Indent lines which are part of a repeated or conditional block.\n",
    " 3. Do not include Python statements.\n",
    " 4. Keep it simple, concise and readable.\n",
    "\n",
    " Pseudocode is a tool which you can use to help you break down the process of writing a program. When presented with a problem you would typically:\n",
    "\n",
    " 1. Examine the problem and determine an algorithm to solve it\n",
    " 2. Write down (using pen and paper) your algorithm in pseudocode \n",
    " 3. Check that your algorithm works by 'running' the pseudocode in your head (or with pen and paper)\n",
    " 4. Convert the pseudocode to Python code and check that it works.\n",
    "\n",
    "## The Collatz Problem\n",
    " \n",
    "Given a positive integer $n$, the *Collatz Operation* is defined as follows:\n",
    "    \n",
    " - If the $n$ is even, divide it by two\n",
    " - If the $n$ is odd, triple it and add one\n",
    " \n",
    "Repeatedly applying the Collatz Operation results in a sequence of integers which eventually reaches the number 1.\n",
    "\n",
    "For example, the *Collatz Sequence* for $n = 5$ is:\n",
    "\n",
    "$$5, 16, 8, 4, 2, 1.$$\n",
    "\n",
    ":::{exercise}\n",
    ":label: exercise_1_12\n",
    "\n",
    "Using pen and paper, write pseudocode for a program which prints the Collatz Sequence for $n = 5$.\n",
    "\n",
    ":::\n",
    "\n",
    ":::{exercise}\n",
    ":label: exercise_1_13\n",
    "\n",
    "Use your answer to the previous question to write a program which generates the Collatz Sequence for any given positive integer $n$. For example, \n",
    "\n",
    "```\n",
    "n = 5\n",
    "\n",
    "# your code to generate the Collatz Sequence\n",
    "```\n",
    "\n",
    "should produce the following:\n",
    "\n",
    "```\n",
    "5\n",
    "16.0\n",
    "8.0\n",
    "4.0\n",
    "2.0\n",
    "1.0\n",
    "```\n",
    "\n",
    ":::"
   ]
  },
  {
   "cell_type": "markdown",
   "metadata": {},
   "source": [
    "Given a positive integer $n$, define the *Collatz Number* to be the length of the Collatz Sequence for $n$. For example, the Collatz number of 5 is 6.\n",
    "\n",
    ":::{exercise}\n",
    ":label: exercise_1_14\n",
    "Write a program which calculates and prints the Collatz number of a given number $n$. For example, \n",
    "\n",
    "```\n",
    "n = 5\n",
    "\n",
    "# your code to generate the Collatz Number\n",
    "```\n",
    "\n",
    "should produce the following:\n",
    "\n",
    "```\n",
    "The Collatz number of 5 is 6\n",
    "```\n",
    ":::\n"
   ]
  },
  {
   "cell_type": "markdown",
   "metadata": {},
   "source": [
    "<!-- :::{exercise} Challenge\n",
    ":label: exercise_1_15\n",
    "\n",
    "Write a program which finds the smallest number $n$ whose Collatz Number is greater than 200.\n",
    "\n",
    ":::\n",
    "-->"
   ]
  },
  {
   "cell_type": "markdown",
   "metadata": {},
   "source": [
    "## Nested Loops\n",
    "\n",
    "There are many cases when you want to have iteration happen within an iteration. In this case, we will “nest” our loops –- put one loop inside of another loop.\n",
    "\n",
    "See if you can understand what the following code is doing. "
   ]
  },
  {
   "cell_type": "code",
   "execution_count": 6,
   "metadata": {},
   "outputs": [
    {
     "name": "stdout",
     "output_type": "stream",
     "text": [
      "123456789\n",
      "123456789\n",
      "123456789\n",
      "123456789\n",
      "123456789\n",
      "123456789\n",
      "123456789\n",
      "123456789\n",
      "123456789\n"
     ]
    }
   ],
   "source": [
    "i = 1\n",
    "while i < 10:\n",
    "    j = 1\n",
    "    while j < 10:\n",
    "        print(j, end=\"\")\n",
    "        j = j + 1\n",
    "    print()\n",
    "    i = i + 1"
   ]
  },
  {
   "cell_type": "markdown",
   "metadata": {},
   "source": [
    ":::{exercise}\n",
    ":label: exercise_1_16\n",
    "Write a program which uses nested loops to print the following patterns:\n",
    "\n",
    "a)\n",
    "```\n",
    "123456123451234123121\n",
    "```\n",
    "\n",
    "b)\n",
    "```\n",
    "10101\n",
    "01010\n",
    "10101\n",
    "01010\n",
    "10101\n",
    "```\n",
    ":::"
   ]
  }
 ],
 "metadata": {
  "kernelspec": {
   "display_name": "base",
   "language": "python",
   "name": "python3"
  },
  "language_info": {
   "codemirror_mode": {
    "name": "ipython",
    "version": 3
   },
   "file_extension": ".py",
   "mimetype": "text/x-python",
   "name": "python",
   "nbconvert_exporter": "python",
   "pygments_lexer": "ipython3",
   "version": "3.9.12"
  }
 },
 "nbformat": 4,
 "nbformat_minor": 4
}
