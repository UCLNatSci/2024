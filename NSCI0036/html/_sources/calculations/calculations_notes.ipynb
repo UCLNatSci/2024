{
 "cells": [
  {
   "cell_type": "markdown",
   "metadata": {},
   "source": [
    "# Fundamentals"
   ]
  },
  {
   "cell_type": "markdown",
   "metadata": {},
   "source": [
    "## Arithmetic\n",
    "Python supports basic arithmetic operations addition, subtraction, multiplication and division using the symbols `+`, `-`, `*` and `/`. Brackets are used to indicate the order in which the parts of an expression are computed. For example, in the following expression, the division is performed first and then the addition."
   ]
  },
  {
   "cell_type": "code",
   "execution_count": 8,
   "metadata": {
    "scrolled": true
   },
   "outputs": [
    {
     "data": {
      "text/plain": [
       "5.0"
      ]
     },
     "execution_count": 8,
     "metadata": {},
     "output_type": "execute_result"
    }
   ],
   "source": [
    "3 + 4 / 2"
   ]
  },
  {
   "cell_type": "markdown",
   "metadata": {},
   "source": [
    "In order to compute $\\frac{3 + 4}{2}$, use brackets:"
   ]
  },
  {
   "cell_type": "code",
   "execution_count": 9,
   "metadata": {
    "scrolled": true
   },
   "outputs": [
    {
     "data": {
      "text/plain": [
       "3.5"
      ]
     },
     "execution_count": 9,
     "metadata": {},
     "output_type": "execute_result"
    }
   ],
   "source": [
    "(3 + 4) / 2"
   ]
  },
  {
   "cell_type": "markdown",
   "metadata": {},
   "source": [
    "In order to calculate powers, use the `**` operator. For example, the following calculates $8^3$:"
   ]
  },
  {
   "cell_type": "code",
   "execution_count": 10,
   "metadata": {},
   "outputs": [
    {
     "data": {
      "text/plain": [
       "512"
      ]
     },
     "execution_count": 10,
     "metadata": {},
     "output_type": "execute_result"
    }
   ],
   "source": [
    "8 ** 3"
   ]
  },
  {
   "cell_type": "markdown",
   "metadata": {},
   "source": [
    "### Arithmetic Operators\n",
    "\n",
    "The following arithmetic operators are available in Python. Modulo and Floor division are explained in {ref}`fundamentals_modulo_arithmetic`.   \n",
    "\n",
    "| Operator | Symbol |\n",
    "|---|---|\n",
    "| Addition | `+` |\n",
    "| Subtraction | `-` |\n",
    "| Multiplication | `*` |\n",
    "| Division | `/` |\n",
    "| Power | `**` |\n",
    "| Modulo | `%` |\n",
    "| Floor division | ``//`` |"
   ]
  },
  {
   "cell_type": "markdown",
   "metadata": {},
   "source": [
    "## Number Types\n",
    "\n",
    "Every Python variable has a **data type** as well as a value. The type determines what operations can be performed on the variable and how it is stored in the computer's memory. Python supports a number of primitive data types including numbers, strings, lists and files and in particular there are two number types: **integers** and **floating point numbers**. When we specify a number in code it is important to understand which type we are creating:\n",
    "\n",
    "|Number|Type|Description|\n",
    "|---|---|---|\n",
    "|`5`|`int`|A whole number|\n",
    "|`-5`|`int`|A negative integer|\n",
    "|`0.5`|`float`|A number with decimal part|\n",
    "|`5.0`|`float`|Including a decimal point always results in type `float`|\n",
    "|`5e6`|`float`|$5\\times10^6$|\n",
    "|`2.34e-5`|`float`|$2.34\\times10^{-5}$|"
   ]
  },
  {
   "cell_type": "markdown",
   "metadata": {},
   "source": [
    ":::{exercise}\n",
    ":label: exercise_1_1\n",
    "\n",
    "Use Python to calculate the value of $\\frac{-5 + \\sqrt{5^2 - 4}}{2}$.\n",
    "\n",
    "Hint: $\\sqrt{x} = x^{0.5}$.\n",
    ":::"
   ]
  },
  {
   "cell_type": "markdown",
   "metadata": {},
   "source": [
    ":::{solution} exercise_1_1\n",
    ":class: dropdown\n",
    "\n",
    "```{code-block} python\n",
    "(-5 + (5**2 - 4)**0.5) / 2\n",
    "```\n",
    "\n",
    ":::"
   ]
  },
  {
   "cell_type": "markdown",
   "metadata": {},
   "source": [
    "## Variables\n",
    "\n",
    "A **variable** is a named storage location in the computer's memory. We store a value in a variable so that we can use it later in our computations.\n",
    "\n",
    "We use **assignment** to set the value of a variable:"
   ]
  },
  {
   "cell_type": "code",
   "execution_count": 2,
   "metadata": {},
   "outputs": [],
   "source": [
    "speed = 35 # create a new variable named 'speed' and assign the value 35\n",
    "double_speed = speed * 2 # create new variable named 'double_speed'"
   ]
  },
  {
   "cell_type": "markdown",
   "metadata": {},
   "source": [
    "In order to inspect the value of a variable, we use the `print` function:"
   ]
  },
  {
   "cell_type": "code",
   "execution_count": 3,
   "metadata": {},
   "outputs": [
    {
     "name": "stdout",
     "output_type": "stream",
     "text": [
      "35\n",
      "70\n"
     ]
    }
   ],
   "source": [
    "print(speed)\n",
    "print(double_speed)"
   ]
  },
  {
   "cell_type": "markdown",
   "metadata": {},
   "source": [
    "The print statement can print multiple values. Separate each value by a comma `,` and use double quotes `\"` for literal text:"
   ]
  },
  {
   "cell_type": "code",
   "execution_count": 4,
   "metadata": {},
   "outputs": [
    {
     "name": "stdout",
     "output_type": "stream",
     "text": [
      "The value of speed: 35\n",
      "The value of double_speed: 70\n"
     ]
    }
   ],
   "source": [
    "print(\"The value of speed:\", speed)\n",
    "print(\"The value of double_speed:\", double_speed)"
   ]
  },
  {
   "cell_type": "markdown",
   "metadata": {},
   "source": [
    ":::{exercise} \n",
    ":label: exercise_1_2\n",
    "Complete the following code so that it prints the **two** solutions to the quadratic equation $x^2 + 5x + 4 = 0$:\n",
    "\n",
    "```\n",
    "a = 1\n",
    "b = 5\n",
    "c = 4\n",
    "\n",
    "pos_solution = (-b + (b**2 - 4*a*c)**0.5) / (2*a)\n",
    "\n",
    "print(\"Positive Solution:\", pos_solution)\n",
    "```\n",
    ":::"
   ]
  },
  {
   "cell_type": "markdown",
   "metadata": {},
   "source": [
    ":::{solution} exercise_1_2\n",
    ":class: dropdown\n",
    "\n",
    "```{code-block} python\n",
    "a = 1\n",
    "b = 5\n",
    "c = 4\n",
    "\n",
    "pos_solution = (-b + (b**2 - 4*a*c)**0.5) / (2*a)\n",
    "neg_solution = (-b - (b**2 - 4*a*c)**0.5) / (2*a)\n",
    "\n",
    "print(\"Positive Solution:\", pos_solution)\n",
    "print(\"Negative Solution:\", neg_solution)\n",
    "```\n",
    "\n",
    ":::"
   ]
  },
  {
   "cell_type": "markdown",
   "metadata": {},
   "source": [
    "```{note}\n",
    "**VARIABLE NAMING RULES**  \n",
    "- A variable name can only contain alpha-numeric characters and underscores (`A-Z`, `a-z`, `0-9`, and `_`)\n",
    "- A variable name cannot start with a number\n",
    "- Variable names are case-sensitive (`age`, `Age` and `AGE` are three different variables)\n",
    "```\n",
    ":::{warning}\n",
    "Beware of accidentally renaming Python keywords. The following is correct Python but a Very Bad Idea because it renames the `print` function, which will result in some very weird errors!\n",
    "\n",
    "```\n",
    "print = 5\n",
    "\n",
    "print(print) # this won't work.\n",
    "```\n",
    ":::\n"
   ]
  },
  {
   "cell_type": "markdown",
   "metadata": {},
   "source": [
    "## Updating Variables\n",
    "\n",
    "We can use assignment to change the value of a variable. In this case, the same variable appears on both sides of the equals sign:"
   ]
  },
  {
   "cell_type": "code",
   "execution_count": 6,
   "metadata": {},
   "outputs": [
    {
     "name": "stdout",
     "output_type": "stream",
     "text": [
      "42\n"
     ]
    }
   ],
   "source": [
    "print(\"Original speed:\", speed)\n",
    "\n",
    "speed = speed + 2 # Increase the value of speed by 2\n",
    "\n",
    "print(\"New speed:\", speed)"
   ]
  },
  {
   "cell_type": "markdown",
   "metadata": {},
   "source": [
    "This is a legal statement because Python first evaluates the expression on the right of the equals sign (`speed + 2`) and *then* places the result into the variable on the left."
   ]
  },
  {
   "cell_type": "markdown",
   "metadata": {},
   "source": [
    ":::{exercise}\n",
    ":label: exercise_1_3\n",
    "\n",
    "Complete the code below so that it divides `v` by `5` three times, printing its value each time.\n",
    "```\n",
    "v = 1000\n",
    "print(\"v:\", v)\n",
    "\n",
    "# your code here\n",
    "\n",
    "```\n",
    "\n",
    "should output:\n",
    "\n",
    "```\n",
    "v: 1000\n",
    "v: 200.0\n",
    "v: 40.0\n",
    "v: 8.0\n",
    "```\n",
    ":::\n"
   ]
  },
  {
   "cell_type": "markdown",
   "metadata": {},
   "source": [
    ":::{solution} exercise_1_3\n",
    ":class: dropdown\n",
    "\n",
    "```{code-block} python\n",
    "v = 1000\n",
    "print(\"v:\", v)\n",
    "v = v / 5\n",
    "print(\"v:\", v)\n",
    "v = v / 5\n",
    "print(\"v:\", v)\n",
    "v = v / 5\n",
    "print(\"v:\", v)\n",
    "```\n",
    ":::\n"
   ]
  },
  {
   "cell_type": "markdown",
   "metadata": {},
   "source": [
    "## Getting Help\n",
    "\n",
    "`print` is the first of many Python in-built functions that we will study.\n",
    "\n",
    "You can find out more about Python functions by using the `help()` function. Let's learn about the `print` function."
   ]
  },
  {
   "cell_type": "code",
   "execution_count": 6,
   "metadata": {
    "scrolled": true
   },
   "outputs": [
    {
     "name": "stdout",
     "output_type": "stream",
     "text": [
      "Help on built-in function print in module builtins:\n",
      "\n",
      "print(...)\n",
      "    print(value, ..., sep=' ', end='\\n', file=sys.stdout, flush=False)\n",
      "    \n",
      "    Prints the values to a stream, or to sys.stdout by default.\n",
      "    Optional keyword arguments:\n",
      "    file:  a file-like object (stream); defaults to the current sys.stdout.\n",
      "    sep:   string inserted between values, default a space.\n",
      "    end:   string appended after the last value, default a newline.\n",
      "    flush: whether to forcibly flush the stream.\n",
      "\n"
     ]
    }
   ],
   "source": [
    "help(print)"
   ]
  },
  {
   "cell_type": "markdown",
   "metadata": {},
   "source": [
    "For example, from this we can see how to change the default seperator using `sep`:"
   ]
  },
  {
   "cell_type": "code",
   "execution_count": 2,
   "metadata": {},
   "outputs": [
    {
     "name": "stdout",
     "output_type": "stream",
     "text": [
      "1-2-3\n"
     ]
    }
   ],
   "source": [
    "print(\"1\", \"2\", \"3\", sep=\"-\")"
   ]
  },
  {
   "cell_type": "markdown",
   "metadata": {},
   "source": [
    "(fundamentals_modulo_arithmetic)=\n",
    "## Modulo Arithmetic\n",
    "\n",
    "Using the `/` operator results in a floating-point (decimal) value:"
   ]
  },
  {
   "cell_type": "code",
   "execution_count": 11,
   "metadata": {},
   "outputs": [
    {
     "data": {
      "text/plain": [
       "2.25"
      ]
     },
     "execution_count": 11,
     "metadata": {},
     "output_type": "execute_result"
    }
   ],
   "source": [
    "9 / 4"
   ]
  },
  {
   "cell_type": "markdown",
   "metadata": {},
   "source": [
    "On the other hand, the `//` operator performs **floor division**, computing the quotient and discarding the fractional part:"
   ]
  },
  {
   "cell_type": "code",
   "execution_count": 12,
   "metadata": {},
   "outputs": [
    {
     "data": {
      "text/plain": [
       "2"
      ]
     },
     "execution_count": 12,
     "metadata": {},
     "output_type": "execute_result"
    }
   ],
   "source": [
    "9 // 4"
   ]
  },
  {
   "cell_type": "markdown",
   "metadata": {},
   "source": [
    "To calculate the remainder after floor division, use the **modulus** operator `%`:"
   ]
  },
  {
   "cell_type": "code",
   "execution_count": 13,
   "metadata": {},
   "outputs": [
    {
     "data": {
      "text/plain": [
       "1"
      ]
     },
     "execution_count": 13,
     "metadata": {},
     "output_type": "execute_result"
    }
   ],
   "source": [
    "9 % 4"
   ]
  },
  {
   "cell_type": "markdown",
   "metadata": {},
   "source": [
    "### Example 1\n",
    "The `%` operator is useful to determine if a variable is divisible by a number. For example, if a number is even its remainder after dividing by 2 is zero; if it is odd its remainder after dividing by 2 is 1:"
   ]
  },
  {
   "cell_type": "code",
   "execution_count": 14,
   "metadata": {},
   "outputs": [
    {
     "name": "stdout",
     "output_type": "stream",
     "text": [
      "1\n",
      "0\n"
     ]
    }
   ],
   "source": [
    "x = 5\n",
    "print(x % 2)\n",
    "x = 6\n",
    "print(x % 2)"
   ]
  },
  {
   "cell_type": "markdown",
   "metadata": {},
   "source": [
    "### Example 2\n",
    "Suppose we have 1234 pennies in the piggy-bank. How much do we have in pounds and pence? First we divide by 100 to get the whole number of pounds:"
   ]
  },
  {
   "cell_type": "code",
   "execution_count": 15,
   "metadata": {},
   "outputs": [
    {
     "name": "stdout",
     "output_type": "stream",
     "text": [
      "Pounds: 12\n"
     ]
    }
   ],
   "source": [
    "num_pennies = 1234\n",
    "pounds = num_pennies // 100\n",
    "print(\"Pounds:\", pounds)"
   ]
  },
  {
   "cell_type": "markdown",
   "metadata": {},
   "source": [
    "Next we use the `%` operator to find the number of pence:"
   ]
  },
  {
   "cell_type": "code",
   "execution_count": 16,
   "metadata": {},
   "outputs": [
    {
     "name": "stdout",
     "output_type": "stream",
     "text": [
      "Pence: 34\n"
     ]
    }
   ],
   "source": [
    "pence = num_pennies % 100\n",
    "print(\"Pence:\", pence)"
   ]
  },
  {
   "cell_type": "markdown",
   "metadata": {},
   "source": [
    "## Repeating code using `while`\n",
    "\n",
    "A **loop** is a sequence of instructions which is executed repeatedly until a goal is reached. The `while` loop repeats a section of code while a specific condition is true.\n",
    "\n",
    "The following loop repeatedly divides the variable `v` by `5` while the condition `v > 10` is true."
   ]
  },
  {
   "cell_type": "code",
   "execution_count": null,
   "metadata": {},
   "outputs": [
    {
     "ename": "",
     "evalue": "",
     "output_type": "error",
     "traceback": [
      "\u001b[1;31mRunning cells with 'Python 3.7.9 64-bit (windows store)' requires ipykernel package.\n",
      "Run the following command to install 'ipykernel' into the Python environment. \n",
      "Command: 'c:/Users/NatSciTeaching/AppData/Local/Microsoft/WindowsApps/python3.7.exe -m pip install ipykernel -U --user --force-reinstall'"
     ]
    }
   ],
   "source": [
    "v = 1000\n",
    "while v > 10:\n",
    "    print(\"v:\", v)\n",
    "    v = v / 5"
   ]
  },
  {
   "cell_type": "markdown",
   "metadata": {},
   "source": [
    ":::{exercise}\n",
    ":label: exercise_1_4\n",
    "Write a `while` loop which **multiplies** `v` by `5` while `v` is **less** than `1000`.\n",
    "\n",
    "```\n",
    "v = 10\n",
    "\n",
    "# your code here\n",
    "```\n",
    "\n",
    "Should produce:\n",
    "\n",
    "```\n",
    "v: 10\n",
    "v: 50\n",
    "v: 250\n",
    "```\n",
    ":::"
   ]
  },
  {
   "cell_type": "markdown",
   "metadata": {},
   "source": [
    ":::{solution} exercise_1_4\n",
    ":class: dropdown\n",
    "\n",
    "```{code-block} python\n",
    "v = 10\n",
    "\n",
    "while (v < 1000):\n",
    "    print(\"v:\", v)\n",
    "    v = v * 5\n",
    "```\n",
    ":::"
   ]
  },
  {
   "cell_type": "markdown",
   "metadata": {},
   "source": [
    "## `If` statement\n",
    "The specific heat capacity of water depends on whether it is in a solid, liquid or gaseous state.\n",
    "\n",
    "|State|Specific heat capacity (kJ/kgK)|\n",
    "|---|---|\n",
    "|Solid|2.108|\n",
    "|Liquid|4.187|\n",
    "|Gas|1.996|\n",
    "\n",
    "Let's write code which, given the temperature of a water sample, sets the value of the variable `shc` to the appropriate value (of course, we need to know the melting and boiling points of water!)"
   ]
  },
  {
   "cell_type": "code",
   "execution_count": 17,
   "metadata": {},
   "outputs": [
    {
     "name": "stdout",
     "output_type": "stream",
     "text": [
      "Specific heat capacity: 4.187 kJ/kgK\n"
     ]
    }
   ],
   "source": [
    "temp = 90 # temperature of water sample\n",
    "\n",
    "if temp > 100: # gas\n",
    "    shc = 1.996\n",
    "elif temp > 0: # liquid\n",
    "    shc = 4.187\n",
    "else:          # solid\n",
    "    shc = 2.108\n",
    "    \n",
    "print(\"Specific heat capacity:\", shc, \"kJ/kgK\")"
   ]
  },
  {
   "cell_type": "markdown",
   "metadata": {},
   "source": [
    "The `if` statement evaluates the expression `temp > 100` and if it is true, executes the indented code directly underneath, then skips to the next statement after the `if-else` block. If it is not true, execution moves to the `elif` statement. If the expression `temp > 0` is true, the indented code beneath it is executed  and execution skips to the next statement after the `if-else` block. Finally, if neither expression is true, the indent code block below the `else` statement is executed.\n",
    "\n",
    ":::{note}\n",
    "**`If` statement**\n",
    "- Exactly one of the indented code blocks will be executed.\n",
    "- Use the `tab` key to indent code by exactly four spaces.\n",
    "- The `if`, `elif` and `else` statements must be followed by a colon (`:`).\n",
    "- Note the unusual keyword `elif` (rather than `elseif`).\n",
    "- The `elif` and `else` statements are optional.\n",
    ":::\n",
    "\n",
    ":::{warning}\n",
    "**Assignment vs Equality**  \n",
    "\n",
    "`=` is the **assignment** operator. It assigns the value on the right to the variable on the left:\n",
    "```\n",
    "x = 6 + 7 # sets x to the value 13\n",
    "```\n",
    "\n",
    "`==` is the **equality** operator. It evaluates to `True` if the expression on the left is equal to the expression on the right.\n",
    "```\n",
    "x == 13 # returns `True`\n",
    "```\n",
    "\n",
    "The condition in an `if` statement should always use `==`. This is a common mistake:\n",
    "\n",
    "```\n",
    "if x = 13: # this is a mistake. Be careful!\n",
    "    print(\"yes\")\n",
    "```\n",
    ":::"
   ]
  },
  {
   "cell_type": "markdown",
   "metadata": {},
   "source": [
    ":::{exercise}\n",
    ":label: exercise_1_5\n",
    "\n",
    "Complete the code below so that it prints\n",
    "\n",
    "`x is even`\n",
    "\n",
    "if is `x` is divisible by `2` and prints\n",
    "\n",
    "`x is odd`\n",
    "\n",
    "if it is not divisible by `2`.\n",
    "\n",
    "```\n",
    "x = 53783\n",
    "\n",
    "# your code here\n",
    "```\n",
    "\n",
    "Should produce:\n",
    "\n",
    "```\n",
    "x is odd.\n",
    "```\n",
    "\n",
    "Check that your code works by changing the value of `x` and running the code again.\n",
    "\n",
    ":::"
   ]
  },
  {
   "cell_type": "markdown",
   "metadata": {},
   "source": [
    ":::{solution} exercise_1_5\n",
    ":class: dropdown\n",
    "\n",
    "```{code-block} python\n",
    "x = 53783\n",
    "\n",
    "if (x % 2) == 0:\n",
    "    print('x is even')\n",
    "else:\n",
    "    print('x is odd')\n",
    "\n",
    "```\n",
    "\n",
    ":::"
   ]
  }
 ],
 "metadata": {
  "kernelspec": {
   "display_name": "Python 3 (ipykernel)",
   "language": "python",
   "name": "python3"
  },
  "language_info": {
   "codemirror_mode": {
    "name": "ipython",
    "version": 3
   },
   "file_extension": ".py",
   "mimetype": "text/x-python",
   "name": "python",
   "nbconvert_exporter": "python",
   "pygments_lexer": "ipython3",
   "version": "3.7.9"
  },
  "vscode": {
   "interpreter": {
    "hash": "7f871366baaeb23d5e2a586caa18124c1371cc3d3832dcd001f8f599e1be9e29"
   }
  }
 },
 "nbformat": 4,
 "nbformat_minor": 4
}
