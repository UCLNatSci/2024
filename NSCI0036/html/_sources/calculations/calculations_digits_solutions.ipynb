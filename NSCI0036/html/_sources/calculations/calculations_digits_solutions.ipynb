{
 "cells": [
  {
   "cell_type": "markdown",
   "id": "5227dbb3",
   "metadata": {},
   "source": [
    "(calculations_extra_digits_solutions)=\n",
    "# Solutions (1.16)\n",
    ":::{solution} calculations_extra_digits\n",
    "\n",
    ":::\n",
    "\n",
    "## Pseudocode\n",
    "\n",
    "This is one way to write the pseudocode. Yours might be different. If you gave your pseudocode to your friend, could they easily turn it into a Python program?\n",
    "\n",
    ":::{card}\n",
    "```{div} pseudocode\n",
    "Set value of n  \n",
    "Set n_digits to 0  \n",
    "While n is greater than or equal to 1:  \n",
    "&nbsp;&nbsp;&nbsp;&nbsp;Divide n by 10  \n",
    "&nbsp;&nbsp;&nbsp;&nbsp;Add 1 to n_digits      \n",
    "Display n_digits\n",
    "```\n",
    ":::"
   ]
  },
  {
   "cell_type": "markdown",
   "id": "1f599d0a",
   "metadata": {},
   "source": [
    "## Implementation"
   ]
  },
  {
   "cell_type": "code",
   "execution_count": 3,
   "id": "e8f3e8b2",
   "metadata": {},
   "outputs": [
    {
     "name": "stdout",
     "output_type": "stream",
     "text": [
      "1234 has 4 digits.\n"
     ]
    }
   ],
   "source": [
    "# Input n\n",
    "n = 1234\n",
    "\n",
    "# Set n_digits to 0\n",
    "n_digits = 0\n",
    "\n",
    "# Extra step to remember starting value\n",
    "start = n\n",
    "\n",
    "while n >= 1:\n",
    "    n = n / 10                 # Divide n by 10\n",
    "    n_digits = n_digits + 1    # Add 1 to n_digits\n",
    "\n",
    "# Output n_digits\n",
    "print(start, \"has\", n_digits, \"digits.\")"
   ]
  },
  {
   "cell_type": "markdown",
   "id": "9615fd1a",
   "metadata": {},
   "source": [
    "## Testing"
   ]
  },
  {
   "cell_type": "markdown",
   "id": "bc386469",
   "metadata": {},
   "source": [
    "When we write a program it is important to check that it works as expected in different scenarios. To do this, we need to consider different scenarios the program might encounter, and how we would expect a 'correct' program to behave.\n",
    "\n",
    "For this program, some scenarios we might like to test are:\n",
    "- Positive integers with different numbers of digits:"
   ]
  },
  {
   "cell_type": "code",
   "execution_count": 4,
   "id": "0c08fa86",
   "metadata": {},
   "outputs": [
    {
     "name": "stdout",
     "output_type": "stream",
     "text": [
      "7 has 1 digits.\n"
     ]
    }
   ],
   "source": [
    "# Input n\n",
    "n = 7\n",
    "\n",
    "# Set n_digits to 0\n",
    "n_digits = 0\n",
    "\n",
    "# Extra step to remember starting value\n",
    "start = n\n",
    "\n",
    "while n >= 1:\n",
    "    n = n / 10                 # Divide n by 10\n",
    "    n_digits = n_digits + 1    # Add 1 to n_digits\n",
    "\n",
    "# Output n_digits\n",
    "print(start, \"has\", n_digits, \"digits.\")"
   ]
  },
  {
   "cell_type": "code",
   "execution_count": 5,
   "id": "94d1f1a1",
   "metadata": {},
   "outputs": [
    {
     "name": "stdout",
     "output_type": "stream",
     "text": [
      "9876543210 has 10 digits.\n"
     ]
    }
   ],
   "source": [
    "# Input n\n",
    "n = 9876543210\n",
    "\n",
    "# Set n_digits to 0\n",
    "n_digits = 0\n",
    "\n",
    "# Extra step to remember starting value\n",
    "start = n\n",
    "\n",
    "while n >= 1:\n",
    "    n = n / 10                 # Divide n by 10\n",
    "    n_digits = n_digits + 1    # Add 1 to n_digits\n",
    "\n",
    "# Output n_digits\n",
    "print(start, \"has\", n_digits, \"digits.\")"
   ]
  },
  {
   "cell_type": "markdown",
   "id": "2774672b",
   "metadata": {},
   "source": [
    "These answers are both correct, but maybe we could tweak the code so that if there is only one digit it prints ```\"7 has 1 digit.\"``` instead of ```\"7 has 1 digits.\"```\n",
    "\n",
    "- Zero"
   ]
  },
  {
   "cell_type": "code",
   "execution_count": 6,
   "id": "94c32a8c",
   "metadata": {},
   "outputs": [
    {
     "name": "stdout",
     "output_type": "stream",
     "text": [
      "0 has 0 digits.\n"
     ]
    }
   ],
   "source": [
    "# Input n\n",
    "n = 0\n",
    "\n",
    "# Set n_digits to 0\n",
    "n_digits = 0\n",
    "\n",
    "# Extra step to remember starting value\n",
    "start = n\n",
    "\n",
    "while n >= 1:\n",
    "    n = n / 10                 # Divide n by 10\n",
    "    n_digits = n_digits + 1    # Add 1 to n_digits\n",
    "\n",
    "# Output n_digits\n",
    "print(start, \"has\", n_digits, \"digits.\")"
   ]
  },
  {
   "cell_type": "markdown",
   "id": "fd12a63d",
   "metadata": {},
   "source": [
    "The program is behaving as we would expect here, but we could think about whether zero is a special case, and the program should output ```\"0 has 1 digit\"``` instead. In scenarios like this, the answer often depends on what the program will actually be used for. \n",
    "\n",
    "- Numbers with decimal places"
   ]
  },
  {
   "cell_type": "code",
   "execution_count": 7,
   "id": "8113e5ee",
   "metadata": {},
   "outputs": [
    {
     "name": "stdout",
     "output_type": "stream",
     "text": [
      "1234.5678 has 4 digits.\n"
     ]
    }
   ],
   "source": [
    "# Input n\n",
    "n = 1234.5678\n",
    "\n",
    "# Set n_digits to 0\n",
    "n_digits = 0\n",
    "\n",
    "# Extra step to remember starting value\n",
    "start = n\n",
    "\n",
    "while n >= 1:\n",
    "    n = n / 10                 # Divide n by 10\n",
    "    n_digits = n_digits + 1    # Add 1 to n_digits\n",
    "\n",
    "# Output n_digits\n",
    "print(start, \"has\", n_digits, \"digits.\")"
   ]
  },
  {
   "cell_type": "markdown",
   "id": "ffca50ab",
   "metadata": {},
   "source": [
    "The program is still working as we would expect - remember that this program is written to count the number of digits (i.e. positive powers of 10), not the number of decimal places (i.e. negative powers of 10)! \n",
    "- Negative numbers"
   ]
  },
  {
   "cell_type": "code",
   "execution_count": 8,
   "id": "c18441fb",
   "metadata": {},
   "outputs": [
    {
     "name": "stdout",
     "output_type": "stream",
     "text": [
      "-1 has 0 digits.\n"
     ]
    }
   ],
   "source": [
    "# Input n\n",
    "n = -1\n",
    "\n",
    "# Set n_digits to 0\n",
    "n_digits = 0\n",
    "\n",
    "# Extra step to remember starting value\n",
    "start = n\n",
    "\n",
    "while n >= 1:\n",
    "    n = n / 10                 # Divide n by 10\n",
    "    n_digits = n_digits + 1    # Add 1 to n_digits\n",
    "\n",
    "# Output n_digits\n",
    "print(start, \"has\", n_digits, \"digits.\")"
   ]
  },
  {
   "cell_type": "markdown",
   "id": "8c22a182",
   "metadata": {},
   "source": [
    "The number is less than one, so we don't enter the while loop. In this case, -1 has 1 digit, so we need to change the program"
   ]
  },
  {
   "cell_type": "markdown",
   "id": "df7efc83",
   "metadata": {},
   "source": [
    "## Extending\n",
    "\n",
    "First, let's think about how we can change the pseudo-code so that the program works for negative numbers. \n",
    "\n",
    "We know that a negative number, $-n$, has the same number of digits as the positive number $n$. So to make the program work for negative numbers, we just need to check whether the input is negative, and if it is, turn it into a positive number with the same number of digits. \n",
    "\n",
    "```\n",
    "Input n\n",
    "\n",
    "If n < 0 then\n",
    "    Multiply n by -1\n",
    "\n",
    "Set n_digits to 0\n",
    "While n >= 1\n",
    "    Divide n by 10\n",
    "    Add 1 to n_digits\n",
    "    \n",
    "Output n_digits\n",
    "```"
   ]
  },
  {
   "cell_type": "code",
   "execution_count": 13,
   "id": "5c148208",
   "metadata": {},
   "outputs": [
    {
     "name": "stdout",
     "output_type": "stream",
     "text": [
      "-1 has 1 digits.\n"
     ]
    }
   ],
   "source": [
    "# Input n\n",
    "n = -1\n",
    "\n",
    "# Extra step to remember starting value\n",
    "start = n\n",
    "\n",
    "# Check if n is negative\n",
    "if (n < 0):\n",
    "    n = n * -1 # Make n positive\n",
    "\n",
    "# Set n_digits to 0\n",
    "n_digits = 0\n",
    "\n",
    "while n >= 1:\n",
    "    n = n / 10                 # Divide n by 10\n",
    "    n_digits = n_digits + 1    # Add 1 to n_digits\n",
    "\n",
    "# Output n_digits\n",
    "print(start, \"has\", n_digits, \"digits.\")"
   ]
  },
  {
   "cell_type": "code",
   "execution_count": 1,
   "id": "55a93976",
   "metadata": {},
   "outputs": [
    {
     "name": "stdout",
     "output_type": "stream",
     "text": [
      "-112358 has 6 digits.\n"
     ]
    }
   ],
   "source": [
    "# Input n\n",
    "n = -112358\n",
    "\n",
    "# Extra step to remember starting value\n",
    "start = n\n",
    "\n",
    "# Check if n is negative\n",
    "if (n < 0):\n",
    "    n = n * -1 # Make n positive\n",
    "\n",
    "# Set n_digits to 0\n",
    "n_digits = 0\n",
    "\n",
    "while n >= 1:\n",
    "    n = n / 10                 # Divide n by 10\n",
    "    n_digits = n_digits + 1    # Add 1 to n_digits\n",
    "\n",
    "# Output n_digits\n",
    "print(start, \"has\", n_digits, \"digits.\")"
   ]
  },
  {
   "cell_type": "code",
   "execution_count": null,
   "id": "db6e28a2",
   "metadata": {},
   "outputs": [
    {
     "name": "stdout",
     "output_type": "stream",
     "text": [
      "-112358 has 6 digits.\n"
     ]
    }
   ],
   "source": [
    "# Input n\n",
    "n = -112358\n",
    "\n",
    "# Extra step to remember starting value\n",
    "start = n\n",
    "\n",
    "# Check if n is negative\n",
    "if (n < 0):\n",
    "    n = n * -1 # Make n positive\n",
    "\n",
    "# Set n_digits to 0\n",
    "n_digits = 0\n",
    "\n",
    "while n >= 1:\n",
    "    n = n / 10                 # Divide n by 10\n",
    "    n_digits = n_digits + 1    # Add 1 to n_digits\n",
    "\n",
    "# Output n_digits\n",
    "print(start, \"has\", n_digits, \"digits.\")"
   ]
  }
 ],
 "metadata": {
  "kernelspec": {
   "display_name": "Python 3 (ipykernel)",
   "language": "python",
   "name": "python3"
  },
  "language_info": {
   "codemirror_mode": {
    "name": "ipython",
    "version": 3
   },
   "file_extension": ".py",
   "mimetype": "text/x-python",
   "name": "python",
   "nbconvert_exporter": "python",
   "pygments_lexer": "ipython3",
   "version": "3.10.4"
  },
  "vscode": {
   "interpreter": {
    "hash": "7f871366baaeb23d5e2a586caa18124c1371cc3d3832dcd001f8f599e1be9e29"
   }
  }
 },
 "nbformat": 4,
 "nbformat_minor": 5
}
