{
 "cells": [
  {
   "cell_type": "markdown",
   "metadata": {},
   "source": [
    "# Solutions\n",
    "\n",
    ":::{solution} exercise_1_6\n",
    "\n",
    "```{code-block} python\n",
    "pop = 100\n",
    "i = 0\n",
    "while pop < 10000:\n",
    "    pop = pop * 2\n",
    "    i = i + 1\n",
    "    print(pop)\n",
    "    \n",
    "print(\"Number of hours:\", i)\n",
    "```\n",
    ":::\n",
    "\n",
    "\n"
   ]
  },
  {
   "cell_type": "markdown",
   "metadata": {},
   "source": [
    ":::{solution} exercise_1_7\n",
    "\n",
    "```{code-block} python\n",
    "pop = 100\n",
    "i = 0\n",
    "while pop < 10000:\n",
    "    pop = pop * 1.02\n",
    "    i = i + 1\n",
    "    print(pop)\n",
    "\n",
    "print(\"Number of hours:\", i)\n",
    "```\n",
    "\n",
    ":::"
   ]
  },
  {
   "cell_type": "markdown",
   "metadata": {},
   "source": [
    ":::{solution} exercise_1_8\n",
    "\n",
    "```{code-block} python\n",
    "pop = 100\n",
    "i = 0\n",
    "while pop < 10000:\n",
    "    pop = pop * 1.02\n",
    "    i = i + 1\n",
    "    if i % 24 == 0:\n",
    "        print(pop)\n",
    "\n",
    "print(\"Number of hours:\", i)\n",
    "```\n",
    "\n",
    ":::"
   ]
  },
  {
   "cell_type": "markdown",
   "metadata": {},
   "source": [
    ":::{solution} exercise_1_9\n",
    "```\n",
    "half_life = 8.02\n",
    "r = 0.5 ** (1/half_life)\n",
    "print('Daily decay rate:', r)\n",
    "```\n",
    ":::"
   ]
  },
  {
   "cell_type": "markdown",
   "metadata": {},
   "source": [
    ":::{solution} exercise_1_10\n",
    "\n",
    "We would expect that after 8 days the activity would have approximately halved ($8.35 \\times 10^{11}~\\mathrm{Bq}$).\n",
    "\n",
    "```\n",
    "# starting conditions\n",
    "activity = 1.67 * (10**12)\n",
    "day = 0\n",
    "\n",
    "while activity > 10000:\n",
    "    # activity decreases by the daily decay rate each day\n",
    "    activity = activity * r\n",
    "    day = day + 1\n",
    "    \n",
    "    # check the activity on day 8\n",
    "    if (day == 8):\n",
    "        print('The activity after 8 days is', activity, 'Becquerels')\n",
    "\n",
    "print('Days taken to reach 10000 Becquerels:', day)\n",
    "```\n",
    "\n",
    ":::"
   ]
  },
  {
   "cell_type": "markdown",
   "metadata": {},
   "source": [
    "\n",
    "\n",
    ":::{solution} exercise_1_11\n",
    "\n",
    "```\n",
    "# starting conditions\n",
    "activity = 1.67 * (10**12)\n",
    "day = 0\n",
    "\n",
    "while activity > 10000:\n",
    "    # activity decreases by the daily decay rate each day\n",
    "    activity = activity * r\n",
    "    day = day + 1\n",
    "\n",
    "    # print the activity once every 7 days\n",
    "    if day % 7 == 0:\n",
    "        print(activity, 'Becquerels')\n",
    "\n",
    "print('Days taken to reach 10000 Becquerels:', day)\n",
    "```\n",
    "\n",
    ":::\n",
    "\n",
    ":::{solution} exercise_1_12\n",
    "\n",
    "```{div} pseudocode\n",
    "set n to 5  \n",
    "repeat while n is greater than 1:  \n",
    "&nbsp;&nbsp;&nbsp;&nbsp;if n is even:  \n",
    "&nbsp;&nbsp;&nbsp;&nbsp;&nbsp;&nbsp;&nbsp;&nbsp; set n to n/2  \n",
    "&nbsp;&nbsp;&nbsp;&nbsp;if n is odd:  \n",
    "&nbsp;&nbsp;&nbsp;&nbsp;&nbsp;&nbsp;&nbsp;&nbsp; set n to 3n + 1  \n",
    "&nbsp;&nbsp;&nbsp;&nbsp;display n  \n",
    "```\n",
    "\n",
    ":::"
   ]
  },
  {
   "cell_type": "markdown",
   "metadata": {},
   "source": [
    ":::{solution} exercise_1_13\n",
    "\n",
    "\n",
    "```\n",
    "n = 5\n",
    "\n",
    "while (n > 1):\n",
    "    if (n % 2) == 0:\n",
    "        # n is even, divide by two\n",
    "        n = n / 2\n",
    "    else:\n",
    "        # n is odd, triple and add one\n",
    "        n = (n * 3) + 1\n",
    "    \n",
    "    print(n)    \n",
    "```\n",
    ":::"
   ]
  },
  {
   "cell_type": "markdown",
   "metadata": {},
   "source": [
    ":::{solution} exercise_1_14\n",
    "\n",
    "```\n",
    "n = 5\n",
    "collatz_num = 1\n",
    "\n",
    "# we will change n, so we need to remember what value we started with\n",
    "start = n\n",
    "\n",
    "while (n > 1):\n",
    "    if (n % 2) == 0:\n",
    "        # n is even, divide by two\n",
    "        n = n / 2\n",
    "    else:\n",
    "        # n is odd, triple and add one\n",
    "        n = (n * 3) + 1\n",
    "    \n",
    "    collatz_num = collatz_num + 1\n",
    "    \n",
    "print('The Collatz number of', start, 'is', collatz_num)\n",
    "        \n",
    "```\n",
    ":::"
   ]
  },
  {
   "cell_type": "markdown",
   "metadata": {
    "vscode": {
     "languageId": "plaintext"
    }
   },
   "source": [
    ":::{solution} exercise_1_16\n",
    ":::"
   ]
  },
  {
   "cell_type": "code",
   "execution_count": 3,
   "metadata": {},
   "outputs": [
    {
     "name": "stdout",
     "output_type": "stream",
     "text": [
      "123456\n",
      "12345\n",
      "1234\n",
      "123\n",
      "12\n",
      "1\n"
     ]
    }
   ],
   "source": [
    "i = 6\n",
    "while i >= 1:\n",
    "    j = 1\n",
    "    while j <= i:\n",
    "        print(j, end=\"\")\n",
    "        j = j + 1\n",
    "    print()\n",
    "    i = i - 1"
   ]
  },
  {
   "cell_type": "code",
   "execution_count": 3,
   "metadata": {},
   "outputs": [
    {
     "name": "stdout",
     "output_type": "stream",
     "text": [
      "01010\n",
      "10101\n",
      "01010\n",
      "10101\n",
      "01010\n"
     ]
    }
   ],
   "source": [
    "i = 1\n",
    "while i <= 5:\n",
    "    j = 1\n",
    "    while j <= 5:\n",
    "        print((i + j) % 2, end=\"\")\n",
    "        j = j + 1\n",
    "    print()\n",
    "    i = i + 1"
   ]
  },
  {
   "cell_type": "code",
   "execution_count": 13,
   "metadata": {},
   "outputs": [
    {
     "name": "stdout",
     "output_type": "stream",
     "text": [
      "AAAAAB\n",
      "AAAABB\n",
      "AAABBB\n",
      "AABBBB\n",
      "ABBBBB\n",
      "BBBBBB\n"
     ]
    }
   ],
   "source": [
    "i = 1\n",
    "while i <= 6:\n",
    "    j = 1\n",
    "    while j <= 6:\n",
    "        if i + j <= 6:\n",
    "            print(\"A\", end=\"\")\n",
    "        else:\n",
    "            print(\"B\", end=\"\")\n",
    "        j = j + 1\n",
    "    print()\n",
    "    i = i + 1"
   ]
  },
  {
   "cell_type": "markdown",
   "metadata": {},
   "source": [
    "<!-- :::{solution} exercise_1_15\n",
    "To do this we need to 'nest' one while loop (to calculate Collatz numbers) inside another one (to check each if each integer meets the condition).\n",
    "\n",
    "```\n",
    "k = 1\n",
    "collatz_num = 1\n",
    "\n",
    "while (collatz_num <= 200): #outer while loop\n",
    "    #increase k by 1, reset collatz_num\n",
    "    k = k + 1\n",
    "    collatz_num = 1\n",
    "\n",
    "    #remember we don't want to change k itself - or we wouldn't know what numbers we'd already checked\n",
    "    n = k\n",
    "\n",
    "    #now find the Collatz number of k\n",
    "    while (n > 1):\n",
    "        if (n % 2) == 0:\n",
    "            # n is even, divide by two\n",
    "            n = n / 2\n",
    "        else:\n",
    "            # n is odd, triple and add one\n",
    "            n = (n * 3) + 1\n",
    "\n",
    "        collatz_num = collatz_num + 1\n",
    "\n",
    "# Once the condition has been met, let's say that we are finished\n",
    "print('The Collatz number of', k, 'is', collatz_num)\n",
    "print(k, 'is the smallest number whose Collatz number is greater than 200') \n",
    "\n",
    "```\n",
    ":::\n",
    "-->"
   ]
  }
 ],
 "metadata": {
  "kernelspec": {
   "display_name": "Python 3",
   "language": "python",
   "name": "python3"
  },
  "language_info": {
   "codemirror_mode": {
    "name": "ipython",
    "version": 3
   },
   "file_extension": ".py",
   "mimetype": "text/x-python",
   "name": "python",
   "nbconvert_exporter": "python",
   "pygments_lexer": "ipython3",
   "version": "3.10.6"
  }
 },
 "nbformat": 4,
 "nbformat_minor": 2
}
