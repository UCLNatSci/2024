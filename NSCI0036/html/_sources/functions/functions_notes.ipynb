{
 "cells": [
  {
   "cell_type": "markdown",
   "metadata": {},
   "source": [
    "# Functions\n",
    "\n",
    "## Calling Functions\n",
    "\n",
    "A function is a named sequence of computer instructions that performs a specific task. With the help of functions, we can break our program into small modular chunks. So, as we start to write larger programs, functions help us to make it more organized and manageable.\n",
    "\n",
    "Let's start by examining the built-in Python function `round`."
   ]
  },
  {
   "cell_type": "code",
   "execution_count": 1,
   "metadata": {},
   "outputs": [
    {
     "name": "stdout",
     "output_type": "stream",
     "text": [
      "2\n"
     ]
    }
   ],
   "source": [
    "x = round(2.5)\n",
    "\n",
    "print(x)"
   ]
  },
  {
   "cell_type": "markdown",
   "metadata": {},
   "source": [
    "When the Python interpreter reaches the expression `round(2.5)` it recognises that `round` is a built-in function, executes the function and returns the result. The name of the function gives an indication of what the function does, but we can get further information by using another function `help`:"
   ]
  },
  {
   "cell_type": "code",
   "execution_count": 3,
   "metadata": {},
   "outputs": [
    {
     "name": "stdout",
     "output_type": "stream",
     "text": [
      "Help on built-in function round in module builtins:\n",
      "\n",
      "round(number, ndigits=None)\n",
      "    Round a number to a given precision in decimal digits.\n",
      "    \n",
      "    The return value is an integer if ndigits is omitted or None.  Otherwise\n",
      "    the return value has the same type as the number.  ndigits may be negative.\n",
      "\n"
     ]
    }
   ],
   "source": [
    "help(round)"
   ]
  },
  {
   "cell_type": "markdown",
   "metadata": {},
   "source": [
    ":::{exercise}\n",
    ":label: exercise_3_1\n",
    "1. What will `round(-0.5)` return? Try it.\n",
    "2. Use `help` to find out what the function `abs` does.\n",
    ":::\n",
    "\n",
    ":::{solution} exercise_3_1\n",
    ":class: dropdown\n",
    "\n",
    "First, let's see what happens when we call `round(-0.5)`.\n",
    "``` \n",
    "x = round(-0.5)\n",
    "\n",
    "print(x)\n",
    "```\n",
    "We see that -0.5 is rounded up to zero.\n",
    "\n",
    "Now let's find out what `abs` does\n",
    "```\n",
    "help(abs)\n",
    "```\n",
    "`abs(x)` will return the absolute value of `x`.\n",
    ":::"
   ]
  },
  {
   "cell_type": "markdown",
   "metadata": {},
   "source": [
    "## Defining functions\n",
    "\n",
    "Let's start with a very simple example of a mathematical function:\n",
    "\n",
    "$$f(x) = x^2.$$\n",
    "\n",
    "We can think of $f$ as being as machine which eats a number, squares it, then sends us the result. Given this definition of $f$, we can use it to calculate the square of any number we please:\n",
    "\n",
    "$$\\begin{align}f(3) &= 9\\\\f(10)&=100\\end{align}$$\n",
    "\n",
    "and so on. Let's define this function in Python:"
   ]
  },
  {
   "cell_type": "code",
   "execution_count": 7,
   "metadata": {},
   "outputs": [],
   "source": [
    "def f(x):\n",
    "    y = x ** 2\n",
    "    return y"
   ]
  },
  {
   "cell_type": "markdown",
   "metadata": {},
   "source": [
    "If you run the code above, nothing will appear to happen. However, we can now use it to calculate the square of any number we choose:"
   ]
  },
  {
   "cell_type": "code",
   "execution_count": 8,
   "metadata": {},
   "outputs": [
    {
     "data": {
      "text/plain": [
       "9"
      ]
     },
     "execution_count": 8,
     "metadata": {},
     "output_type": "execute_result"
    }
   ],
   "source": [
    "f(3)"
   ]
  },
  {
   "cell_type": "markdown",
   "metadata": {},
   "source": [
    "Or to set the value of a variable:"
   ]
  },
  {
   "cell_type": "code",
   "execution_count": 9,
   "metadata": {},
   "outputs": [
    {
     "name": "stdout",
     "output_type": "stream",
     "text": [
      "100\n"
     ]
    }
   ],
   "source": [
    "z = f(10)\n",
    "print(z)"
   ]
  },
  {
   "cell_type": "markdown",
   "metadata": {},
   "source": [
    "Because `f` returns a number, we can use it anywhere Python expects a number:"
   ]
  },
  {
   "cell_type": "code",
   "execution_count": 10,
   "metadata": {},
   "outputs": [
    {
     "name": "stdout",
     "output_type": "stream",
     "text": [
      "109\n",
      "25\n"
     ]
    }
   ],
   "source": [
    "z = f(3) + f(10)\n",
    "print(z)\n",
    "\n",
    "w = round(f(5))\n",
    "print(w)"
   ]
  },
  {
   "cell_type": "markdown",
   "metadata": {},
   "source": [
    "We can also use a variable as an argument:"
   ]
  },
  {
   "cell_type": "code",
   "execution_count": null,
   "metadata": {},
   "outputs": [],
   "source": [
    "n = 8\n",
    "m = f(n)\n",
    "print(n, \"squared is\", m)"
   ]
  },
  {
   "cell_type": "markdown",
   "metadata": {},
   "source": [
    "Notice something very important here. The name of the variable we pass as an argument (`n`) has nothing to do with the name of the parameter (`x`). It is as if `x = n` is executed when `f(n)` is called. It doesn’t matter what the value was named in the call, inside the function its name is `x`."
   ]
  },
  {
   "cell_type": "markdown",
   "metadata": {},
   "source": [
    ":::{exercise}\n",
    ":label: exercise_3_2\n",
    "Use the function `f` to calculate:\n",
    "1. $(999 + 123)^2$\n",
    "2. $999^2 + 123^2$\n",
    "3. $3^4$\n",
    ":::\n",
    "\n",
    ":::{solution} exercise_3_2\n",
    ":class: dropdown\n",
    "1. \n",
    "```\n",
    "x_1 = f(999 + 123)\n",
    "print(x_1)\n",
    "```\n",
    "2. \n",
    "```\n",
    "x_2 = f(999) + f(123)\n",
    "print(x_2)\n",
    "```\n",
    "3. We can rewrite $3^4$ as $(3^2)^2$. As $f$ takes a number as input and gives a number as output, we can safely use the output of one function call as the input to the next. \n",
    "```\n",
    "x_3 = f(f(3))\n",
    "print(x_3)\n",
    "```\n",
    "\n",
    ":::"
   ]
  },
  {
   "cell_type": "markdown",
   "metadata": {},
   "source": [
    "##  Functions Definition Notation\n",
    "\n",
    "![](51.png)\n",
    "\n",
    "A function definition consists of\n",
    "1. A **header** which defines the function name and parameter(s) e.g. `def f(x):`\n",
    "2. A **body** consisting of one or more lines of Python code e.g. `y = x ** 2`\n",
    "3. (Optional) a **return statement** which defines the value to return from the function e.g. `return y`\n",
    "\n",
    ":::{note}\n",
    "The body and return statement must be indented (the Python standard is 4 spaces).\n",
    ":::\n",
    "\n",
    "## Example\n",
    "\n",
    "Consider the following code, which calculates and prints the number of digits in a number `x = 19583`. The variable `i` is initialised to 0 and then incremented each time the while loop is executed. When the loop exits, `i` contains the result - the total number of times the loop body was executed, which is the same as the number of digits."
   ]
  },
  {
   "cell_type": "code",
   "execution_count": 17,
   "metadata": {},
   "outputs": [
    {
     "name": "stdout",
     "output_type": "stream",
     "text": [
      "5\n"
     ]
    }
   ],
   "source": [
    "x = 19583\n",
    "\n",
    "i = 0\n",
    "while x >= 1:\n",
    "    i = i + 1\n",
    "    x = x / 10\n",
    "\n",
    "print(i)"
   ]
  },
  {
   "cell_type": "markdown",
   "metadata": {},
   "source": [
    "Below we convert this code into a function `number_of_digits`:"
   ]
  },
  {
   "cell_type": "code",
   "execution_count": 20,
   "metadata": {},
   "outputs": [
    {
     "name": "stdout",
     "output_type": "stream",
     "text": [
      "5\n"
     ]
    }
   ],
   "source": [
    "def number_of_digits(x):\n",
    "    i = 0\n",
    "    while x >= 1:\n",
    "        i = i + 1\n",
    "        x = x / 10\n",
    "    return i\n",
    "\n",
    "print(number_of_digits(19583))"
   ]
  },
  {
   "cell_type": "markdown",
   "metadata": {},
   "source": [
    ":::{exercise}\n",
    ":label: exercise_3_3\n",
    "\n",
    "The function `number_of_digits` fails for arguments less than `1`. Write a new function `number_of_digits_2` which returns the correct number of digits for positive and negative values. For values between `-1` and `1` the function should return `0`.\n",
    "\n",
    "```\n",
    "# write your function definition here\n",
    "\n",
    "print(number_of_digits_2(999)) # should print 3\n",
    "print(number_of_digits_2(0.5)) # should print 0\n",
    "print(number_of_digits_2(-0.5)) # should print 0\n",
    "print(number_of_digits_2(-999)) # should print 3\n",
    "```\n",
    ":::\n",
    "\n",
    ":::{solution} exercise_3_3\n",
    ":class: dropdown\n",
    "\n",
    "We thought about how we could do this in [Homework 1](calculations-homework-answers) by using the fact that a negative number $-n$ has the same number of digits as the positive number $n$. We checked whether the input was negative using an `if` statement, and if it was we multiplied it by $-1$ before counting the number of digits. \n",
    "Now, we can take a slightly smarter approach by using the `abs` function in the while loop to check whether the absolute value of the input is greater than 1. \n",
    "\n",
    "The resulting function looks like this:\n",
    "```\n",
    "def number_of_digits_2(x):\n",
    "    i = 0\n",
    "    # check whether absolute value is greater than 1, otherwise do nothing\n",
    "    while abs(x) >= 1:\n",
    "        i = i + 1\n",
    "        x = x / 10\n",
    "    return i\n",
    "    \n",
    "# now test it \n",
    "print(number_of_digits_2(999))\n",
    "print(number_of_digits_2(0.5)) \n",
    "print(number_of_digits_2(-0.5)) \n",
    "print(number_of_digits_2(-999)) \n",
    "```\n"
   ]
  },
  {
   "cell_type": "markdown",
   "metadata": {},
   "source": [
    "## Combining Functions and Loops\n",
    "\n",
    "We really start to see the utility of functions when we combine them with loops. What is the total number of digits in all the numbers from `1` to `99` inclusive? At each execution of the loop, `number_of_digits(i)` is added to the variable `total`."
   ]
  },
  {
   "cell_type": "code",
   "execution_count": 24,
   "metadata": {},
   "outputs": [
    {
     "name": "stdout",
     "output_type": "stream",
     "text": [
      "189\n"
     ]
    }
   ],
   "source": [
    "total = 0\n",
    "for i in range(1, 100):\n",
    "    total = total + number_of_digits(i)\n",
    "\n",
    "print(total)"
   ]
  },
  {
   "cell_type": "markdown",
   "metadata": {},
   "source": [
    ":::{exercise}\n",
    ":label: exercise_3_4\n",
    "Use the function `number_of_digits_2` to calculate the total number of digits of all numbers in the range $-99 \\leq n \\leq 99$.\n",
    ":::\n",
    "\n",
    ":::{solution} exercise_3_4\n",
    ":class: dropdown\n",
    "Let's follow the same structure:\n",
    "\n",
    "```\n",
    "total = 0\n",
    "for i in range(-99, 100):\n",
    "    total = total + number_of_digits_2(i)\n",
    "    \n",
    "print(total)\n",
    "```\n",
    "We should get 378.\n",
    ":::"
   ]
  },
  {
   "cell_type": "markdown",
   "metadata": {},
   "source": [
    "## Combining Functions\n",
    "\n",
    "It is possible to 'chain together' functions so that one function is called inside the body of another function. In the example below, `total_digits(n)` returns the total number of digits in numbers between `1` and `n` (not counting `n` itself). I have repeated the definition of the `number_of_digits` functions here so we can see how it all fits together."
   ]
  },
  {
   "cell_type": "code",
   "execution_count": 26,
   "metadata": {},
   "outputs": [
    {
     "name": "stdout",
     "output_type": "stream",
     "text": [
      "189\n"
     ]
    }
   ],
   "source": [
    "def number_of_digits(x):\n",
    "    i = 0\n",
    "    while x >= 1:\n",
    "        i = i + 1\n",
    "        x = x / 10\n",
    "    return i\n",
    "    \n",
    "def total_digits(n):\n",
    "    total = 0\n",
    "    for i in range(1, n):\n",
    "        total = total + number_of_digits(i)\n",
    "\n",
    "    return total\n",
    "\n",
    "print(total_digits(100))"
   ]
  },
  {
   "cell_type": "markdown",
   "metadata": {},
   "source": [
    ":::{exercise}\n",
    ":label: exercise_3_5\n",
    "\n",
    "Write a function `total_digits_2(m, n)` which returns the total number of digits in all integers between `m` and `n` inclusive (you may assume that `m < n`).\n",
    "\n",
    "```\n",
    "# write your function definition here\n",
    "\n",
    "print(total_digits_2(-100, 100))\n",
    "```\n",
    ":::\n",
    "\n",
    ":::{solution} exercise_3_5\n",
    ":class: dropdown\n",
    "\n",
    "```\n",
    "def number_of_digits_2(x):\n",
    "    i = 0\n",
    "    # check whether absolute value is greater than 1, otherwise do nothing\n",
    "    while abs(x) >= 1:\n",
    "        i = i + 1\n",
    "        x = x / 10\n",
    "    return i\n",
    "    \n",
    "def total_digits_2(m, n):\n",
    "    total = 0\n",
    "    for i in range(m, n + 1):\n",
    "        total = total + number_of_digits_2(i)\n",
    "    \n",
    "    return total\n",
    "\n",
    "print(total_digits_2(-100, 100))\n",
    "```\n",
    "We should get 384."
   ]
  },
  {
   "cell_type": "markdown",
   "metadata": {},
   "source": [
    "## Keep Your Program Tidy!\n",
    "\n",
    "When you use functions, you might find your Python programs growing quite large. It is good practice in this case to keep your program tidy by keeping your program in a consistent order, as follows:\n",
    "\n",
    "```\n",
    "# Import statements at the top\n",
    "\n",
    "import numpy as np\n",
    "import matplotlib.pyplot as plt\n",
    "import moominlib as ml\n",
    "\n",
    "# Next, function definitions\n",
    "\n",
    "def one_function(x, y, z):\n",
    "    # Python statements\n",
    "    # Python statements\n",
    "    return val\n",
    "\n",
    "def another_function(x, y, z):\n",
    "    # Python statements\n",
    "    # Python statements\n",
    "    return val\n",
    "\n",
    "# The main program body. This line will be executed first!\n",
    "# More code\n",
    "# Function calls\n",
    "# etc\n",
    "```"
   ]
  }
 ],
 "metadata": {
  "kernelspec": {
   "display_name": "Python 3 (ipykernel)",
   "language": "python",
   "name": "python3"
  },
  "language_info": {
   "codemirror_mode": {
    "name": "ipython",
    "version": 3
   },
   "file_extension": ".py",
   "mimetype": "text/x-python",
   "name": "python",
   "nbconvert_exporter": "python",
   "pygments_lexer": "ipython3",
   "version": "3.7.9"
  },
  "vscode": {
   "interpreter": {
    "hash": "7f871366baaeb23d5e2a586caa18124c1371cc3d3832dcd001f8f599e1be9e29"
   }
  }
 },
 "nbformat": 4,
 "nbformat_minor": 2
}
