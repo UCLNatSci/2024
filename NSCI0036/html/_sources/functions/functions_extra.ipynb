{
 "cells": [
  {
   "cell_type": "markdown",
   "metadata": {},
   "source": [
    "# Exercises\n",
    "\n",
    ":::{exercise}\n",
    ":label: functions_BZ_reaction\n",
    "\n",
    "<!-- https://www3.nd.edu/~powers/mcdowell.pdf -->\n",
    "\n",
    "Last week you used the following equations to model the dynamics of the [Belousov–Zhabotinsky reaction](https://en.wikipedia.org/wiki/Belousov%E2%80%93Zhabotinsky_reaction) where $X_i$ and $Y_i$ are the concentrations of the two reactants X (red) and Y (colourless) at timestep $i$. Each timestep is one second.\n",
    "\n",
    "$$\\begin{align}\n",
    "X_{i+1} &= X_i + k_1-k_2X_i + k_3X_i^2Y_i\\\\\n",
    "Y_{i+1} &= Y_i + k_4X_i - k_3X_i^2Y_i.\n",
    "\\end{align}$$\n",
    "\n",
    "For the parameter values $k_1=0.1$, $k_2=0.4$, $k_3=0.1$ and $k_4=0.2$, the system results in decaying oscillations of the concentrations $X$ and $Y$. Over time the system reaches equilibrium and the values of $X$ and $Y$ reach a steady state. The figure below shows the results of the simultion with initial condtions $X[0] = Y[0] = 0$.\n",
    "\n",
    "1\\. Assuming the initial concentrations are zero, run the simulation with the parameters above for $1000$ time steps. Plot $X$ and $Y$ on the same figure, as below.\n",
    "\n",
    "2\\. Assuming that the system has reached a steady state after 1000 timesteps, we can define the steady-state concentrations to be $X_{1000}$ and $Y_{1000}$. Determine the steady-state values of $X$ and $Y$.  \n",
    "\n",
    "3\\. Write a function `steady_state_X(k1, k2, k3, k4)` which runs the simulation for the given values of $k_1$, $k_2$, $k_3$ and $k_4$, then returns the steady-state value of $X$. Check that it gives the expected value for $k_1=0.1$, $k_2=0.4$, $k_3=0.1$ and $k_4=0.2$.\n",
    "\n",
    "```\n",
    "ss_x = steady_state_X(0.1, 0.4, 0.1, 0.2)\n",
    "print(ss_x) # should print the expected value\n",
    "```\n",
    "\n",
    "4\\. Determine the steady-state value of X for $k_1=0.1$, $k_2=0.4$, $k_3=0.1$ and a range of values of $k_4$ between $0$ and $0.3$. Plot the results on a graph with $k_4$ on the x-axis and the steady-state value of $X$ on the y-axis.\n",
    "\n",
    "5\\. Write a function `max_X(k1, k2, k3, k4)` which returns the peak value of the concentration of X, then (on the same graph as the previous question) plot the peak concentration of X for $k_4$ between $0$ and $0.3$. (Use the `numpy` function `np.max` which returns the maximum value of an array).\n",
    "\n",
    ":::"
   ]
  },
  {
   "cell_type": "code",
   "execution_count": null,
   "metadata": {
    "tags": [
     "remove-input"
    ],
    "vscode": {
     "languageId": "plaintext"
    }
   },
   "outputs": [],
   "source": [
    "# import necessary libraries\n",
    "import numpy as np\n",
    "import matplotlib.pyplot as plt\n",
    "\n",
    "# set up variables and arrays\n",
    "n = 1001\n",
    "k1 = 0.1\n",
    "k2 = 0.4\n",
    "k3 = 0.1\n",
    "k4 = 0.2\n",
    "\n",
    "X = np.zeros(n)\n",
    "Y = np.zeros(n)\n",
    "\n",
    "# initialise variables (not strictly necessary here!)\n",
    "X[0] = 0\n",
    "Y[0] = 0\n",
    "\n",
    "# implement equations\n",
    "for i in range(n - 1):\n",
    "    X[i+1] = X[i] + k1 - k2*X[i] + k3*(X[i]**2)*Y[i]\n",
    "    Y[i+1] = Y[i] + k4*X[i] - k3*(X[i]**2)*Y[i]\n",
    "\n",
    "# plot on the same figure\n",
    "plt.figure(figsize=(6,3))\n",
    "plt.plot(Y, label=\"Chemical Y\")\n",
    "plt.plot(X, label=\"Chemical X\")\n",
    "plt.text(750, 3, \"steady-state\\nconcentration\\nof Y \")\n",
    "plt.text(750, .7, \"steady-state\\nconcentration\\nof X \")\n",
    "plt.xlabel(\"Time (seconds)\")\n",
    "plt.ylabel(\"Relative concentration\")\n",
    "plt.legend(loc=\"center\");"
   ]
  },
  {
   "cell_type": "markdown",
   "metadata": {},
   "source": [
    ":::{exercise}\n",
    ":label: functions_extra_primes\n",
    "\n",
    "In this question you will investigate the [number of prime numbers below a number $n$](https://en.wikipedia.org/wiki/Prime-counting_function) (recall a *prime number* is a number divisible only by 1 and itself).\n",
    "\n",
    "You will need to use *Boolean variables* which are variables that take the logical values *True* or *False*. For example, the following function `divisible_by_two` returns the Boolean value `True` if its argument is divisible two, and `False` otherwise.\n",
    "\n",
    "```\n",
    "def divisible_by_two(n):\n",
    "    if n % 2 == 0:\n",
    "        return True\n",
    "    else:\n",
    "        return False\n",
    "\n",
    "k = 5\n",
    "if divisible_by_two(k):\n",
    "    print(k, \"is even\")\n",
    "else:\n",
    "    print(k, \"is odd\")\n",
    "```\n",
    "\n",
    "1. Write a function `is_divisible(n, m)` which returns `True` if `n` is divisible by `m`, and otherwise returns `False`.\n",
    "2. Write a function `is_prime(n)` which returns `False` if `n` is divisible by any integer between `2` and `n-1`, and otherwise returns `True`.\n",
    "3. Write a function `number_of_primes(n)` which returns the number of prime numbers less than or equal to `n` [NB 1 is *not* a prime number].\n",
    "4. Draw a graph with `n` on the x-axis and the number of primes less than or equal to `n` on the y-axis.\n",
    "\n",
    ":::"
   ]
  },
  {
   "cell_type": "markdown",
   "metadata": {},
   "source": [
    ":::{exercise}\n",
    "\n",
    "A [solid of revolution](https://en.wikipedia.org/wiki/Solid_of_revolution) is a three-dimensional figure contstructed by rotating a curve about a straight line. We can estimate the volume of a solid of revolution by dividing it into a sequence of stacked discs and summing the volume of each.\n",
    "\n",
    "A sphere of radius $R$ is formed by rotating the curve $y = \\sqrt{R^2 - x^2}$ around the x-axis between $-R$ and $R$.\n",
    "\n",
    "![a](https://miro.medium.com/max/2400/0*d7QEcno6XhPOiJSt.png)\n",
    "\n",
    "Use the following steps to estimate the volume of a sphere of radius 1.\n",
    "\n",
    "1. Write a function `vol_disc(R, x, dx)` which returns the volume of the disc centred at position `x` with thickness `dx`. \n",
    "2. Estimate the volume of a sphere of radius 1 by dividing the figure into 10 discs equally spaced between `-1` and `1` [use a value of 3.14159 for $\\pi$].\n",
    "3. Write a function `sphere_vol(R, n)` which returns the estimate of the volume of a sphere of radius `R` calculated by dividing it into `n` discs.\n",
    "4. The estimate should get more accurate as we increase `n`. We can estimate the accuracy by calculating the difference between `sphere_vol(R, n)` and `sphere_vol(R, n-1)`. For `R = 1`, how large does `n` need to be so that difference between consecutive estimates is less than $10^{-4}$?\n",
    "\n",
    ":::"
   ]
  }
 ],
 "metadata": {
  "kernelspec": {
   "display_name": "Python 3.7.9 64-bit (microsoft store)",
   "language": "python",
   "name": "python3"
  },
  "language_info": {
   "name": "python",
   "version": "3.7.9"
  },
  "orig_nbformat": 4,
  "vscode": {
   "interpreter": {
    "hash": "7f871366baaeb23d5e2a586caa18124c1371cc3d3832dcd001f8f599e1be9e29"
   }
  }
 },
 "nbformat": 4,
 "nbformat_minor": 2
}
