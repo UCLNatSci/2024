{
 "cells": [
  {
   "cell_type": "markdown",
   "metadata": {},
   "source": [
    "# Workshop 3: Functions"
   ]
  },
  {
   "cell_type": "markdown",
   "metadata": {},
   "source": [
    "## The Collatz Problem Revisited\n",
    "\n",
    "Recall the Collatz Operation from Tutorial 1. Given an integer $n$, the next number in the Collatz sequence is:\n",
    "\n",
    " - if $n$ is even, divide it by two\n",
    " - if $n$ is odd, triple it and add one\n",
    "\n",
    "Repeatedly applying the Collatz Operation results in a Collatz Sequence, which terminates once it reaches the number $1$.\n",
    "\n",
    "The number of terms in the Collatz Sequence starting with $n$ is the Collatz Number of $n$. For example, for $n = 5$ the Collatz Sequence is $5, 16, 8, 4, 2, 1$ and the Collatz Number is $6$.\n",
    "\n",
    ":::{exercise}\n",
    ":label: exercise_3_6\n",
    "Define a function `collatz_op(n)` that returns the next number in the Collatz Sequence. Check that your function returns the correct result for `n = 5` and `n = 6`.\n",
    "\n",
    "```\n",
    "def collatz_op(n):\n",
    "    # replace with your code\n",
    "```\n",
    ":::\n",
    "\n",
    ":::{exercise}\n",
    ":label: exercise_3_7\n",
    "Define a function `collatz_number` that returns the Collatz Number of `n`. Your function should use the function `collatz_op`.\n",
    "\n",
    "```\n",
    "def collatz_number(n):\n",
    "    while n > 1:\n",
    "        # Replace with your code to\n",
    "        # calculate the Collatz number\n",
    "\n",
    "    return num\n",
    "```\n",
    ":::\n",
    "\n",
    "The [Wikipedia article](https://en.wikipedia.org/wiki/Collatz_conjecture) for the Collatz Conjecture contains [a graph](https://en.wikipedia.org/wiki/Collatz_conjecture#/media/File:Collatz5.svg) of the first $100$ Collatz Numbers.\n",
    "\n",
    ":::{exercise}\n",
    ":label: exercise_3_8\n",
    "Create an array containing the first $100$ Collatz numbers. Then plot a line graph like the one in the Wikipedia article.\n",
    "\n",
    "\n",
    "```\n",
    "collatz_numbers = np.zeros(100)\n",
    "\n",
    "# For i from 0 to 99\n",
    "#   set the value of collatz_numbers[i]\n",
    "\n",
    "# plot a line graph of collatz_numbers\n",
    "```\n",
    "\n",
    ":::\n",
    "\n"
   ]
  },
  {
   "cell_type": "markdown",
   "metadata": {},
   "source": [
    "## Investigating the SIR Model\n",
    "\n",
    "In the previous tutorial, we wrote code that simulated the spread of an epdemic using the SIR model. We were able to investigate how the spread of the epidemic was influenced by parameters of the model - recovery rate $a$ and infection rate $b$.\n",
    "\n",
    ":::{math}\n",
    ":label: SIR_equations_2\n",
    "\\begin{align}S_{i+1} &= S_i - bS_iI_i\\\\\n",
    "I_{i+1} &= I_i + bS_iI_i - aI_i.\\end{align}\n",
    ":::\n",
    "\n",
    "Through policy interventions, the Government can influence the value of the parameter $b$. The government would like to understand how the value of $b$ affects the peak number of infections.\n",
    "\n",
    ":::{exercise}\n",
    ":label: exercise_3_9\n",
    "\n",
    "Complete the code below so that it simulates the epidemic for 100 days using the parameter values $a = 0.1$ and $b = 0.00005$, and initial populations $S_0 = 20000$ and $I_0 = 100$. You can reuse your code from last week's exercise.\n",
    "\n",
    "Then use the `numpy` function `np.max` to calculate peak infections (the maximum value of the array `I`).\n",
    "\n",
    "Change the value of the parameter `b` and (by inspecting the graph of `I`) check that your calculated value of peak infections is correct.\n",
    "\n",
    "```\n",
    "import numpy as np\n",
    "import matplotlib.pyplot as plt\n",
    "\n",
    "n_days = 100\n",
    "a = 0.1\n",
    "b = 0.00005\n",
    "\n",
    "# your code here\n",
    "```\n",
    ":::\n",
    "\n",
    "Next, we'd like to produce a graph which shows how peak infections varies with the value of the infection rate parameter `b`. To do this, we will write a function `max_infected(a, b)` which calculates and returns the peak infections. \n",
    "\n",
    ":::{exercise}\n",
    ":label: exercise_3_10\n",
    "1. Write a function `max_infected(a, b)` which calculates and returns the maximum number of infected people over the course of the epidemic given parameter values `a` and `b`. Check that your function returns the expected values for `a = 0.1` and various values of `b`.\n",
    "2. Use `np.linspace` to create an array `b_array` which contains a sequence of `10` evenly spaced numbers from  `0` to `0.00005`\n",
    "3. Use `np.zeros` to create an empty array `peak_infections` of length `10`.\n",
    "4. Use a loop to set the value of `peak_infections` for each value of `b` in `b_array`. \n",
    "5. Finally, create a plot to show how peak infections vary with infection rate.\n",
    "\n",
    "```\n",
    "def max_infected(a, b):\n",
    "    # Run the simulation and calculate\n",
    "    # the peak number of infections\n",
    "\n",
    "b_array = # your code here\n",
    "peak_infections = # your code here\n",
    "for i in range(10):\n",
    "    # Calculate the peak number of infections\n",
    "    # for the given value of b\n",
    "\n",
    "# Create a plot of peak infections against b\n",
    "\n",
    "```\n",
    ":::\n",
    "\n"
   ]
  },
  {
   "cell_type": "markdown",
   "metadata": {},
   "source": [
    "## Taking it Further\n",
    "\n",
    "As well as the peak number of infected people, the government is interested in the *total* amount of medical care that will be required over the course of the epidemic. Assuming that each day, every infected person has an equal and independent probability of requiring medical care, then the total cost of medical care will be proportional to the sum of the number of infected people over all days. We call this the *infected person-days* and is simply the sum values in the array `I`.\n",
    "\n",
    ":::{exercise}\n",
    ":label: exercise_3_11\n",
    "Write a function `total_infected(a, b)` which calculates and returns the total number of infected person-days for the duration of the epidemic.\n",
    "\n",
    "Then, plot the total number of infections against $b$ for values between $0$ and $0.00005$.\n",
    ":::"
   ]
  },
  {
   "cell_type": "markdown",
   "metadata": {},
   "source": [
    "Through public policy interventions such as vaccinations, the infection rate parameter $b$ can be reduced. However such interventions are costly. Goverment analysts estimate that the cost (in thousands of pounds) of interventions are given by the following formula:\n",
    "\n",
    "$$ \\mathrm{intervention~cost} = \\frac{1}{5b} - 2000$$\n",
    "\n",
    "where $b$ is the desired infection parameter.\n",
    "\n",
    "Likewise, the cost of providing medical care (in thousands of pounds) is:\n",
    "\n",
    "$$ \\mathrm{medical~cost} = I$$\n",
    "\n",
    "where $I$ is the total number infected person-days."
   ]
  },
  {
   "cell_type": "markdown",
   "metadata": {},
   "source": [
    ":::{exercise}\n",
    ":label: exercise_3_12\n",
    "Calculate arrays `intervention_cost`, `medical_cost` containing the intervention and medical costs respectively over the range of `b` from $0$ to $0.0005$. Assume $a = 0.1$\n",
    "\n",
    "Calculate an array `total_cost` which is the sum of the intervention and medical costs.\n",
    "\n",
    "Plot all three on the same axes. Roughly what value of `b` minimises the total cost?\n",
    ":::"
   ]
  }
 ],
 "metadata": {
  "kernelspec": {
   "display_name": "Python 3 (ipykernel)",
   "language": "python",
   "name": "python3"
  },
  "language_info": {
   "codemirror_mode": {
    "name": "ipython",
    "version": 3
   },
   "file_extension": ".py",
   "mimetype": "text/x-python",
   "name": "python",
   "nbconvert_exporter": "python",
   "pygments_lexer": "ipython3",
   "version": "3.7.9"
  },
  "vscode": {
   "interpreter": {
    "hash": "7f871366baaeb23d5e2a586caa18124c1371cc3d3832dcd001f8f599e1be9e29"
   }
  }
 },
 "nbformat": 4,
 "nbformat_minor": 4
}
