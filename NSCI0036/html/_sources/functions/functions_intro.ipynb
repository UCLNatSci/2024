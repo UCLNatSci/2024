{
 "cells": [
  {
   "cell_type": "markdown",
   "metadata": {},
   "source": [
    "# Functions\n",
    "\n",
    "As we start writing longer and more complicated programs, it becomes necessary to organise them by breaking them down into modular chunks. The tool we use for this is a *function* - a block of code that performs a specific task. In this section we will learn how to write and use functions in Python.\n",
    "\n",
    "```{admonition} What you'll learn\n",
    ":class: tip\n",
    " - How to call functions \n",
    " - Function definition, arguments and return values\n",
    " - Repeating code with functions and loops\n",
    " - Combining functions\n",
    "```\n",
    "## This Week\n",
    "\n",
    "**Before class** read the [notes](functions_notes.ipynb) and complete the embedded exercises.\n",
    "\n",
    "**During class** work through the [workshop](functions.ipynb).\n",
    "\n",
    "**During and after class** complete the [exercises](functions_homework.md).\n"
   ]
  }
 ],
 "metadata": {
  "kernelspec": {
   "display_name": "Python 3.7.9 64-bit (windows store)",
   "language": "python",
   "name": "python3"
  },
  "language_info": {
   "name": "python",
   "version": "3.7.9"
  },
  "orig_nbformat": 4,
  "vscode": {
   "interpreter": {
    "hash": "7f871366baaeb23d5e2a586caa18124c1371cc3d3832dcd001f8f599e1be9e29"
   }
  }
 },
 "nbformat": 4,
 "nbformat_minor": 2
}
