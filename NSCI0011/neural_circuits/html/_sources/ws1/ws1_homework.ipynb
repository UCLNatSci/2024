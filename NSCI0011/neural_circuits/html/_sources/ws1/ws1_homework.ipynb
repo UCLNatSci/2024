{
 "cells": [
  {
   "attachments": {},
   "cell_type": "markdown",
   "metadata": {},
   "source": [
    "# Homework\n",
    "\n",
    "The list `x` is the graph of an undirected graph:"
   ]
  },
  {
   "cell_type": "code",
   "execution_count": 9,
   "metadata": {},
   "outputs": [],
   "source": [
    "x = [[3], [11, 6, 5], [4, 11, 5], [0], [2, 6, 6], [12, 19, 2, 1],\n",
    "    [4, 17, 1, 4, 8], [14, 11], [6], [], [15, 11], [10, 2, 1, 16, 15, 7],\n",
    "    [5], [], [7], [10, 11], [11], [6, 19], [], [5, 17]]"
   ]
  },
  {
   "attachments": {},
   "cell_type": "markdown",
   "metadata": {},
   "source": [
    "Use the computational techniques you have studied this week to answer the following questions. Submit your answers as a single `.py` file."
   ]
  },
  {
   "attachments": {},
   "cell_type": "markdown",
   "metadata": {},
   "source": [
    "1\\. The adjacency list of an undirected graph has the property that for any two nodes `i` and `j`, if `i` is a neighbour of `j` then `j` is a neighbour of `i`. Show that `x` is the adjacency list of an undirected graph.\n",
    "\n",
    "2\\. Find two nodes that are not connected by a path.\n",
    "\n",
    "3\\. Determine the node pair(s) with the maximum path distance in the graph.\n",
    "\n",
    "4\\. Determine all connected components in the graph (full marks if you use a technique which would work for *any* undirected graph regardless of size).\n",
    "\n",
    "*NB while it might be possible to answer these questions using pen and paper, you should determine your answers using Python code and the computational techniques studied in class. Full marks will be given for answers which use techniques which could work for an undirected graph of ANY size (not just `x`). You should include sufficient text (in the form of Python comments) to explain how your code determines the answer to each question.*"
   ]
  }
 ],
 "metadata": {
  "kernelspec": {
   "display_name": "Python 3",
   "language": "python",
   "name": "python3"
  },
  "language_info": {
   "codemirror_mode": {
    "name": "ipython",
    "version": 3
   },
   "file_extension": ".py",
   "mimetype": "text/x-python",
   "name": "python",
   "nbconvert_exporter": "python",
   "pygments_lexer": "ipython3",
   "version": "3.7.9 (tags/v3.7.9:13c94747c7, Aug 17 2020, 18:58:18) [MSC v.1900 64 bit (AMD64)]"
  },
  "orig_nbformat": 4,
  "vscode": {
   "interpreter": {
    "hash": "7924ab759b3df5cb48bbab33739b019b840d790ae77db55f5a743ebfebcfdc3f"
   }
  }
 },
 "nbformat": 4,
 "nbformat_minor": 2
}
