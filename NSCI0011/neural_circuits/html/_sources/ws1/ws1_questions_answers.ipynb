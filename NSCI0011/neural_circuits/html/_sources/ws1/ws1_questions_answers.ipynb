{
 "cells": [
  {
   "attachments": {},
   "cell_type": "markdown",
   "metadata": {},
   "source": [
    "# Exercises\n",
    "\n",
    ":::{solution} exercise_undirected_graph_G\n",
    ":::\n",
    "\n",
    "1\\.\n",
    "\n",
    "![](g.png)\n",
    "\n",
    "The connected components are $[1, 2, 4, 7]$, $[0, 5, 6]$ and $[3]$.\n"
   ]
  },
  {
   "cell_type": "code",
   "execution_count": 2,
   "metadata": {},
   "outputs": [
    {
     "name": "stdout",
     "output_type": "stream",
     "text": [
      "[0, 5, 6]\n",
      "[1, 7, 2, 4]\n",
      "[2, 7, 1, 4]\n",
      "[3]\n",
      "[4, 7, 1, 2]\n",
      "[5, 0, 6]\n",
      "[6, 0, 5]\n",
      "[7, 1, 2, 4]\n",
      "[[ 0. -1. -1. -1. -1.  1.  1. -1.]\n",
      " [-1.  0.  2. -1.  2. -1. -1.  1.]\n",
      " [-1.  2.  0. -1.  2. -1. -1.  1.]\n",
      " [-1. -1. -1.  0. -1. -1. -1. -1.]\n",
      " [-1.  2.  2. -1.  0. -1. -1.  1.]\n",
      " [ 1. -1. -1. -1. -1.  0.  1. -1.]\n",
      " [ 1. -1. -1. -1. -1.  1.  0. -1.]\n",
      " [-1.  1.  1. -1.  1. -1. -1.  0.]]\n"
     ]
    }
   ],
   "source": [
    "# 2.\n",
    "def bfs(adj, i):\n",
    "    visited = [i]\n",
    "    frontier = [i]\n",
    "\n",
    "    while len(frontier) > 0:\n",
    "        next = frontier\n",
    "        frontier = []\n",
    "        for j in next:\n",
    "            neighbours = adj[j]\n",
    "            for k in neighbours:\n",
    "                if not k in visited:\n",
    "                    frontier.append(k)\n",
    "                    visited.append(k)\n",
    "    return visited\n",
    "\n",
    "g = [[5, 6], [7], [7], [], [7], [0, 6], [0, 5], [1, 2, 4]]\n",
    "\n",
    "for i in range(len(g)):\n",
    "    print(bfs(g, i))\n",
    "\n",
    "# 3.\n",
    "\n",
    "import numpy as np\n",
    "\n",
    "def path_distances(adj, i):\n",
    "    visited = [i]\n",
    "    frontier = [i]\n",
    "    distances = np.zeros(len(adj))\n",
    "    distances[:] = -1\n",
    "    distances[i] = 0\n",
    "    d = 0\n",
    "    while len(frontier) > 0:\n",
    "        d += 1\n",
    "        next = frontier\n",
    "        frontier = []\n",
    "        for j in next:\n",
    "            neighbours = adj[j]\n",
    "            for k in neighbours:\n",
    "                if not k in visited:\n",
    "                    frontier.append(k)\n",
    "                    visited.append(k)\n",
    "                    distances[k] = d\n",
    "    return distances\n",
    "\n",
    "n = len(g)\n",
    "d = np.zeros((n,n))\n",
    "for i in range(n):\n",
    "    d[i,:] = path_distances(g, i)\n",
    "\n",
    "print(d)\n"
   ]
  },
  {
   "attachments": {},
   "cell_type": "markdown",
   "metadata": {},
   "source": [
    ":::{solution} exercise_walks_paths\n",
    "\n",
    ":::"
   ]
  },
  {
   "cell_type": "code",
   "execution_count": 14,
   "metadata": {},
   "outputs": [
    {
     "name": "stdout",
     "output_type": "stream",
     "text": [
      "length 2 walks:\n",
      "8 3 2\n",
      "8 6 4\n",
      "8 6 5\n",
      "length 2 paths:\n",
      "8 3 2\n",
      "8 6 4\n",
      "8 6 5\n"
     ]
    }
   ],
   "source": [
    "# 1.\n",
    "\n",
    "g = [[3], [], [1, 4], [2], [8], [4], [4, 5], [6, 9], [3, 6, 10], [8], []]\n",
    "\n",
    "# 2.\n",
    "\n",
    "def print_length_2_walks(adj, i):\n",
    "    for j in adj[i]:\n",
    "        for k in adj[j]:\n",
    "            print(i, j, k)\n",
    "\n",
    "print(\"length 2 walks:\")               \n",
    "print_length_2_walks(g, 8)\n",
    "\n",
    "# 3.\n",
    "\n",
    "def print_length_2_paths(adj, i):\n",
    "    for j in adj[i]:\n",
    "        if i != j:\n",
    "            for k in adj[j]:\n",
    "                if i!=k and j!= k:\n",
    "                    print(i, j, k)\n",
    "\n",
    "print(\"length 2 paths:\")            \n",
    "print_length_2_paths(g, 8)\n"
   ]
  }
 ],
 "metadata": {
  "kernelspec": {
   "display_name": "Python 3",
   "language": "python",
   "name": "python3"
  },
  "language_info": {
   "codemirror_mode": {
    "name": "ipython",
    "version": 3
   },
   "file_extension": ".py",
   "mimetype": "text/x-python",
   "name": "python",
   "nbconvert_exporter": "python",
   "pygments_lexer": "ipython3",
   "version": "3.7.9 (tags/v3.7.9:13c94747c7, Aug 17 2020, 18:58:18) [MSC v.1900 64 bit (AMD64)]"
  },
  "orig_nbformat": 4,
  "vscode": {
   "interpreter": {
    "hash": "7924ab759b3df5cb48bbab33739b019b840d790ae77db55f5a743ebfebcfdc3f"
   }
  }
 },
 "nbformat": 4,
 "nbformat_minor": 2
}
