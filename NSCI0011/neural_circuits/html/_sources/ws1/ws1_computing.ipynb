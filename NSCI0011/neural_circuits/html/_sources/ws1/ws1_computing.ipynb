{
 "cells": [
  {
   "attachments": {},
   "cell_type": "markdown",
   "metadata": {},
   "source": [
    "(section_computing_graphs)=\n",
    "# Computing with Graphs\n",
    "\n",
    "In this section we learn how to use a computer to perform the analysis of graphs studied in {numref}`section_introduction_to_graphs`. The main goal is to develop an algorithm which computes path distances between nodes in a graph, by implementing a variant of the breadth first search algorithm.\n",
    "\n",
    "## Graph Representation\n",
    "\n",
    "In Python, we can represent a graph's adjacency list as a list-of-lists, where the element at index `i` is a list containing the nodes connected directly to node `i`.\n",
    "\n",
    "For example, consider the directed graph of the *C Elegans* egg-laying circuit. The nodes have been labelled 0 to 6 rather than 1 to 7, in order to conform with Python's zero indexing convention.\n",
    "\n",
    "![.png](egg_laying_0.png)\n",
    "\n",
    "The graph's adjacency list is given by: "
   ]
  },
  {
   "cell_type": "code",
   "execution_count": 1,
   "metadata": {},
   "outputs": [],
   "source": [
    "c_elegans_graph = [[1, 2, 3], [0, 3], [3, 4, 6], [], [3], [3, 6], [2, 3, 5]]"
   ]
  },
  {
   "attachments": {},
   "cell_type": "markdown",
   "metadata": {},
   "source": [
    "The neighbours of node `i` (the nodes connected directly by a directed edge from node `i`) are simply the `i`th element of `c_elegans_graph`:"
   ]
  },
  {
   "cell_type": "code",
   "execution_count": 2,
   "metadata": {},
   "outputs": [
    {
     "name": "stdout",
     "output_type": "stream",
     "text": [
      "Node 5 is connected directly to the following nodes: [3, 6]\n"
     ]
    }
   ],
   "source": [
    "i = 5\n",
    "print(\"Node\", i, \"is connected directly to :\", c_elegans_graph[i])"
   ]
  },
  {
   "attachments": {},
   "cell_type": "markdown",
   "metadata": {},
   "source": [
    "We can use this adjacency list representation to answer local questions about the graph. For example, to determine whether node `i` is directly connected to node `j`, we can use the python `in` keyword."
   ]
  },
  {
   "cell_type": "code",
   "execution_count": 19,
   "metadata": {},
   "outputs": [
    {
     "name": "stdout",
     "output_type": "stream",
     "text": [
      "Node 0 is directly connected to node 5 : False\n"
     ]
    }
   ],
   "source": [
    "def is_directly_connected(adj, i, j):\n",
    "    return j in adj[i] # returns True if j in adj[i]\n",
    "\n",
    "i = 0\n",
    "j = 5\n",
    "\n",
    "print(\"Node\", i, \"is directly connected to node\", j, \":\",\n",
    "    is_directly_connected(c_elegans_graph, i, j))"
   ]
  },
  {
   "attachments": {},
   "cell_type": "markdown",
   "metadata": {},
   "source": [
    "## Walks and Paths\n",
    "\n",
    "Recall that a length-$n$ walk is a sequence of $n+1$ nodes connected by $n$ edges in a graph. A length-1 walk is simply two nodes directly connected by an edge, so the nodes that can be reached from node `i` by a length-1 walk are the nodes in the `i`th element of the adjacency list.\n",
    "\n",
    "We can extend this idea to consider length-2 walks. Which nodes can be reached starting at node `i` and following exactly two edges? In other words which nodes can be reached via a length-2 walk from node `i`?\n",
    "\n",
    "The function `length_2_walk_nodes(adj, i)` below returns a list of nodes that can be reached from node `i` by a length-2 walk. The outer `for` loop iterates over each of the neighbours of node `i`; the inner loop interates over the neighbours of the neighbours of node `i`. To avoid repetitions, each node found is only added to `node_list` if doesn't already exist in the list."
   ]
  },
  {
   "cell_type": "code",
   "execution_count": 21,
   "metadata": {},
   "outputs": [
    {
     "data": {
      "text/plain": [
       "[0, 3, 4, 6]"
      ]
     },
     "execution_count": 21,
     "metadata": {},
     "output_type": "execute_result"
    }
   ],
   "source": [
    "def length_2_walk_nodes(adj, i):\n",
    "    node_list = []\n",
    "    for j in adj[i]:\n",
    "        for k in adj[j]:\n",
    "            if not k in node_list:\n",
    "                node_list.append(k)\n",
    "    return node_list\n",
    "\n",
    "length_2_walk_nodes(c_elegans_graph, 0)"
   ]
  },
  {
   "attachments": {},
   "cell_type": "markdown",
   "metadata": {},
   "source": [
    ":::{exercise}\n",
    ":label: exercise_length_3_walk_nodes\n",
    "\n",
    "Write a function `length_3_walk_nodes(adj, i)` which returns all nodes reachable via a length-3 walk from node `i`. Check that it works in the case of node `0` of the egg-laying circuit.\n",
    "\n",
    ":::"
   ]
  },
  {
   "attachments": {},
   "cell_type": "markdown",
   "metadata": {},
   "source": [
    "## Path Distance\n",
    "\n",
    "The **path distance** between two nodes in a graph is the number of edges in the shortest path between them.\n",
    "\n",
    "The goal of this section is to develop a Python function which determines the path distance between nodes in a graph. In other words, given an adjacency list of a graph, and two nodes `i` and `j`, what is the length of the shortest path between them?\n",
    "\n",
    "Consider the following proposed algorithm:\n",
    "\n",
    "1. If `i == j` then they are the same node and the shortest path has length zero.\n",
    "2. Otherwise, determine all nodes reachable by a length-1 walk from node `i`. If `j` is amongst these nodes then the shortest path has length `1`.\n",
    "3. Otherwise, determine all nodes reachable by a length-2 walk from node `i`. If `j` is amongst these nodes then the shortest path has length `2`.\n",
    "4. Continue in this manner until node `j` is reached.\n",
    "\n",
    "Unfortunately this algorithm as described cannot in be implemented in Python!"
   ]
  },
  {
   "attachments": {},
   "cell_type": "markdown",
   "metadata": {},
   "source": [
    ":::{exercise}\n",
    ":label: exercise_impossible_length_n_walk_nodes\n",
    "\n",
    "Why do you think it is impossible to write a program which works in this manner? (Hint: what would a function `length_n_walk_nodes(adj, i, n)` look like?)\n",
    "\n",
    ":::\n",
    "\n",
    "Instead, we will construct an algorithm based on breadth first search."
   ]
  },
  {
   "attachments": {},
   "cell_type": "markdown",
   "metadata": {},
   "source": [
    "## Breadth First Search\n",
    "\n",
    "Breadth first search works by traversing the graph in levels from a starting node. The first level consists of all nodes connected directly to the starting node, the second level consists of all nodes connected directly to level-1 nodes, and so-on. The tricky part of the algorithm is to ensure that we don't visit any nodes twice by keeping track of 'already visited' nodes.\n",
    "\n",
    "A Python function which implements the breadth first search algorithm is shown below. The arguments of the function `bfs(adj, i)` are the adjacency list `adj` and starting node `i`. It returns a list of nodes in the order that they are visited by the breadth first search algorithm.\n",
    "\n",
    "The returned list has the property that nodes appearing earlier in the list are closer (in terms of path distance) to node `i` than nodes appearing later in the list. "
   ]
  },
  {
   "cell_type": "code",
   "execution_count": 16,
   "metadata": {},
   "outputs": [
    {
     "data": {
      "text/plain": [
       "[0, 1, 2, 3, 4, 6, 5]"
      ]
     },
     "execution_count": 16,
     "metadata": {},
     "output_type": "execute_result"
    }
   ],
   "source": [
    "def bfs(adj, i):\n",
    "    visited = [i]\n",
    "    frontier = [i]\n",
    "\n",
    "    while len(frontier) > 0:\n",
    "        next = frontier\n",
    "        frontier = []\n",
    "        for j in next:\n",
    "            neighbours = adj[j]\n",
    "            for k in neighbours:\n",
    "                if not k in visited:\n",
    "                    frontier.append(k)\n",
    "                    visited.append(k)\n",
    "    return visited\n",
    "\n",
    "bfs(c_elegans_graph, 0)\n"
   ]
  },
  {
   "attachments": {},
   "cell_type": "markdown",
   "metadata": {},
   "source": [
    ":::{exercise} \n",
    ":label: exercise_bfs_egg_laying\n",
    "\n",
    "Apply the function `bfs` to node `2` of the egg-laying circuit. Compare the result to your answer to {numref}`exercise_bfs`.\n",
    "\n",
    "Which nodes are never visited? Why not?\n",
    "\n",
    ":::"
   ]
  },
  {
   "attachments": {},
   "cell_type": "markdown",
   "metadata": {},
   "source": [
    "### The Algorithm Explained\n",
    "\n",
    "The algorithm works by maintaining two lists, `visited` and `frontier`. `visited` is used to store the nodes in the order visited; `frontier` is used to store nodes that have been visited, but whose neighbours have yet to be visited. At each iteration of the `while` loop, the list `frontier` is populated with the next layer of nodes. The `while` loop terminates once there are no further nodes to be visited in `frontier`.\n",
    "\n",
    ":::{exercise}\n",
    ":label: exercise_print_bfs\n",
    "\n",
    "By adding a `print` function at an appropriate point in the function, determine which nodes are added to the `frontier` list at each iteration of the `while` loop for node `2` of the egg-laying circuit.\n",
    "\n",
    ":::\n"
   ]
  },
  {
   "attachments": {},
   "cell_type": "markdown",
   "metadata": {},
   "source": [
    "The previous exercise should give you a clue as to how the `bfs` function can be adapted in order to determine path distances.\n",
    "\n",
    ":::{exercise}\n",
    ":label: exercise_path_distances_bfs\n",
    "\n",
    "By adapting the `bfs` function, Write a function `path_distances(adj, i)` which returns an Numpy array of path distances from node `i`. That is, if\n",
    "\n",
    "\n",
    "```\n",
    "x = path_distances(adj, i)\n",
    "```\n",
    "\n",
    "then `x[j]` is the length of the shortest path from node `i` to node `j`. If there is no path from node `i` to node `j` then set `x[j] = -1`\n",
    "\n",
    "Check that your function returns the correct values for the egg-laying circuit, as below.\n",
    "```\n",
    ">>> path_distances(c_elegans_graph, 2)\n",
    "array([-1., -1.,  0.,  1.,  1.,  2.,  1.])\n",
    "```\n",
    "\n",
    ":::"
   ]
  }
 ],
 "metadata": {
  "kernelspec": {
   "display_name": "Python 3",
   "language": "python",
   "name": "python3"
  },
  "language_info": {
   "codemirror_mode": {
    "name": "ipython",
    "version": 3
   },
   "file_extension": ".py",
   "mimetype": "text/x-python",
   "name": "python",
   "nbconvert_exporter": "python",
   "pygments_lexer": "ipython3",
   "version": "3.7.9 (tags/v3.7.9:13c94747c7, Aug 17 2020, 18:58:18) [MSC v.1900 64 bit (AMD64)]"
  },
  "orig_nbformat": 4,
  "vscode": {
   "interpreter": {
    "hash": "7924ab759b3df5cb48bbab33739b019b840d790ae77db55f5a743ebfebcfdc3f"
   }
  }
 },
 "nbformat": 4,
 "nbformat_minor": 2
}
