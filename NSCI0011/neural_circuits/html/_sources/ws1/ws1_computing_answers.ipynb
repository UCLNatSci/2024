{
 "cells": [
  {
   "attachments": {},
   "cell_type": "markdown",
   "metadata": {},
   "source": [
    "# Answers\n",
    "\n",
    ":::{solution} exercise_length_3_walk_nodes\n",
    ":::"
   ]
  },
  {
   "cell_type": "code",
   "execution_count": 2,
   "metadata": {},
   "outputs": [
    {
     "data": {
      "text/plain": [
       "[1, 2, 3, 5]"
      ]
     },
     "execution_count": 2,
     "metadata": {},
     "output_type": "execute_result"
    }
   ],
   "source": [
    "def length_3_walk_nodes(adj, i):\n",
    "    node_list = []\n",
    "    for j in adj[i]:\n",
    "        for k in adj[j]:\n",
    "            for q in adj[k]:\n",
    "                if not q in node_list:\n",
    "                    node_list.append(q)\n",
    "    return node_list\n",
    "\n",
    "c_elegans_graph = [[1, 2, 3], [0, 3], [3, 4, 6], [], [3], [3, 6], [2, 3, 5]]\n",
    "\n",
    "length_3_walk_nodes(c_elegans_graph, 0)"
   ]
  },
  {
   "attachments": {},
   "cell_type": "markdown",
   "metadata": {},
   "source": [
    ":::{solution} exercise_impossible_length_n_walk_nodes\n",
    "\n",
    "The function `length_2_walk_nodes` has two nested `for` loops. The function `length_3_walk_nodes` has three nested loops. A function `length_n_walk_nodes(adj, i, n)` would have to have `n` nested loops for arbitrary `n`. Such a structure doesn't exist in Python (or other programming languages, as far as I am aware...)\n",
    ":::\n",
    "\n",
    ":::{solution} exercise_bfs_egg_laying\n",
    "Nodes `0` and `1` are never visited because there exists no path from node `2` to node `0` or node `1` .\n",
    ":::"
   ]
  },
  {
   "cell_type": "code",
   "execution_count": 5,
   "metadata": {},
   "outputs": [
    {
     "data": {
      "text/plain": [
       "[2, 3, 4, 6, 5]"
      ]
     },
     "execution_count": 5,
     "metadata": {},
     "output_type": "execute_result"
    }
   ],
   "source": [
    "def bfs(adj, i):\n",
    "    visited = [i]\n",
    "    frontier = [i]\n",
    "\n",
    "    while len(frontier) > 0:\n",
    "        next = frontier\n",
    "        frontier = []\n",
    "        for j in next:\n",
    "            neighbours = adj[j]\n",
    "            for k in neighbours:\n",
    "                if not k in visited:\n",
    "                    frontier.append(k)\n",
    "                    visited.append(k)\n",
    "    return visited\n",
    "\n",
    "bfs(c_elegans_graph, 2)"
   ]
  },
  {
   "attachments": {},
   "cell_type": "markdown",
   "metadata": {},
   "source": [
    ":::{solution} exercise_print_bfs\n",
    ":::"
   ]
  },
  {
   "cell_type": "code",
   "execution_count": 6,
   "metadata": {},
   "outputs": [
    {
     "name": "stdout",
     "output_type": "stream",
     "text": [
      "[2]\n",
      "[3, 4, 6]\n",
      "[5]\n"
     ]
    },
    {
     "data": {
      "text/plain": [
       "[2, 3, 4, 6, 5]"
      ]
     },
     "execution_count": 6,
     "metadata": {},
     "output_type": "execute_result"
    }
   ],
   "source": [
    "def bfs(adj, i):\n",
    "    visited = [i]\n",
    "    frontier = [i]\n",
    "\n",
    "    while len(frontier) > 0:\n",
    "        print(frontier) # print nodes in the current frontier   \n",
    "        next = frontier\n",
    "        frontier = []\n",
    "        for j in next:\n",
    "            neighbours = adj[j]\n",
    "            for k in neighbours:\n",
    "                if not k in visited:\n",
    "                    frontier.append(k)\n",
    "                    visited.append(k)\n",
    "    return visited\n",
    "\n",
    "bfs(c_elegans_graph, 2)"
   ]
  },
  {
   "attachments": {},
   "cell_type": "markdown",
   "metadata": {},
   "source": [
    "`[2]` is level 0: just the starting node `2`.  \n",
    "`[3, 4, 6]` is level 1: nodes connected directly from node `2`.  \n",
    "`[5]` is level 2: nodes connected directly to nodes in level 1.\n",
    "\n",
    ":::{solution} exercise_path_distances_bfs\n",
    "\n",
    "The path distance to a node is just the number of the level that it appears in.\n",
    "\n",
    ":::"
   ]
  },
  {
   "cell_type": "code",
   "execution_count": 9,
   "metadata": {},
   "outputs": [
    {
     "data": {
      "text/plain": [
       "array([-1., -1.,  0.,  1.,  1.,  2.,  1.])"
      ]
     },
     "execution_count": 9,
     "metadata": {},
     "output_type": "execute_result"
    }
   ],
   "source": [
    "import numpy as np\n",
    "\n",
    "def path_distances(adj, i):\n",
    "    visited = [i]\n",
    "    frontier = [i]\n",
    "\n",
    "    # create an array of the correct length\n",
    "    distances = np.zeros(len(adj))\n",
    "    # set all nodes to a distance of -1\n",
    "    distances[:] = -1\n",
    "    # node i is at a distance 0\n",
    "    distances[i] = 0\n",
    "    # d will count the layers\n",
    "    d = 0\n",
    "    while len(frontier) > 0:\n",
    "        d += 1 # increase d by 1 at each iteration\n",
    "        next = frontier\n",
    "        frontier = []\n",
    "        for j in next:\n",
    "            neighbours = adj[j]\n",
    "            for k in neighbours:\n",
    "                if not k in visited:\n",
    "                    frontier.append(k)\n",
    "                    visited.append(k)\n",
    "                    distances[k] = d\n",
    "    return distances\n",
    "\n",
    "path_distances(c_elegans_graph, 2)"
   ]
  },
  {
   "cell_type": "code",
   "execution_count": null,
   "metadata": {},
   "outputs": [],
   "source": []
  }
 ],
 "metadata": {
  "kernelspec": {
   "display_name": "Python 3",
   "language": "python",
   "name": "python3"
  },
  "language_info": {
   "codemirror_mode": {
    "name": "ipython",
    "version": 3
   },
   "file_extension": ".py",
   "mimetype": "text/x-python",
   "name": "python",
   "nbconvert_exporter": "python",
   "pygments_lexer": "ipython3",
   "version": "3.7.9 (tags/v3.7.9:13c94747c7, Aug 17 2020, 18:58:18) [MSC v.1900 64 bit (AMD64)]"
  },
  "orig_nbformat": 4,
  "vscode": {
   "interpreter": {
    "hash": "7924ab759b3df5cb48bbab33739b019b840d790ae77db55f5a743ebfebcfdc3f"
   }
  }
 },
 "nbformat": 4,
 "nbformat_minor": 2
}
