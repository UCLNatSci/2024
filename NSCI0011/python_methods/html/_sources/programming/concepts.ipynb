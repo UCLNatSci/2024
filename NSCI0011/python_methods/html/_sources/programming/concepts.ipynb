{
 "cells": [
  {
   "attachments": {},
   "cell_type": "markdown",
   "metadata": {},
   "source": [
    "# Concepts"
   ]
  },
  {
   "attachments": {},
   "cell_type": "markdown",
   "metadata": {},
   "source": [
    "(types_section)=\n",
    "## Types\n",
    "\n",
    "Every variable has a **value** and a **type** which are specified at the moment of variable creation. Some common Python types are given below. It is important to know - and keep track of - the types of the variables you create since a variable's behaviour is determined by its type.\n",
    "\n",
    "|Data type|Description|Example|Mutability|\n",
    "|---|---|---|---|\n",
    "|`int`|Integer (whole number)|`x = 5`|immutable|\n",
    "|`float`|Floating-point number (fractional number)|`x = 5.0`|immutable|\n",
    "|`str`|String (sequence of characters)|`x = \"Five\"`|immutable|\n",
    "|`bool`|Boolean (true or false value)|`x = True`|immutable|\n",
    "|`list`|Heterogenous collection of values|`x = [1, 2, \"three\"]`|mutable|\n",
    "|`numpy.array`|Homogeneous collection of numerical values|`x = numpy.array([1.0, 2.5, 3.5])`|mutable|\n",
    "\n",
    "Python distinguishes between **mutable** and **immutable** types. This is an important distinction which we will study further later.\n"
   ]
  },
  {
   "attachments": {},
   "cell_type": "markdown",
   "metadata": {},
   "source": [
    "Use the built-in Python function `type` to determine the type of a variable:\n"
   ]
  },
  {
   "cell_type": "code",
   "execution_count": 1,
   "metadata": {},
   "outputs": [
    {
     "data": {
      "text/plain": [
       "int"
      ]
     },
     "execution_count": 1,
     "metadata": {},
     "output_type": "execute_result"
    }
   ],
   "source": [
    "x = 5\n",
    "type(x)"
   ]
  },
  {
   "cell_type": "code",
   "execution_count": 129,
   "metadata": {},
   "outputs": [
    {
     "data": {
      "text/plain": [
       "list"
      ]
     },
     "execution_count": 129,
     "metadata": {},
     "output_type": "execute_result"
    }
   ],
   "source": [
    "x = [5]\n",
    "type(x)"
   ]
  },
  {
   "attachments": {},
   "cell_type": "markdown",
   "metadata": {},
   "source": [
    "### Immutable Types\n",
    "\n",
    "An **immutable type** is a type whose value cannot be changed. Immutable types include numerical types (integers and floats) as well as strings and Booleans (true/false values). Python has specific syntax for creating these types:\n",
    "\n",
    " - Characters surrounded by quote marks `\"` or `'` result in a string;\n",
    " - numbers icluding a decimal point or is expressed in scientific notation result in a float (64-bit approximation to real numbers):\n",
    " - numbers without a decimal point result in an integer:\n",
    " - the keywords `True` and `False` are the only possible Boolean values."
   ]
  },
  {
   "cell_type": "code",
   "execution_count": 107,
   "metadata": {},
   "outputs": [
    {
     "data": {
      "text/plain": [
       "str"
      ]
     },
     "execution_count": 107,
     "metadata": {},
     "output_type": "execute_result"
    }
   ],
   "source": [
    "x = \"5\"\n",
    "type(x)"
   ]
  },
  {
   "cell_type": "code",
   "execution_count": 108,
   "metadata": {},
   "outputs": [
    {
     "data": {
      "text/plain": [
       "float"
      ]
     },
     "execution_count": 108,
     "metadata": {},
     "output_type": "execute_result"
    }
   ],
   "source": [
    "x = 5.5\n",
    "type(x)"
   ]
  },
  {
   "cell_type": "code",
   "execution_count": 109,
   "metadata": {},
   "outputs": [
    {
     "data": {
      "text/plain": [
       "float"
      ]
     },
     "execution_count": 109,
     "metadata": {},
     "output_type": "execute_result"
    }
   ],
   "source": [
    "x = 5e10\n",
    "type(x)"
   ]
  },
  {
   "attachments": {},
   "cell_type": "markdown",
   "metadata": {},
   "source": [
    "Note that if a decimal point is included, Python will always create a float rather than an integer. So `5.` and `5.0` are floats whereas `5` is an integer."
   ]
  },
  {
   "cell_type": "code",
   "execution_count": null,
   "metadata": {},
   "outputs": [],
   "source": [
    "x = 5\n",
    "type(x)"
   ]
  },
  {
   "cell_type": "code",
   "execution_count": 115,
   "metadata": {},
   "outputs": [
    {
     "data": {
      "text/plain": [
       "float"
      ]
     },
     "execution_count": 115,
     "metadata": {},
     "output_type": "execute_result"
    }
   ],
   "source": [
    "x = 5.\n",
    "type(x)"
   ]
  },
  {
   "attachments": {},
   "cell_type": "markdown",
   "metadata": {},
   "source": [
    "### Expressions\n",
    "\n",
    "A Python expression is a combination of values and operators that evaluates to a single value. For example `5 + 6` is an expression which evaluates to the number `11`. Python has in-built (and somewhat complicated) rules for determining the type of the resulting value. In general\n",
    " - if any of the values in an expression is a float, the result is a float;\n",
    " - if the expression contains only integers, the result is an integer when adding, subtracting or multiplying (`+`, `-`, `*`) but a float when dividing (`/`).\n"
   ]
  },
  {
   "cell_type": "code",
   "execution_count": null,
   "metadata": {},
   "outputs": [],
   "source": [
    "# adding two integers results in an integer\n",
    "x = 5 + 6 \n",
    "type(x) "
   ]
  },
  {
   "cell_type": "code",
   "execution_count": null,
   "metadata": {},
   "outputs": [],
   "source": [
    "# adding a float to a float results in a float\n",
    "x = 5.0 + 6.0\n",
    "type(x)"
   ]
  },
  {
   "cell_type": "code",
   "execution_count": null,
   "metadata": {},
   "outputs": [],
   "source": [
    "# adding a float to an integer results in a float\n",
    "x = 5.0 + 6\n",
    "type(x)"
   ]
  },
  {
   "attachments": {},
   "cell_type": "markdown",
   "metadata": {},
   "source": [
    "Take special care when dividing. Using `/` to Divide two integers **always** results in a float, even if the result is a whole number: "
   ]
  },
  {
   "cell_type": "code",
   "execution_count": 111,
   "metadata": {},
   "outputs": [
    {
     "data": {
      "text/plain": [
       "float"
      ]
     },
     "execution_count": 111,
     "metadata": {},
     "output_type": "execute_result"
    }
   ],
   "source": [
    "x = 6 / 3\n",
    "type(x) "
   ]
  },
  {
   "attachments": {},
   "cell_type": "markdown",
   "metadata": {},
   "source": [
    "If you would like the result to be an integer use the **integer division** operator `//`:"
   ]
  },
  {
   "cell_type": "code",
   "execution_count": 132,
   "metadata": {},
   "outputs": [
    {
     "data": {
      "text/plain": [
       "int"
      ]
     },
     "execution_count": 132,
     "metadata": {},
     "output_type": "execute_result"
    }
   ],
   "source": [
    "x = 6 // 3\n",
    "type(x)"
   ]
  },
  {
   "attachments": {},
   "cell_type": "markdown",
   "metadata": {},
   "source": [
    "In some cases, the operation performed by a particular symbol depends on the types within the expression of the object. For example `x + y` performs string concatentation if `x` and `y` are strings, whereas it performs addition if they are integers or floats."
   ]
  },
  {
   "cell_type": "code",
   "execution_count": 112,
   "metadata": {},
   "outputs": [
    {
     "data": {
      "text/plain": [
       "'56'"
      ]
     },
     "execution_count": 112,
     "metadata": {},
     "output_type": "execute_result"
    }
   ],
   "source": [
    "x = \"5\"\n",
    "y = \"6\"\n",
    "\n",
    "x + y"
   ]
  },
  {
   "cell_type": "code",
   "execution_count": 113,
   "metadata": {},
   "outputs": [
    {
     "data": {
      "text/plain": [
       "11"
      ]
     },
     "execution_count": 113,
     "metadata": {},
     "output_type": "execute_result"
    }
   ],
   "source": [
    "x = 5\n",
    "y = 6\n",
    "\n",
    "x + y"
   ]
  },
  {
   "attachments": {},
   "cell_type": "markdown",
   "metadata": {},
   "source": [
    "Depending on the type of `x` and `y`, it may not be possible to evaluate `x + y`, resulting in an error:"
   ]
  },
  {
   "cell_type": "code",
   "execution_count": 114,
   "metadata": {},
   "outputs": [
    {
     "ename": "TypeError",
     "evalue": "unsupported operand type(s) for +: 'int' and 'str'",
     "output_type": "error",
     "traceback": [
      "\u001b[1;31m---------------------------------------------------------------------------\u001b[0m",
      "\u001b[1;31mTypeError\u001b[0m                                 Traceback (most recent call last)",
      "\u001b[1;32m~\\AppData\\Local\\Temp\\ipykernel_16696\\844656764.py\u001b[0m in \u001b[0;36m<module>\u001b[1;34m\u001b[0m\n\u001b[0;32m      1\u001b[0m \u001b[0mx\u001b[0m \u001b[1;33m=\u001b[0m \u001b[1;36m5\u001b[0m\u001b[1;33m\u001b[0m\u001b[1;33m\u001b[0m\u001b[0m\n\u001b[0;32m      2\u001b[0m \u001b[0my\u001b[0m \u001b[1;33m=\u001b[0m \u001b[1;34m\"6\"\u001b[0m\u001b[1;33m\u001b[0m\u001b[1;33m\u001b[0m\u001b[0m\n\u001b[1;32m----> 3\u001b[1;33m \u001b[0mx\u001b[0m \u001b[1;33m+\u001b[0m \u001b[0my\u001b[0m\u001b[1;33m\u001b[0m\u001b[1;33m\u001b[0m\u001b[0m\n\u001b[0m",
      "\u001b[1;31mTypeError\u001b[0m: unsupported operand type(s) for +: 'int' and 'str'"
     ]
    }
   ],
   "source": [
    "x = 5\n",
    "y = \"6\"\n",
    "x + y"
   ]
  },
  {
   "attachments": {},
   "cell_type": "markdown",
   "metadata": {},
   "source": [
    "In general, Python does a good job of implicitly converting between float and int types, meaning that we can flexibly combine them in expressions. However, one important exception is when working with arrays or lists. **Array and list indexes must always be of integer type**."
   ]
  },
  {
   "cell_type": "code",
   "execution_count": 116,
   "metadata": {},
   "outputs": [
    {
     "data": {
      "text/plain": [
       "1"
      ]
     },
     "execution_count": 116,
     "metadata": {},
     "output_type": "execute_result"
    }
   ],
   "source": [
    "a = [1, 2, 3]\n",
    "a[0]"
   ]
  },
  {
   "cell_type": "code",
   "execution_count": 117,
   "metadata": {},
   "outputs": [
    {
     "ename": "TypeError",
     "evalue": "list indices must be integers or slices, not float",
     "output_type": "error",
     "traceback": [
      "\u001b[1;31m---------------------------------------------------------------------------\u001b[0m",
      "\u001b[1;31mTypeError\u001b[0m                                 Traceback (most recent call last)",
      "\u001b[1;32m~\\AppData\\Local\\Temp\\ipykernel_16696\\3734301883.py\u001b[0m in \u001b[0;36m<module>\u001b[1;34m\u001b[0m\n\u001b[1;32m----> 1\u001b[1;33m \u001b[0ma\u001b[0m\u001b[1;33m[\u001b[0m\u001b[1;36m0.0\u001b[0m\u001b[1;33m]\u001b[0m\u001b[1;33m\u001b[0m\u001b[1;33m\u001b[0m\u001b[0m\n\u001b[0m",
      "\u001b[1;31mTypeError\u001b[0m: list indices must be integers or slices, not float"
     ]
    }
   ],
   "source": [
    "a[0.0]"
   ]
  },
  {
   "attachments": {},
   "cell_type": "markdown",
   "metadata": {},
   "source": [
    "### Mutable Types\n",
    "\n",
    "A **mutable** type is a type whose value can be changed. Examples of mutable types are lists and arrays. These are 'container' data types which can contain other values. \n",
    "\n",
    "`list` is a built-in Python type and there is specific syntax for creating them using square brackets `[` and `]`."
   ]
  },
  {
   "cell_type": "code",
   "execution_count": 136,
   "metadata": {},
   "outputs": [
    {
     "name": "stdout",
     "output_type": "stream",
     "text": [
      "[0, 1, 2, 1]\n"
     ]
    }
   ],
   "source": [
    "x = [1, 2, 3, 4, 5]\n",
    "print(z)"
   ]
  },
  {
   "attachments": {},
   "cell_type": "markdown",
   "metadata": {},
   "source": [
    "An array is type belonging to the Numpy library, and therefore we must import `numpy` before we can create an array. Because `numpy.array` is not a built-in Python type, we we can only create an array by calling `numpy` functions. For example, the function `numpy.array` takes a Python list and returns an equivalent Numpy array."
   ]
  },
  {
   "cell_type": "code",
   "execution_count": 137,
   "metadata": {},
   "outputs": [
    {
     "name": "stdout",
     "output_type": "stream",
     "text": [
      "[1, 2, 3, 4, 5]\n",
      "[1 2 3 4 5]\n"
     ]
    }
   ],
   "source": [
    "import numpy as np\n",
    "\n",
    "x = [1, 2, 3, 4, 5]\n",
    "a = np.array(x)\n",
    "\n",
    "print(x)\n",
    "print(a)\n"
   ]
  },
  {
   "attachments": {},
   "cell_type": "markdown",
   "metadata": {},
   "source": [
    "Notice the subtle difference in how Python prints the list (with commas) vs the array (without commas).\n",
    "\n",
    "Even though arrays and lists are in many ways quite similar - containers for a sequence of data, accessed with square bracket notation - it is important to be aware of their differences. For example, arrays have an attribute `shape` which returns the dimensions of the array, whereas lists do not (see object syntax below).\n",
    "\n"
   ]
  },
  {
   "cell_type": "code",
   "execution_count": 139,
   "metadata": {},
   "outputs": [
    {
     "name": "stdout",
     "output_type": "stream",
     "text": [
      "(5,)\n"
     ]
    },
    {
     "ename": "AttributeError",
     "evalue": "'list' object has no attribute 'shape'",
     "output_type": "error",
     "traceback": [
      "\u001b[1;31m---------------------------------------------------------------------------\u001b[0m",
      "\u001b[1;31mAttributeError\u001b[0m                            Traceback (most recent call last)",
      "\u001b[1;32m~\\AppData\\Local\\Temp\\ipykernel_16696\\566023164.py\u001b[0m in \u001b[0;36m<module>\u001b[1;34m\u001b[0m\n\u001b[0;32m      1\u001b[0m \u001b[0mprint\u001b[0m\u001b[1;33m(\u001b[0m\u001b[0ma\u001b[0m\u001b[1;33m.\u001b[0m\u001b[0mshape\u001b[0m\u001b[1;33m)\u001b[0m\u001b[1;33m\u001b[0m\u001b[1;33m\u001b[0m\u001b[0m\n\u001b[1;32m----> 2\u001b[1;33m \u001b[0mprint\u001b[0m\u001b[1;33m(\u001b[0m\u001b[0mx\u001b[0m\u001b[1;33m.\u001b[0m\u001b[0mshape\u001b[0m\u001b[1;33m)\u001b[0m\u001b[1;33m\u001b[0m\u001b[1;33m\u001b[0m\u001b[0m\n\u001b[0m",
      "\u001b[1;31mAttributeError\u001b[0m: 'list' object has no attribute 'shape'"
     ]
    }
   ],
   "source": [
    "print(a.shape)\n",
    "print(x.shape)"
   ]
  },
  {
   "attachments": {},
   "cell_type": "markdown",
   "metadata": {},
   "source": [
    "Similarly, the `*` operation has a completely different effect on arrays vs lists:"
   ]
  },
  {
   "cell_type": "code",
   "execution_count": 140,
   "metadata": {},
   "outputs": [
    {
     "name": "stdout",
     "output_type": "stream",
     "text": [
      "[ 5 10 15 20 25]\n",
      "[1, 2, 3, 4, 5, 1, 2, 3, 4, 5, 1, 2, 3, 4, 5, 1, 2, 3, 4, 5, 1, 2, 3, 4, 5]\n"
     ]
    }
   ],
   "source": [
    "print(a * 5) # multplies each element of the array by 5\n",
    "print(x * 5) # contatentates 5 copies of the list"
   ]
  },
  {
   "attachments": {},
   "cell_type": "markdown",
   "metadata": {},
   "source": [
    ":::{admonition} Dot Notation\n",
    "\n",
    "We use special notation called **dot notation** to access attributes and methods specific to the type of a variable. For example, variables of string type have a method `split` which returns a list of strings:\n",
    "```\n",
    "x = \"Natural Sciences\"\n",
    "a = x.split()\n",
    "print(a)\n",
    "```\n",
    "```{code}\n",
    "['Natural', 'Sciences']\n",
    "```"
   ]
  },
  {
   "attachments": {},
   "cell_type": "markdown",
   "metadata": {},
   "source": [
    "### Type Conversion\n",
    "\n",
    "Sometimes we need to force Python to convert a value from one type to another. Use the Python functions `str`, `int` and `float` to convert a value to a string, integer and floating-point number respectively.\n",
    "\n",
    "For example, `5.0` is float. To convert it to an integer, use the function `int`:"
   ]
  },
  {
   "cell_type": "code",
   "execution_count": 2,
   "metadata": {},
   "outputs": [
    {
     "data": {
      "text/plain": [
       "float"
      ]
     },
     "execution_count": 2,
     "metadata": {},
     "output_type": "execute_result"
    }
   ],
   "source": [
    "x = 5.0\n",
    "type(x)"
   ]
  },
  {
   "cell_type": "code",
   "execution_count": 133,
   "metadata": {},
   "outputs": [
    {
     "data": {
      "text/plain": [
       "int"
      ]
     },
     "execution_count": 133,
     "metadata": {},
     "output_type": "execute_result"
    }
   ],
   "source": [
    "y = int(x)\n",
    "type(y)"
   ]
  },
  {
   "cell_type": "code",
   "execution_count": null,
   "metadata": {},
   "outputs": [],
   "source": []
  },
  {
   "attachments": {},
   "cell_type": "markdown",
   "metadata": {},
   "source": [
    ":::{exercise}\n",
    ":label: types_exercise\n",
    "\n",
    "1\\. What is the type of each of the variables `x`, `y`, `z`, `w` and `u`?\n",
    "\n",
    "```\n",
    "import numpy as np\n",
    "\n",
    "x = 5\n",
    "y = 1e6\n",
    "z = [10, 20]\n",
    "w = \"5\"\n",
    "u = np.array(z)\n",
    "```\n",
    "\n",
    "2\\.**Without using Python**, predict the **value** and **type** of the following expressions. Then use the using the Python console to check your answers.\n",
    "\n",
    "1. `x / x`\n",
    "2. `x // x`\n",
    "2. `z[x / x]`\n",
    "3. `w * 10`\n",
    "3. `z * 10`\n",
    "4. `z * 10.`\n",
    "5. `u * 10`\n",
    "6. `y + w`\n",
    "7. `u * z`\n",
    "\n",
    "3\\. For the expressions that result in an error, find a sensible way to fix the error.\n",
    ":::"
   ]
  },
  {
   "attachments": {},
   "cell_type": "markdown",
   "metadata": {},
   "source": [
    "(objects_section)=\n",
    "## Object References\n",
    "\n",
    "### Variable Assignment\n",
    "\n",
    "[See also https://nedbatchelder.com/text/names.html]\n",
    "\n",
    "We use the **assigment operator** `=` to assign a value (on the right-hand side) and to a variable (on the left-hand side).\n",
    "\n",
    "Consider what happens when we create a new variable `x` and assign it the value `5`.\n",
    "\n",
    "```\n",
    "x = 5\n",
    "```\n",
    "\n",
    "Python performs the following steps:\n",
    "\n",
    "\n",
    "1. Stores the value `5` (of data type `int`) in the computer's memory;\n",
    "2. Creates a variable with name `x` which refers to the the value `5`.\n",
    "\n",
    "The best way to visualise Python variables is as a ledger with variable names on the left, objects (with associated type) on the right, and arrows between them.\n",
    "\n",
    "![](p1.png)\n",
    "\n",
    ":::{attention}\n",
    "\n",
    "It is important to understand that the assignment operator `=` is *not* like 'equality' in mathematics. Python has another operator `==` which tests for equality. \n",
    "\n",
    "The Python assignment operator `=` *first* evaluates the expression on the right, and *then* assigns it to the variable on the left. The following is nonsense and will result in an error:\n",
    "\n",
    "```\n",
    "5 = x # error!\n",
    "```\n",
    ":::\n",
    "\n",
    "### Mutable vs Immutable Types\n",
    "\n",
    "Suppose we execute the following two lines of code.\n",
    "\n",
    "```\n",
    "x = 5\n",
    "y = x\n",
    "```\n",
    "\n",
    "1. Python stores the value `5` (int) and then assigns a new variable named `x` to it.  \n",
    "2. Python assigns a new variable named `y` to the value referred to by variable `x`.\n",
    "\n",
    "![](p2.png)\n",
    "\n",
    "Note that `x` and `y` refer to the *same* value `5`.\n",
    "\n",
    "Reassigning either of the variables `x` or `y` unlinks them so that they no longer point to the same object:\n",
    "\n",
    "```\n",
    "x = 5\n",
    "y = x\n",
    "x = 10\n",
    "```\n",
    "\n",
    "1. Python stores the value `5` (int) and then assigns a new variable named `x` to it.  \n",
    "2. Python assigns a new variable named `y` to the value referred to by variable `x`.\n",
    "3. Python stores the value `10` (int) and assigns the variable named `x` to it.\n",
    "\n",
    "![](p6.png)"
   ]
  },
  {
   "attachments": {},
   "cell_type": "markdown",
   "metadata": {},
   "source": [
    "Things get more interesting when we have a mutable type such as a list:\n",
    "\n",
    "```\n",
    "a = [1, 2, 3]\n",
    "```\n",
    "\n",
    "If we assign another variable to the list, we'll have two variables referring to the same list:\n",
    "\n",
    "```\n",
    "a = [1, 2, 3]\n",
    "b = a\n",
    "```\n",
    "\n",
    "![](p4.png)\n",
    "\n",
    "We now have a single list, referred to by two variables. \n",
    "\n",
    "**If we change the value of the list, the change affects all variables assigned to it.**"
   ]
  },
  {
   "cell_type": "code",
   "execution_count": 118,
   "metadata": {},
   "outputs": [
    {
     "name": "stdout",
     "output_type": "stream",
     "text": [
      "[1, 2, 3, 4]\n"
     ]
    }
   ],
   "source": [
    "a = [1, 2, 3]\n",
    "b = a\n",
    "\n",
    "a.append(4)\n",
    "\n",
    "print(a)"
   ]
  },
  {
   "cell_type": "code",
   "execution_count": 119,
   "metadata": {},
   "outputs": [
    {
     "name": "stdout",
     "output_type": "stream",
     "text": [
      "[1, 2, 3, 4]\n"
     ]
    }
   ],
   "source": [
    "print(b)"
   ]
  },
  {
   "attachments": {},
   "cell_type": "markdown",
   "metadata": {},
   "source": [
    "![](p5.png)"
   ]
  },
  {
   "attachments": {},
   "cell_type": "markdown",
   "metadata": {},
   "source": [
    "```{admonition} Summary\n",
    "1. Assignment never makes a copy of an object\n",
    "2. Mutating the value of an object changes the value of all variables assigned to it\n",
    "3. Only mutable objects can be changed. Objects of type `int`, `string`, `float` and `bool` are immutable, whereas most other types (including `list` and `numpy.array`) are mutable.\n",
    "```"
   ]
  },
  {
   "cell_type": "markdown",
   "metadata": {},
   "source": [
    "Recall that integers are immutable. This means that even though two variables refer to the same object, \n",
    "\n",
    "```\n",
    "x = 5\n",
    "y = x\n",
    "y = y + 1\n",
    "```\n",
    "\n",
    "- In the first line, Python creates an object `5` and assigns the variable named `x` to it.\n",
    "- In the second line, Python assigns the variable `y` to the object referred to by the variable `x`.\n",
    "- In the third line, Python evaluates the expression `y + 1`, stores the result in a new object and (re)assigns the variable `y` to it.\n",
    "\n",
    "![](p3.png)"
   ]
  },
  {
   "attachments": {},
   "cell_type": "markdown",
   "metadata": {},
   "source": [
    ":::{exercise}\n",
    ":label: reference_exercise\n",
    "\n",
    "What are the values of `x` and `y` after each executing each of the following?\n",
    "\n",
    "Try to answer them by sketching diagrams as above. Then, check your answer using the Python console.\n",
    "\n",
    "1\\.\n",
    "```\n",
    "x = 1\n",
    "y = x\n",
    "\n",
    "x += 5\n",
    "```\n",
    "\n",
    "(`a += b` is Python shorthand for `a = a + b`)\n",
    "\n",
    "2\\.\n",
    "```\n",
    "x = [1, 2]\n",
    "y = x\n",
    "\n",
    "x[0] = 10\n",
    "```\n",
    "\n",
    "3\\.\n",
    "```\n",
    "x = [1, 2, 3, 4]\n",
    "y = x[0]\n",
    "x[0] = 5\n",
    "```\n",
    "\n",
    "4\\.\n",
    "```\n",
    "x = 5\n",
    "y = [x, 2, 3]\n",
    "y[0] = 1\n",
    "```\n",
    ":::"
   ]
  },
  {
   "attachments": {},
   "cell_type": "markdown",
   "metadata": {},
   "source": [
    "(functions_section)=\n",
    "## Functions\n",
    "\n",
    "In Python, a function is a block of code defined with a name. We use functions whenever we need to perform the same task multiple times without writing the same code again. A function can take arguments and return a value.\n",
    "\n",
    "In the example below, `add_one` is a function with a single argument `x`.\n"
   ]
  },
  {
   "cell_type": "code",
   "execution_count": 121,
   "metadata": {},
   "outputs": [
    {
     "name": "stdout",
     "output_type": "stream",
     "text": [
      "5 6\n"
     ]
    }
   ],
   "source": [
    "def add_one(x):\n",
    "    result = x + 1\n",
    "    return result\n",
    "\n",
    "z = 5\n",
    "w = add_one(z)\n",
    "\n",
    "print(z, w)"
   ]
  },
  {
   "attachments": {},
   "cell_type": "markdown",
   "metadata": {},
   "source": [
    "### Variable Scope\n",
    "\n",
    "The **scope** of a variable refers to the context in which that variable is visible/accessible to the Python interpreter.\n",
    "\n",
    "In the example above, the following variables have **local scope** since they are accessible only within the function `add_one`. These local variables exist from the point they are created until the function exits.\n",
    "\n",
    "```\n",
    "x\n",
    "result\n",
    "```\n",
    "    \n",
    "The following variables have **global scope** since they are accessible throughout the code file. These global variables exits from the point they are created until the Python program terminates.\n",
    "\n",
    "```\n",
    "z\n",
    "w\n",
    "```\n",
    "\n",
    "Any attempt to access a local variable outside the scope of its function will result in a 'name not defined' error."
   ]
  },
  {
   "cell_type": "code",
   "execution_count": 122,
   "metadata": {},
   "outputs": [
    {
     "ename": "NameError",
     "evalue": "name 'result' is not defined",
     "output_type": "error",
     "traceback": [
      "\u001b[1;31m---------------------------------------------------------------------------\u001b[0m",
      "\u001b[1;31mNameError\u001b[0m                                 Traceback (most recent call last)",
      "\u001b[1;32m~\\AppData\\Local\\Temp\\ipykernel_16696\\4020751027.py\u001b[0m in \u001b[0;36m<module>\u001b[1;34m\u001b[0m\n\u001b[0;32m      6\u001b[0m \u001b[0mw\u001b[0m \u001b[1;33m=\u001b[0m \u001b[0madd_one\u001b[0m\u001b[1;33m(\u001b[0m\u001b[0mz\u001b[0m\u001b[1;33m)\u001b[0m\u001b[1;33m\u001b[0m\u001b[1;33m\u001b[0m\u001b[0m\n\u001b[0;32m      7\u001b[0m \u001b[1;33m\u001b[0m\u001b[0m\n\u001b[1;32m----> 8\u001b[1;33m \u001b[0mprint\u001b[0m\u001b[1;33m(\u001b[0m\u001b[0mresult\u001b[0m\u001b[1;33m)\u001b[0m\u001b[1;33m\u001b[0m\u001b[1;33m\u001b[0m\u001b[0m\n\u001b[0m",
      "\u001b[1;31mNameError\u001b[0m: name 'result' is not defined"
     ]
    }
   ],
   "source": [
    "def add_one(x):\n",
    "    result = x + 1\n",
    "    return result\n",
    "\n",
    "z = 5\n",
    "w = add_one(z)\n",
    "\n",
    "print(result)"
   ]
  },
  {
   "attachments": {},
   "cell_type": "markdown",
   "metadata": {},
   "source": [
    ":::{admonition} Variable Shadowing\n",
    ":class: warning\n",
    "\n",
    "Function arguments are always local variables. In the case that the function argument has the same name as a global variable, we end up with two variables with the same name, one of global scope and one of local scope.\n",
    "\n",
    "In the example below, the line `x = 5` creates a global variable called `x` and assigns it the value `5`. Then, inside the function a second variable with the same name `x` is created. The line `x = x + 1` is inside the function, and so only affects the local `x` and not the global `x`.\n",
    "\n",
    "```\n",
    "def add_one(x):\n",
    "    x = x + 1\n",
    "    return x\n",
    "\n",
    "x = 5\n",
    "w = add_one(x)\n",
    "print(x, w)\n",
    "```\n",
    "```\n",
    "5, 6\n",
    "```\n",
    "\n",
    "**Conclusion** It is bad practice to have global variables and function parameters with the same name. Avoid it!\n",
    ":::\n",
    "\n",
    ":::{exercise}\n",
    "\n",
    "The following four Python programs are attempts to increase the variable `x` by `10`.\n",
    "\n",
    " 1. Which of the four a - c will successfully increase `x` by `10`? \n",
    " 2. Which method is best? Explain why. What is wrong with the others?\n",
    "\n",
    "a\\.\n",
    "\n",
    "```\n",
    "def add_ten(x):\n",
    "    x += 10\n",
    "    return x\n",
    "\n",
    "x = 5\n",
    "add_ten(x)\n",
    "```\n",
    "\n",
    "b\\.\n",
    "\n",
    "```\n",
    "def add_ten(x):\n",
    "    x += 10\n",
    "    return x\n",
    "\n",
    "x = 5\n",
    "x = add_ten(x)\n",
    "```\n",
    "\n",
    "c\\.\n",
    "\n",
    "```\n",
    "def add_ten(val):\n",
    "    result = val + 10\n",
    "    return result\n",
    "\n",
    "x = 5\n",
    "x = add_ten(x)\n",
    "```\n",
    "\n",
    "d\\.\n",
    "\n",
    "```\n",
    "a = 10\n",
    "def add_something(x):\n",
    "    x += a\n",
    "    return x\n",
    "\n",
    "x = add_something(x)\n",
    "```\n",
    ":::"
   ]
  },
  {
   "attachments": {},
   "cell_type": "markdown",
   "metadata": {},
   "source": [
    "### Mutable Function Arguments\n",
    "\n",
    "Because function arguments are local variables, reassigning the value of the argument only has an effect inside the function. In the example below, on calling the function `add_one`, `x` is assigned to an object `5`. The line `x = x + 1` then reassigns the variable `x` to a new object `6`. Because `x` is a scoped within the function, this does not affect any other variables."
   ]
  },
  {
   "cell_type": "code",
   "execution_count": 125,
   "metadata": {},
   "outputs": [
    {
     "name": "stdout",
     "output_type": "stream",
     "text": [
      "5\n"
     ]
    }
   ],
   "source": [
    "def add_one(x):\n",
    "    x = x + 1\n",
    "\n",
    "z = 5\n",
    "add_one(z)\n",
    "print(z)"
   ]
  },
  {
   "attachments": {},
   "cell_type": "markdown",
   "metadata": {},
   "source": [
    "Now consider the example below. this time the funtion argument is of type `list`. Because lists are mutable, we can change its value inside the function. The line `x.append(1)` changes the value of the object that `x` refers to. Because the global variable `z` refers to the same object, the value of `z` changes too."
   ]
  },
  {
   "cell_type": "code",
   "execution_count": 127,
   "metadata": {},
   "outputs": [
    {
     "name": "stdout",
     "output_type": "stream",
     "text": [
      "[0, 1, 2, 1]\n"
     ]
    }
   ],
   "source": [
    "def add_element(x):\n",
    "    x.append(1)\n",
    "\n",
    "z = [0, 1, 2]\n",
    "add_element(z)\n",
    "print(z)"
   ]
  },
  {
   "attachments": {},
   "cell_type": "markdown",
   "metadata": {},
   "source": [
    ":::{attention}\n",
    "\n",
    "Functions can change the value of mutable arguments such as variables of type `list` or `numpy.array`.\n",
    "\n",
    "Functions cannot change the value of immutable arguments such as variables of type `int`, `float` or `string`.\n",
    "\n",
    ":::\n",
    "\n",
    "Functions which change the value of a mutable argument are said to modify the argument **in-place**. Such functions do not include a `return` statement.\n",
    "\n",
    "The following function increases every value of a list by 1 **in-place**."
   ]
  },
  {
   "cell_type": "code",
   "execution_count": 173,
   "metadata": {},
   "outputs": [
    {
     "name": "stdout",
     "output_type": "stream",
     "text": [
      "[11, 21, 31, 41]\n"
     ]
    }
   ],
   "source": [
    "def increase_by_1(x):\n",
    "    for i in range(len(x)):\n",
    "        x[i] = x[i] + 1\n",
    "\n",
    "z = [10, 20, 30, 40]\n",
    "increase_by_1(z)\n",
    "print(z)"
   ]
  },
  {
   "attachments": {},
   "cell_type": "markdown",
   "metadata": {},
   "source": [
    ":::{exercise}\n",
    "The function `rotate_left(x)` takes a list `x` and performs an in-place operation on it. Describe in words what the function does.\n",
    "\n",
    "```\n",
    "def rotate_left(x):\n",
    "    n = len(x)\n",
    "    a = x[0]\n",
    "    for i in range(len(x) - 1):\n",
    "        x[i] = x[i+1]\n",
    "    x[-1] = a\n",
    "```\n",
    "\n",
    "Now write a similar function `rotate_right`.\n",
    ":::"
   ]
  }
 ],
 "metadata": {
  "kernelspec": {
   "display_name": "Python 3",
   "language": "python",
   "name": "python3"
  },
  "language_info": {
   "codemirror_mode": {
    "name": "ipython",
    "version": 3
   },
   "file_extension": ".py",
   "mimetype": "text/x-python",
   "name": "python",
   "nbconvert_exporter": "python",
   "pygments_lexer": "ipython3",
   "version": "3.7.9"
  },
  "orig_nbformat": 4,
  "vscode": {
   "interpreter": {
    "hash": "7924ab759b3df5cb48bbab33739b019b840d790ae77db55f5a743ebfebcfdc3f"
   }
  }
 },
 "nbformat": 4,
 "nbformat_minor": 2
}
